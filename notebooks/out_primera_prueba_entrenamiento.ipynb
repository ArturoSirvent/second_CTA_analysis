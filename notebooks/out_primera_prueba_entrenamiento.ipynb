{
 "cells": [
  {
   "cell_type": "markdown",
   "id": "c9d6eb65",
   "metadata": {
    "papermill": {
     "duration": 0.011552,
     "end_time": "2022-11-09T07:43:41.234454",
     "exception": false,
     "start_time": "2022-11-09T07:43:41.222902",
     "status": "completed"
    },
    "tags": []
   },
   "source": [
    "# Creamos bucles para el entrenamiento sistematico  \n",
    "Esto incluye la carga de datos una vez (o varias si no nos cabe en memoria). Y luego el entrenamiento recursivo de modelos con diferentes parámetros. \n",
    "\n",
    "Tenemos que automatizar y hacer un buen control de errores en: \n",
    "\n",
    "    - Carga de datos.  \n",
    "        - La carga y el creado de barches etc.  \n",
    "    - Entrenamiento de modelos.  \n",
    "    - Sacar las metricas oportunas.  "
   ]
  },
  {
   "cell_type": "markdown",
   "id": "ee962ef2",
   "metadata": {
    "papermill": {
     "duration": 0.009411,
     "end_time": "2022-11-09T07:43:41.253682",
     "exception": false,
     "start_time": "2022-11-09T07:43:41.244271",
     "status": "completed"
    },
    "tags": []
   },
   "source": [
    "### Primera parte: Crear bucle carga de datos \n",
    "\n",
    "Vamos a tener en cuenta:  \n",
    "1. Que los datos se carge en memoria todos si caben.  \n",
    "2. Crear diferentes labels, para poder probar las diferentes opciones de agrupación.\n",
    "    - Lo hacemos para probar cual es la mejor agrupación. \n",
    "    \n",
    "**El tema de diferentes labels lo ponemos pendiente, por ahora tiramos con las que sabemos que funcionan, que son:**  \n",
    "- Gamma  \n",
    "- Electron  \n",
    "- Hadrones"
   ]
  },
  {
   "cell_type": "code",
   "execution_count": 1,
   "id": "b23f3fae",
   "metadata": {
    "execution": {
     "iopub.execute_input": "2022-11-09T07:43:41.273978Z",
     "iopub.status.busy": "2022-11-09T07:43:41.273656Z",
     "iopub.status.idle": "2022-11-09T07:43:41.284887Z",
     "shell.execute_reply": "2022-11-09T07:43:41.283867Z"
    },
    "papermill": {
     "duration": 0.024103,
     "end_time": "2022-11-09T07:43:41.287217",
     "exception": false,
     "start_time": "2022-11-09T07:43:41.263114",
     "status": "completed"
    },
    "tags": []
   },
   "outputs": [],
   "source": [
    "import sys\n",
    "sys.path.append('../src/CTA-data-analisis-library/')"
   ]
  },
  {
   "cell_type": "code",
   "execution_count": 2,
   "id": "f3d0acd2",
   "metadata": {
    "execution": {
     "iopub.execute_input": "2022-11-09T07:43:41.309377Z",
     "iopub.status.busy": "2022-11-09T07:43:41.309115Z",
     "iopub.status.idle": "2022-11-09T07:43:45.422527Z",
     "shell.execute_reply": "2022-11-09T07:43:45.421701Z"
    },
    "papermill": {
     "duration": 4.126273,
     "end_time": "2022-11-09T07:43:45.424757",
     "exception": false,
     "start_time": "2022-11-09T07:43:41.298484",
     "status": "completed"
    },
    "tags": []
   },
   "outputs": [],
   "source": [
    "#cargamos librerias \n",
    "import os \n",
    "import subprocess\n",
    "from datetime import datetime\n",
    "import numpy as np \n",
    "import glob\n",
    "import matplotlib.pyplot as plt\n",
    "import tensorflow as tf \n",
    "import psutil\n",
    "import re\n",
    "import random\n",
    "import shutil\n",
    "import pickle\n",
    "\n",
    "#propias\n",
    "import unzipdata_and_first_treatments as manipulate\n",
    "import loaddata4use\n",
    "import model_creation_functions as models"
   ]
  },
  {
   "cell_type": "markdown",
   "id": "5082920e",
   "metadata": {
    "papermill": {
     "duration": 0.009583,
     "end_time": "2022-11-09T07:43:45.444478",
     "exception": false,
     "start_time": "2022-11-09T07:43:45.434895",
     "status": "completed"
    },
    "tags": []
   },
   "source": [
    "### Primero vamos a experimentar con el tema de la memoria, para poder entrenar al máximo sin que se quede colgado"
   ]
  },
  {
   "cell_type": "raw",
   "id": "20d2e9f0",
   "metadata": {
    "papermill": {
     "duration": 0.009471,
     "end_time": "2022-11-09T07:43:45.463494",
     "exception": false,
     "start_time": "2022-11-09T07:43:45.454023",
     "status": "completed"
    },
    "tags": []
   },
   "source": [
    "print(\"Total:\" ,psutil.virtual_memory().total >> 30, \"Gb\")\n",
    "print(\"Disponible:\" ,psutil.virtual_memory().available >> 30, \"Gb\")\n",
    "\n",
    "#x << y\n",
    "# Returns x with the bits shifted to the left by y places (and new bits on the right-hand-side are zeros). \n",
    "#This is the same as multiplying x by 2**y. (1024**3 = 2**30) wow "
   ]
  },
  {
   "cell_type": "markdown",
   "id": "b1505458",
   "metadata": {
    "papermill": {
     "duration": 0.009442,
     "end_time": "2022-11-09T07:43:45.482606",
     "exception": false,
     "start_time": "2022-11-09T07:43:45.473164",
     "status": "completed"
    },
    "tags": []
   },
   "source": [
    "Tenemos muy poca ram disponible, por ello, vamos a optar por una alternativa de entrenamiento por fases, intentando que el modelo vea todos los datos posibles, pero que no olvide o se vea sesgado por subconjuntos de datos que se desvíen mucho de la distribución general de estos."
   ]
  },
  {
   "cell_type": "code",
   "execution_count": 3,
   "id": "e688f7d8",
   "metadata": {
    "execution": {
     "iopub.execute_input": "2022-11-09T07:43:45.503012Z",
     "iopub.status.busy": "2022-11-09T07:43:45.502735Z",
     "iopub.status.idle": "2022-11-09T07:43:45.507355Z",
     "shell.execute_reply": "2022-11-09T07:43:45.506552Z"
    },
    "papermill": {
     "duration": 0.017288,
     "end_time": "2022-11-09T07:43:45.509441",
     "exception": false,
     "start_time": "2022-11-09T07:43:45.492153",
     "status": "completed"
    },
    "tags": []
   },
   "outputs": [],
   "source": [
    "#enviroment variables\n",
    "npy_final_dir=\"../datos/elementos_npy\"\n",
    "base_dir_elementos=\"../datos/elementos\"\n",
    "elements=['gamma', 'electron', 'proton', 'helium', 'iron', 'nitrogen', 'silicon']"
   ]
  },
  {
   "cell_type": "raw",
   "id": "8214da27",
   "metadata": {
    "papermill": {
     "duration": 0.009529,
     "end_time": "2022-11-09T07:43:45.528608",
     "exception": false,
     "start_time": "2022-11-09T07:43:45.519079",
     "status": "completed"
    },
    "tags": []
   },
   "source": [
    "#vamos a llevar un recuento del espacio usado\n",
    "sizes=[]\n",
    "for j in elements:\n",
    "    aux_dir=npy_final_dir+\"/npy_\"+j\n",
    "    print(aux_dir)\n",
    "    sizes.append({i:(os.path.getsize(os.path.join(aux_dir,i))>>20) for i in os.listdir(aux_dir) if not re.search(\"^id_\",i)})\n",
    "    "
   ]
  },
  {
   "cell_type": "raw",
   "id": "e5c24275",
   "metadata": {
    "papermill": {
     "duration": 0.009577,
     "end_time": "2022-11-09T07:43:45.547882",
     "exception": false,
     "start_time": "2022-11-09T07:43:45.538305",
     "status": "completed"
    },
    "tags": []
   },
   "source": [
    "#vamos a ver el tamaño medio de cada uno de los npy de los elementos\n",
    "avg_size=[]\n",
    "plt.figure(figsize=(15,8))\n",
    "for j,i in enumerate(elements):\n",
    "    plt.subplot(4,2,j+1)\n",
    "    plt.hist(list(sizes[j].values()),bins=30)\n",
    "    avg_size.append(np.mean(list(sizes[j].values())))\n",
    "    plt.title(i+\" mean: {0:.5g} Mb\".format(avg_size[j]))\n",
    "plt.tight_layout()"
   ]
  },
  {
   "cell_type": "markdown",
   "id": "19d8bdd6",
   "metadata": {
    "papermill": {
     "duration": 0.009505,
     "end_time": "2022-11-09T07:43:45.566915",
     "exception": false,
     "start_time": "2022-11-09T07:43:45.557410",
     "status": "completed"
    },
    "tags": []
   },
   "source": [
    "Buenos, podemos ver como los archivos de gamma son mucho más pesados, 4 veces o más. "
   ]
  },
  {
   "cell_type": "markdown",
   "id": "0a02d9cf",
   "metadata": {
    "papermill": {
     "duration": 0.009493,
     "end_time": "2022-11-09T07:43:45.586050",
     "exception": false,
     "start_time": "2022-11-09T07:43:45.576557",
     "status": "completed"
    },
    "tags": []
   },
   "source": [
    "La idea va a ser hacer un boostrap (no se si es exactamente eso, pero creo que sí). En el que vayamos cogiendo de un conjunto grande de train, vamos a ir escogiendo aleatoriamente, y finalmente, tras muchas cargas entrenamientos y tal, en teoría el modelo las habra visto todas en un orden aleatorio, repitiendo etc.\n",
    "\n",
    "**Por el momento no voy a hacer un tratamiento intensivo del desbalanceo.**  \n",
    "**Voy a separar un 10% de las npy files en otro directorio para que podamos coger aleatoriamente del directorio npy_base**"
   ]
  },
  {
   "cell_type": "raw",
   "id": "4bf4a410",
   "metadata": {
    "papermill": {
     "duration": 0.009575,
     "end_time": "2022-11-09T07:43:45.605171",
     "exception": false,
     "start_time": "2022-11-09T07:43:45.595596",
     "status": "completed"
    },
    "tags": []
   },
   "source": [
    "#separación de un 10% de los files en otro directorio\n",
    "a=[]\n",
    "PORCENTAJE=0.05 #el 5%x4(tels) seran los archivos desplazados\n",
    "npy_test_dir=\"../datos/elementos_npy_test/\"\n",
    "for ind,elem in enumerate(elements):\n",
    "    elem_dir=os.path.join(npy_final_dir,\"npy_\"+elem)\n",
    "    test_element_dir=os.path.join(npy_test_dir,\"npy_\"+elem)\n",
    "    #vemos si existe y sino lo creamos \n",
    "    if not os.path.exists(test_element_dir):\n",
    "        os.mkdir(test_element_dir)\n",
    "    \n",
    "    #vamos a sacar las runs y vamos a coger un 10% de ellas, PARA TODOS LOS TELESCOPIOS\n",
    "    total_files=[i for i in os.listdir(elem_dir) if re.search(\"^npy_\",i)]\n",
    "\n",
    "    total_runs=[int(re.search(\"run_([0-9]{3})_0\\.npy\",i).group(1)) for i in os.listdir(elem_dir) if re.search(\"^npy_\",i)]\n",
    "    selected_runs=random.sample(total_runs,round(len(total_runs)*(PORCENTAJE)))\n",
    "    \n",
    "    #ahora con las runs construimos las selected files y punto\n",
    "    selected_files=[i for i in total_files if int(re.search(\"run_([0-9]{3})_0\\.npy\",i).group(1)) in selected_runs]\n",
    "    \n",
    "    \n",
    "    #ahora movemos los archivos\n",
    "    for k in selected_files:\n",
    "        print(k)\n",
    "        a.append(k)\n",
    "        #los movemos\n",
    "        src_npy=os.path.join(elem_dir,k)\n",
    "        dst_npy=os.path.join(test_element_dir,k)\n",
    "        \n",
    "        src_id_npy=os.path.join(elem_dir,\"id_eventos_\"+k[:-6]+\".npy\")\n",
    "        dst_id_npy=os.path.join(test_element_dir,\"id_eventos_\"+k[:-6]+\".npy\")\n",
    "        \n",
    "        #hacemos que si algo va mal, devolvemos los files a donde corresponden\n",
    "        if false:\n",
    "            shutil.move(src_npy,dst_npy)\n",
    "            shutil.move(src_id_npy,dst_id_npy)\n",
    "#ya no hace mas falta\n",
    "            "
   ]
  },
  {
   "cell_type": "raw",
   "id": "fc3b79f2",
   "metadata": {
    "papermill": {
     "duration": 0.009489,
     "end_time": "2022-11-09T07:43:45.624238",
     "exception": false,
     "start_time": "2022-11-09T07:43:45.614749",
     "status": "completed"
    },
    "tags": []
   },
   "source": [
    "#para comprobar que lo estamos haciendo bien\n",
    "print(len(a))\n",
    "sorted(a,key=lambda x : int(re.findall(\"run_([0-9]{3})\",x)[0]))"
   ]
  },
  {
   "cell_type": "markdown",
   "id": "94739c7c",
   "metadata": {
    "papermill": {
     "duration": 0.009557,
     "end_time": "2022-11-09T07:43:45.643439",
     "exception": false,
     "start_time": "2022-11-09T07:43:45.633882",
     "status": "completed"
    },
    "tags": []
   },
   "source": [
    "```{bash}\n",
    "[arturoSF@invidere datos]$ ls elementos_npy_test/*/*.npy | wc -l  \n",
    "1456  \n",
    "[arturoSF@invidere datos]$ ls elementos_npy/*/*.npy | wc -l  \n",
    "6225  \n",
    "```"
   ]
  },
  {
   "cell_type": "raw",
   "id": "e7d79cb3",
   "metadata": {
    "papermill": {
     "duration": 0.009612,
     "end_time": "2022-11-09T07:43:45.662736",
     "exception": false,
     "start_time": "2022-11-09T07:43:45.653124",
     "status": "completed"
    },
    "scrolled": true,
    "tags": []
   },
   "source": [
    "#vamos patras\n",
    "npy_test_dir=\"../datos/elementos_npy_test/\"\n",
    "for ind,elem in enumerate(elements):\n",
    "    elem_dir=os.path.join(npy_final_dir,\"npy_\"+elem)\n",
    "    test_element_dir=os.path.join(npy_test_dir,\"npy_\"+elem)\n",
    "\n",
    "    #ahora cogemos todo\n",
    "    total_files=[i for i in os.listdir(test_element_dir) if re.search(\"^npy_\",i)]\n",
    "    #ahora movemos los archivos\n",
    "    for k in total_files:\n",
    "        print(k)\n",
    "        #los movemos\n",
    "        src_npy=os.path.join(elem_dir,k)\n",
    "        dst_npy=os.path.join(test_element_dir,k)\n",
    "        \n",
    "        src_id_npy=os.path.join(elem_dir,\"id_eventos_\"+k[:-6]+\".npy\")\n",
    "        dst_id_npy=os.path.join(test_element_dir,\"id_eventos_\"+k[:-6]+\".npy\")\n",
    "        shutil.move(dst_npy,src_npy)\n",
    "        shutil.move(dst_id_npy,src_id_npy)"
   ]
  },
  {
   "cell_type": "markdown",
   "id": "3a69fdc9",
   "metadata": {
    "papermill": {
     "duration": 0.009503,
     "end_time": "2022-11-09T07:43:45.681799",
     "exception": false,
     "start_time": "2022-11-09T07:43:45.672296",
     "status": "completed"
    },
    "tags": []
   },
   "source": [
    "### Ciclo de carga de datos \n",
    "\n",
    "La idea es cargar x datos en memoria y entrenar, luego cargar otra vez aleatoriamente x datos y sigue.  \n",
    "Pero la duda es cuantos cargar, porque solo tenemos 5 Gb disponibles y esto aun sin contar con que tenemos el modelo en memoria.\n"
   ]
  },
  {
   "cell_type": "markdown",
   "id": "afea9693",
   "metadata": {
    "papermill": {
     "duration": 0.009522,
     "end_time": "2022-11-09T07:43:45.701002",
     "exception": false,
     "start_time": "2022-11-09T07:43:45.691480",
     "status": "completed"
    },
    "tags": []
   },
   "source": [
    "#### Troubleshoting main_list\n",
    "Necesitamos crear la main_list pero a partir de lo que tenemos disponible, entonces, lo que vamos a hacer es una funcion que escoja segun lo disponible y punto, lo único que necesitamos es extraer las runs disponibles para cada elemento."
   ]
  },
  {
   "cell_type": "code",
   "execution_count": 4,
   "id": "3e025e6c",
   "metadata": {
    "execution": {
     "iopub.execute_input": "2022-11-09T07:43:45.721466Z",
     "iopub.status.busy": "2022-11-09T07:43:45.721187Z",
     "iopub.status.idle": "2022-11-09T07:43:45.727038Z",
     "shell.execute_reply": "2022-11-09T07:43:45.726432Z"
    },
    "papermill": {
     "duration": 0.018474,
     "end_time": "2022-11-09T07:43:45.729030",
     "exception": false,
     "start_time": "2022-11-09T07:43:45.710556",
     "status": "completed"
    },
    "tags": []
   },
   "outputs": [],
   "source": [
    "def runs_disponibles(npy_dir,elements):\n",
    "    lista=[]\n",
    "    for i in elements:\n",
    "        npy_element_dir=os.path.join(npy_dir,\"npy_\"+i)\n",
    "        runs=[int(re.search(\"run_([0-9]{3})_0\\.npy\",i).group(1)) for i in os.listdir(npy_element_dir) if re.search(\"run_([0-9]{3})_0\\.npy\",i)]\n",
    "        lista.append(runs)\n",
    "    return lista"
   ]
  },
  {
   "cell_type": "code",
   "execution_count": 5,
   "id": "5fddc8e5",
   "metadata": {
    "execution": {
     "iopub.execute_input": "2022-11-09T07:43:45.749546Z",
     "iopub.status.busy": "2022-11-09T07:43:45.749283Z",
     "iopub.status.idle": "2022-11-09T07:43:45.806536Z",
     "shell.execute_reply": "2022-11-09T07:43:45.805534Z"
    },
    "papermill": {
     "duration": 0.070125,
     "end_time": "2022-11-09T07:43:45.808866",
     "exception": false,
     "start_time": "2022-11-09T07:43:45.738741",
     "status": "completed"
    },
    "tags": []
   },
   "outputs": [
    {
     "name": "stdout",
     "output_type": "stream",
     "text": [
      "Para la run: 2  hay problemas.  [2, 0, 4, 0, 4, 4, 4]\n",
      "Para la run: 3  hay problemas.  [3, 4, 4, 4, 4, 4, 4]\n"
     ]
    }
   ],
   "source": [
    "\n",
    "res=[np.array(i) for i in runs_disponibles(npy_final_dir,elements)]\n",
    "total={}\n",
    "for i in range(1,180):\n",
    "    aux=[]\n",
    "    for j in res:\n",
    "        aux.append(np.sum(j==i))\n",
    "        \n",
    "    total[str(i)]=aux\n",
    "      \n",
    "for i in total:\n",
    "    if ((1 in total[i]) | (2 in total[i]) | (3 in total[i])):\n",
    "        print(\"Para la run:\", i,\" hay problemas. \", total[i])"
   ]
  },
  {
   "cell_type": "markdown",
   "id": "bfc4d608",
   "metadata": {
    "papermill": {
     "duration": 0.0098,
     "end_time": "2022-11-09T07:43:45.828970",
     "exception": false,
     "start_time": "2022-11-09T07:43:45.819170",
     "status": "completed"
    },
    "tags": []
   },
   "source": [
    "Ahora ya tenemos todas las opciones de runs a correr, solo vamos a quitar nosotros la 2 y la 3 de gamma a mano, que dan problemas, y el estos se elegiran de forma aleatoria."
   ]
  },
  {
   "cell_type": "code",
   "execution_count": 6,
   "id": "85754a7f",
   "metadata": {
    "execution": {
     "iopub.execute_input": "2022-11-09T07:43:45.850006Z",
     "iopub.status.busy": "2022-11-09T07:43:45.849737Z",
     "iopub.status.idle": "2022-11-09T07:43:45.880977Z",
     "shell.execute_reply": "2022-11-09T07:43:45.879958Z"
    },
    "papermill": {
     "duration": 0.044419,
     "end_time": "2022-11-09T07:43:45.883251",
     "exception": false,
     "start_time": "2022-11-09T07:43:45.838832",
     "status": "completed"
    },
    "tags": []
   },
   "outputs": [],
   "source": [
    "chose_runs=runs_disponibles(npy_final_dir,elements)\n",
    "chose_runs[0].remove(2)\n",
    "chose_runs[0].remove(2)\n",
    "chose_runs[0].remove(3)\n",
    "chose_runs[0].remove(3)\n",
    "chose_runs[0].remove(3)\n",
    "#rapido y mal"
   ]
  },
  {
   "cell_type": "code",
   "execution_count": 7,
   "id": "572ef830",
   "metadata": {
    "execution": {
     "iopub.execute_input": "2022-11-09T07:43:45.904346Z",
     "iopub.status.busy": "2022-11-09T07:43:45.904072Z",
     "iopub.status.idle": "2022-11-09T07:43:45.909664Z",
     "shell.execute_reply": "2022-11-09T07:43:45.908706Z"
    },
    "papermill": {
     "duration": 0.018469,
     "end_time": "2022-11-09T07:43:45.911734",
     "exception": false,
     "start_time": "2022-11-09T07:43:45.893265",
     "status": "completed"
    },
    "tags": []
   },
   "outputs": [],
   "source": [
    "def new_create_main_list_runs(number_runs_per_element,posibles_runs):\n",
    "    #esto es aleatorio por defecto, porque es lo unico que necesito por ahora    \n",
    "    final=[]\n",
    "    for ind,lista_runs_element in enumerate(chose_runs):\n",
    "        final.append(random.sample(lista_runs_element,number_runs_per_element[ind]))\n",
    "    return final"
   ]
  },
  {
   "cell_type": "code",
   "execution_count": 8,
   "id": "6b7d1302",
   "metadata": {
    "execution": {
     "iopub.execute_input": "2022-11-09T07:43:45.932981Z",
     "iopub.status.busy": "2022-11-09T07:43:45.932722Z",
     "iopub.status.idle": "2022-11-09T07:43:45.950665Z",
     "shell.execute_reply": "2022-11-09T07:43:45.949720Z"
    },
    "papermill": {
     "duration": 0.031475,
     "end_time": "2022-11-09T07:43:45.953349",
     "exception": false,
     "start_time": "2022-11-09T07:43:45.921874",
     "status": "completed"
    },
    "tags": []
   },
   "outputs": [
    {
     "data": {
      "text/plain": [
       "[[24, 29, 25, 33, 45, 17],\n",
       " [100, 84, 10, 30, 8, 81, 12, 26, 4],\n",
       " [141, 98, 83, 154, 56, 128, 156, 75, 144],\n",
       " [101, 28, 24, 5, 43, 9, 128, 129, 122],\n",
       " [4, 162, 16, 2, 114, 169, 82, 117, 79],\n",
       " [127, 104, 7, 131, 56, 39, 67, 18, 103],\n",
       " [53, 56, 13, 68, 46, 61, 58, 37, 96]]"
      ]
     },
     "execution_count": 8,
     "metadata": {},
     "output_type": "execute_result"
    }
   ],
   "source": [
    "#prueba de carga de datos \n",
    "\n",
    "#en lugar de usar esta carga de datos\n",
    "#list_runs=loaddata4use.create_main_list_runs(num_events=2,init_events=4)\n",
    "\n",
    "#usamos esta otra\n",
    "list_runs=new_create_main_list_runs([6,9,9,9,9,9,9],chose_runs)\n",
    "list_runs"
   ]
  },
  {
   "cell_type": "code",
   "execution_count": 9,
   "id": "920d4062",
   "metadata": {
    "execution": {
     "iopub.execute_input": "2022-11-09T07:43:45.975583Z",
     "iopub.status.busy": "2022-11-09T07:43:45.975297Z",
     "iopub.status.idle": "2022-11-09T07:57:13.184179Z",
     "shell.execute_reply": "2022-11-09T07:57:13.183046Z"
    },
    "papermill": {
     "duration": 807.222565,
     "end_time": "2022-11-09T07:57:13.186532",
     "exception": false,
     "start_time": "2022-11-09T07:43:45.963967",
     "status": "completed"
    },
    "scrolled": true,
    "tags": []
   },
   "outputs": [
    {
     "name": "stdout",
     "output_type": "stream",
     "text": [
      "Load of names and common events\n",
      "_______________\n",
      "0 ;  Element:  gamma  , Runs:  [24, 29, 25, 33, 45, 17]  Shape of common events (tels,common events):  (4, 1117)\n",
      "1 ;  Element:  gamma  , Runs:  [24, 29, 25, 33, 45, 17]  Shape of common events (tels,common events):  (4, 1094)\n",
      "2 ;  Element:  gamma  , Runs:  [24, 29, 25, 33, 45, 17]  Shape of common events (tels,common events):  (4, 1082)\n",
      "3 ;  Element:  gamma  , Runs:  [24, 29, 25, 33, 45, 17]  Shape of common events (tels,common events):  (4, 1137)\n",
      "4 ;  Element:  gamma  , Runs:  [24, 29, 25, 33, 45, 17]  Shape of common events (tels,common events):  (4, 1143)\n",
      "5 ;  Element:  gamma  , Runs:  [24, 29, 25, 33, 45, 17]  Shape of common events (tels,common events):  (4, 1116)\n",
      "0 ;  Element:  electron  , Runs:  [100, 84, 10, 30, 8, 81, 12, 26, 4]  Shape of common events (tels,common events):  (4, 251)\n",
      "1 ;  Element:  electron  , Runs:  [100, 84, 10, 30, 8, 81, 12, 26, 4]  Shape of common events (tels,common events):  (4, 245)\n",
      "2 ;  Element:  electron  , Runs:  [100, 84, 10, 30, 8, 81, 12, 26, 4]  Shape of common events (tels,common events):  (4, 250)\n",
      "3 ;  Element:  electron  , Runs:  [100, 84, 10, 30, 8, 81, 12, 26, 4]  Shape of common events (tels,common events):  (4, 284)\n",
      "4 ;  Element:  electron  , Runs:  [100, 84, 10, 30, 8, 81, 12, 26, 4]  Shape of common events (tels,common events):  (4, 271)\n",
      "5 ;  Element:  electron  , Runs:  [100, 84, 10, 30, 8, 81, 12, 26, 4]  Shape of common events (tels,common events):  (4, 244)\n",
      "6 ;  Element:  electron  , Runs:  [100, 84, 10, 30, 8, 81, 12, 26, 4]  Shape of common events (tels,common events):  (4, 247)\n",
      "7 ;  Element:  electron  , Runs:  [100, 84, 10, 30, 8, 81, 12, 26, 4]  Shape of common events (tels,common events):  (4, 246)\n",
      "8 ;  Element:  electron  , Runs:  [100, 84, 10, 30, 8, 81, 12, 26, 4]  Shape of common events (tels,common events):  (4, 224)\n",
      "0 ;  Element:  proton  , Runs:  [141, 98, 83, 154, 56, 128, 156, 75, 144]  Shape of common events (tels,common events):  (4, 155)\n",
      "1 ;  Element:  proton  , Runs:  [141, 98, 83, 154, 56, 128, 156, 75, 144]  Shape of common events (tels,common events):  (4, 167)\n",
      "2 ;  Element:  proton  , Runs:  [141, 98, 83, 154, 56, 128, 156, 75, 144]  Shape of common events (tels,common events):  (4, 158)\n",
      "3 ;  Element:  proton  , Runs:  [141, 98, 83, 154, 56, 128, 156, 75, 144]  Shape of common events (tels,common events):  (4, 166)\n",
      "4 ;  Element:  proton  , Runs:  [141, 98, 83, 154, 56, 128, 156, 75, 144]  Shape of common events (tels,common events):  (4, 152)\n",
      "5 ;  Element:  proton  , Runs:  [141, 98, 83, 154, 56, 128, 156, 75, 144]  Shape of common events (tels,common events):  (4, 193)\n",
      "6 ;  Element:  proton  , Runs:  [141, 98, 83, 154, 56, 128, 156, 75, 144]  Shape of common events (tels,common events):  (4, 168)\n",
      "7 ;  Element:  proton  , Runs:  [141, 98, 83, 154, 56, 128, 156, 75, 144]  Shape of common events (tels,common events):  (4, 172)\n",
      "8 ;  Element:  proton  , Runs:  [141, 98, 83, 154, 56, 128, 156, 75, 144]  Shape of common events (tels,common events):  (4, 143)\n",
      "0 ;  Element:  helium  , Runs:  [101, 28, 24, 5, 43, 9, 128, 129, 122]  Shape of common events (tels,common events):  (4, 272)\n",
      "1 ;  Element:  helium  , Runs:  [101, 28, 24, 5, 43, 9, 128, 129, 122]  Shape of common events (tels,common events):  (4, 226)\n",
      "2 ;  Element:  helium  , Runs:  [101, 28, 24, 5, 43, 9, 128, 129, 122]  Shape of common events (tels,common events):  (4, 243)\n",
      "3 ;  Element:  helium  , Runs:  [101, 28, 24, 5, 43, 9, 128, 129, 122]  Shape of common events (tels,common events):  (4, 227)\n",
      "4 ;  Element:  helium  , Runs:  [101, 28, 24, 5, 43, 9, 128, 129, 122]  Shape of common events (tels,common events):  (4, 238)\n",
      "5 ;  Element:  helium  , Runs:  [101, 28, 24, 5, 43, 9, 128, 129, 122]  Shape of common events (tels,common events):  (4, 252)\n",
      "6 ;  Element:  helium  , Runs:  [101, 28, 24, 5, 43, 9, 128, 129, 122]  Shape of common events (tels,common events):  (4, 223)\n",
      "7 ;  Element:  helium  , Runs:  [101, 28, 24, 5, 43, 9, 128, 129, 122]  Shape of common events (tels,common events):  (4, 240)\n",
      "8 ;  Element:  helium  , Runs:  [101, 28, 24, 5, 43, 9, 128, 129, 122]  Shape of common events (tels,common events):  (4, 239)\n",
      "0 ;  Element:  iron  , Runs:  [4, 162, 16, 2, 114, 169, 82, 117, 79]  Shape of common events (tels,common events):  (4, 161)\n",
      "1 ;  Element:  iron  , Runs:  [4, 162, 16, 2, 114, 169, 82, 117, 79]  Shape of common events (tels,common events):  (4, 162)\n",
      "2 ;  Element:  iron  , Runs:  [4, 162, 16, 2, 114, 169, 82, 117, 79]  Shape of common events (tels,common events):  (4, 158)\n",
      "3 ;  Element:  iron  , Runs:  [4, 162, 16, 2, 114, 169, 82, 117, 79]  Shape of common events (tels,common events):  (4, 167)\n",
      "4 ;  Element:  iron  , Runs:  [4, 162, 16, 2, 114, 169, 82, 117, 79]  Shape of common events (tels,common events):  (4, 160)\n",
      "5 ;  Element:  iron  , Runs:  [4, 162, 16, 2, 114, 169, 82, 117, 79]  Shape of common events (tels,common events):  (4, 162)\n",
      "6 ;  Element:  iron  , Runs:  [4, 162, 16, 2, 114, 169, 82, 117, 79]  Shape of common events (tels,common events):  (4, 168)\n",
      "7 ;  Element:  iron  , Runs:  [4, 162, 16, 2, 114, 169, 82, 117, 79]  Shape of common events (tels,common events):  (4, 138)\n",
      "8 ;  Element:  iron  , Runs:  [4, 162, 16, 2, 114, 169, 82, 117, 79]  Shape of common events (tels,common events):  (4, 162)\n",
      "0 ;  Element:  nitrogen  , Runs:  [127, 104, 7, 131, 56, 39, 67, 18, 103]  Shape of common events (tels,common events):  (4, 227)\n",
      "1 ;  Element:  nitrogen  , Runs:  [127, 104, 7, 131, 56, 39, 67, 18, 103]  Shape of common events (tels,common events):  (4, 215)\n",
      "2 ;  Element:  nitrogen  , Runs:  [127, 104, 7, 131, 56, 39, 67, 18, 103]  Shape of common events (tels,common events):  (4, 220)\n",
      "3 ;  Element:  nitrogen  , Runs:  [127, 104, 7, 131, 56, 39, 67, 18, 103]  Shape of common events (tels,common events):  (4, 213)\n",
      "4 ;  Element:  nitrogen  , Runs:  [127, 104, 7, 131, 56, 39, 67, 18, 103]  Shape of common events (tels,common events):  (4, 202)\n",
      "5 ;  Element:  nitrogen  , Runs:  [127, 104, 7, 131, 56, 39, 67, 18, 103]  Shape of common events (tels,common events):  (4, 207)\n",
      "6 ;  Element:  nitrogen  , Runs:  [127, 104, 7, 131, 56, 39, 67, 18, 103]  Shape of common events (tels,common events):  (4, 191)\n",
      "7 ;  Element:  nitrogen  , Runs:  [127, 104, 7, 131, 56, 39, 67, 18, 103]  Shape of common events (tels,common events):  (4, 230)\n",
      "8 ;  Element:  nitrogen  , Runs:  [127, 104, 7, 131, 56, 39, 67, 18, 103]  Shape of common events (tels,common events):  (4, 224)\n",
      "0 ;  Element:  silicon  , Runs:  [53, 56, 13, 68, 46, 61, 58, 37, 96]  Shape of common events (tels,common events):  (4, 234)\n",
      "1 ;  Element:  silicon  , Runs:  [53, 56, 13, 68, 46, 61, 58, 37, 96]  Shape of common events (tels,common events):  (4, 222)\n",
      "2 ;  Element:  silicon  , Runs:  [53, 56, 13, 68, 46, 61, 58, 37, 96]  Shape of common events (tels,common events):  (4, 243)\n",
      "3 ;  Element:  silicon  , Runs:  [53, 56, 13, 68, 46, 61, 58, 37, 96]  Shape of common events (tels,common events):  (4, 222)\n",
      "4 ;  Element:  silicon  , Runs:  [53, 56, 13, 68, 46, 61, 58, 37, 96]  Shape of common events (tels,common events):  (4, 227)\n",
      "5 ;  Element:  silicon  , Runs:  [53, 56, 13, 68, 46, 61, 58, 37, 96]  Shape of common events (tels,common events):  (4, 245)\n",
      "6 ;  Element:  silicon  , Runs:  [53, 56, 13, 68, 46, 61, 58, 37, 96]  Shape of common events (tels,common events):  (4, 242)\n",
      "7 ;  Element:  silicon  , Runs:  [53, 56, 13, 68, 46, 61, 58, 37, 96]  Shape of common events (tels,common events):  (4, 222)\n",
      "8 ;  Element:  silicon  , Runs:  [53, 56, 13, 68, 46, 61, 58, 37, 96]  Shape of common events (tels,common events):  (4, 231)\n",
      "_______________\n",
      "Load of actual npy data:\n",
      "_______________\n",
      "Element:  gamma , Telescope:  1  Shape of loaded array (amount of images, size of images):  (1438, 93, 55)\n",
      "Element:  electron , Telescope:  1  Shape of loaded array (amount of images, size of images):  (1438, 93, 55)\n",
      "Element:  proton , Telescope:  1  Shape of loaded array (amount of images, size of images):  (1438, 93, 55)\n",
      "Element:  helium , Telescope:  1  Shape of loaded array (amount of images, size of images):  (1438, 93, 55)\n",
      "Element:  iron , Telescope:  1  Shape of loaded array (amount of images, size of images):  (1438, 93, 55)\n"
     ]
    },
    {
     "name": "stdout",
     "output_type": "stream",
     "text": [
      "Element:  nitrogen , Telescope:  1  Shape of loaded array (amount of images, size of images):  (1438, 93, 55)\n",
      "Element:  silicon , Telescope:  1  Shape of loaded array (amount of images, size of images):  (1438, 93, 55)\n",
      "Element:  gamma , Telescope:  2  Shape of loaded array (amount of images, size of images):  (1438, 93, 55)\n",
      "Element:  electron , Telescope:  2  Shape of loaded array (amount of images, size of images):  (1438, 93, 55)\n",
      "Element:  proton , Telescope:  2  Shape of loaded array (amount of images, size of images):  (1438, 93, 55)\n",
      "Element:  helium , Telescope:  2  Shape of loaded array (amount of images, size of images):  (1438, 93, 55)\n",
      "Element:  iron , Telescope:  2  Shape of loaded array (amount of images, size of images):  (1438, 93, 55)\n",
      "Element:  nitrogen , Telescope:  2  Shape of loaded array (amount of images, size of images):  (1438, 93, 55)\n",
      "Element:  silicon , Telescope:  2  Shape of loaded array (amount of images, size of images):  (1438, 93, 55)\n",
      "Element:  gamma , Telescope:  3  Shape of loaded array (amount of images, size of images):  (1438, 93, 55)\n",
      "Element:  electron , Telescope:  3  Shape of loaded array (amount of images, size of images):  (1438, 93, 55)\n",
      "Element:  proton , Telescope:  3  Shape of loaded array (amount of images, size of images):  (1438, 93, 55)\n",
      "Element:  helium , Telescope:  3  Shape of loaded array (amount of images, size of images):  (1438, 93, 55)\n",
      "Element:  iron , Telescope:  3  Shape of loaded array (amount of images, size of images):  (1438, 93, 55)\n",
      "Element:  nitrogen , Telescope:  3  Shape of loaded array (amount of images, size of images):  (1438, 93, 55)\n",
      "Element:  silicon , Telescope:  3  Shape of loaded array (amount of images, size of images):  (1438, 93, 55)\n",
      "Element:  gamma , Telescope:  4  Shape of loaded array (amount of images, size of images):  (1438, 93, 55)\n",
      "Element:  electron , Telescope:  4  Shape of loaded array (amount of images, size of images):  (1438, 93, 55)\n",
      "Element:  proton , Telescope:  4  Shape of loaded array (amount of images, size of images):  (1438, 93, 55)\n",
      "Element:  helium , Telescope:  4  Shape of loaded array (amount of images, size of images):  (1438, 93, 55)\n",
      "Element:  iron , Telescope:  4  Shape of loaded array (amount of images, size of images):  (1438, 93, 55)\n",
      "Element:  nitrogen , Telescope:  4  Shape of loaded array (amount of images, size of images):  (1438, 93, 55)\n",
      "Element:  silicon , Telescope:  4  Shape of loaded array (amount of images, size of images):  (1438, 93, 55)\n",
      "SUCCESS\n"
     ]
    }
   ],
   "source": [
    "x_train_list,x_test_list,y_train_list,y_test_list=loaddata4use.load_dataset_completo(npy_final_dir,labels_asign=[0,1,2,2,2,2,2],elements=elements,\n",
    "                                                                                     main_list_runs=list_runs,pre_name_folders=\"npy_\",telescopes=[1,2,3,4],\n",
    "                                                                                     test_size=0.05,same_quant=\"same\",verbose=True,fill=True,categorical=True)"
   ]
  },
  {
   "cell_type": "code",
   "execution_count": 10,
   "id": "3527ffe0",
   "metadata": {
    "execution": {
     "iopub.execute_input": "2022-11-09T07:57:13.219084Z",
     "iopub.status.busy": "2022-11-09T07:57:13.218804Z",
     "iopub.status.idle": "2022-11-09T07:57:13.224816Z",
     "shell.execute_reply": "2022-11-09T07:57:13.223875Z"
    },
    "papermill": {
     "duration": 0.024728,
     "end_time": "2022-11-09T07:57:13.226953",
     "exception": false,
     "start_time": "2022-11-09T07:57:13.202225",
     "status": "completed"
    },
    "tags": []
   },
   "outputs": [],
   "source": [
    "#tenemos que hacer un ligero cambio porque se estan cargando con los ejes cambiados\n",
    "def cambiar_ejes_lista(lista):\n",
    "    for i,j in enumerate(lista):\n",
    "        lista[i]=np.swapaxes(j,1,2)\n",
    "    return lista\n",
    "\n",
    "x_train_list=cambiar_ejes_lista(x_train_list)\n",
    "x_test_list=cambiar_ejes_lista(x_test_list)\n"
   ]
  },
  {
   "cell_type": "raw",
   "id": "a63afaf2",
   "metadata": {
    "papermill": {
     "duration": 0.015259,
     "end_time": "2022-11-09T07:57:13.257658",
     "exception": false,
     "start_time": "2022-11-09T07:57:13.242399",
     "status": "completed"
    },
    "tags": []
   },
   "source": [
    "#podemos calcular la memoria que ocupa cada objeto, pero para objetos compuestos \n",
    "#se nos complica porque está anidados\n",
    "print(sys.getsizeof(x_train_list[2])>>20,\"Mb\")"
   ]
  },
  {
   "cell_type": "raw",
   "id": "280edcfb",
   "metadata": {
    "papermill": {
     "duration": 0.015269,
     "end_time": "2022-11-09T07:57:13.288093",
     "exception": false,
     "start_time": "2022-11-09T07:57:13.272824",
     "status": "completed"
    },
    "tags": []
   },
   "source": [
    "#y con locals() podemos sacar las del entorno\n",
    "def sizeof_fmt(num, suffix='B'):\n",
    "    ''' by Fred Cirera,  https://stackoverflow.com/a/1094933/1870254, modified'''\n",
    "    for unit in ['','Ki','Mi','Gi','Ti','Pi','Ei','Zi']:\n",
    "        if abs(num) < 1024.0:\n",
    "            return \"%3.1f %s%s\" % (num, unit, suffix)\n",
    "        num /= 1024.0\n",
    "    return \"%.1f %s%s\" % (nÇum, 'Yi', suffix)\n",
    "\n",
    "for name, size in sorted(((name, sys.getsizeof(value)) for name, value in locals().items()),\n",
    "                         key= lambda x: -x[1])[:10]:\n",
    "    print(\"{:>30}: {:>8}\".format(name, sizeof_fmt(size)))"
   ]
  },
  {
   "cell_type": "code",
   "execution_count": null,
   "id": "f32ffced",
   "metadata": {
    "papermill": {
     "duration": 0.015523,
     "end_time": "2022-11-09T07:57:13.318994",
     "exception": false,
     "start_time": "2022-11-09T07:57:13.303471",
     "status": "completed"
    },
    "tags": []
   },
   "outputs": [],
   "source": []
  },
  {
   "cell_type": "markdown",
   "id": "e4b318df",
   "metadata": {
    "papermill": {
     "duration": 0.015269,
     "end_time": "2022-11-09T07:57:13.349464",
     "exception": false,
     "start_time": "2022-11-09T07:57:13.334195",
     "status": "completed"
    },
    "tags": []
   },
   "source": [
    "Ya hemos reproducido la carga de datos de una manera que además nos va a permitir hacer un boostrap para entrenar con recursos limitados.  \n",
    "\n",
    "Ahora tenemos que ver una forma optima de entrenar los modelos de forma automática."
   ]
  },
  {
   "cell_type": "markdown",
   "id": "23fa053a",
   "metadata": {
    "papermill": {
     "duration": 0.015317,
     "end_time": "2022-11-09T07:57:13.380092",
     "exception": false,
     "start_time": "2022-11-09T07:57:13.364775",
     "status": "completed"
    },
    "tags": []
   },
   "source": [
    "De este notebook voy a reutilizar las funcions que sacan los runs y que nos dan las main_listas, y con ello, en un script de pipeline, lo llamaré despues con un script de automatizaciones. "
   ]
  },
  {
   "cell_type": "code",
   "execution_count": 11,
   "id": "3035e6d6",
   "metadata": {
    "execution": {
     "iopub.execute_input": "2022-11-09T07:57:13.411936Z",
     "iopub.status.busy": "2022-11-09T07:57:13.411671Z",
     "iopub.status.idle": "2022-11-09T07:57:13.418518Z",
     "shell.execute_reply": "2022-11-09T07:57:13.417575Z"
    },
    "papermill": {
     "duration": 0.025259,
     "end_time": "2022-11-09T07:57:13.420622",
     "exception": false,
     "start_time": "2022-11-09T07:57:13.395363",
     "status": "completed"
    },
    "tags": []
   },
   "outputs": [],
   "source": [
    "opciones_filtros=[\n",
    "    [[12,16],[32,64],[64,12]],\n",
    "    [[12,16,32],[64,128],[128,64,32]],\n",
    "    [[12,16],[32,64],[64,12]],\n",
    "    [[12,16],[32,64],[64,12]],\n",
    "    [[12,16],[32,64],[64,12]]\n",
    "]"
   ]
  },
  {
   "cell_type": "code",
   "execution_count": 12,
   "id": "bc8fa2a0",
   "metadata": {
    "execution": {
     "iopub.execute_input": "2022-11-09T07:57:13.452624Z",
     "iopub.status.busy": "2022-11-09T07:57:13.452364Z",
     "iopub.status.idle": "2022-11-09T07:57:13.905864Z",
     "shell.execute_reply": "2022-11-09T07:57:13.904829Z"
    },
    "papermill": {
     "duration": 0.471847,
     "end_time": "2022-11-09T07:57:13.907998",
     "exception": false,
     "start_time": "2022-11-09T07:57:13.436151",
     "status": "completed"
    },
    "tags": []
   },
   "outputs": [
    {
     "name": "stderr",
     "output_type": "stream",
     "text": [
      "2022-11-09 02:57:13.516588: I tensorflow/core/platform/cpu_feature_guard.cc:193] This TensorFlow binary is optimized with oneAPI Deep Neural Network Library (oneDNN) to use the following CPU instructions in performance-critical operations:  SSE4.1\n",
      "To enable them in other operations, rebuild TensorFlow with the appropriate compiler flags.\n",
      "2022-11-09 02:57:13.564493: I tensorflow/core/common_runtime/process_util.cc:146] Creating new thread pool with default inter op setting: 2. Tune using inter_op_parallelism_threads for best performance.\n"
     ]
    },
    {
     "name": "stdout",
     "output_type": "stream",
     "text": [
      "Model: \"model\"\n",
      "__________________________________________________________________________________________________\n",
      " Layer (type)                   Output Shape         Param #     Connected to                     \n",
      "==================================================================================================\n",
      " input_1 (InputLayer)           [(None, 55, 93, 1)]  0           []                               \n",
      "                                                                                                  \n",
      " input_2 (InputLayer)           [(None, 55, 93, 1)]  0           []                               \n",
      "                                                                                                  \n",
      " input_3 (InputLayer)           [(None, 55, 93, 1)]  0           []                               \n",
      "                                                                                                  \n",
      " input_4 (InputLayer)           [(None, 55, 93, 1)]  0           []                               \n",
      "                                                                                                  \n",
      " sequential (Sequential)        (None, 2112)         338696      ['input_1[0][0]',                \n",
      "                                                                  'input_2[0][0]',                \n",
      "                                                                  'input_3[0][0]',                \n",
      "                                                                  'input_4[0][0]']                \n",
      "                                                                                                  \n",
      " concatenate (Concatenate)      (None, 8448)         0           ['sequential[0][0]',             \n",
      "                                                                  'sequential[1][0]',             \n",
      "                                                                  'sequential[2][0]',             \n",
      "                                                                  'sequential[3][0]']             \n",
      "                                                                                                  \n",
      " dense (Dense)                  (None, 20)           168980      ['concatenate[0][0]']            \n",
      "                                                                                                  \n",
      " dense_1 (Dense)                (None, 10)           210         ['dense[0][0]']                  \n",
      "                                                                                                  \n",
      " dense_2 (Dense)                (None, 3)            33          ['dense_1[0][0]']                \n",
      "                                                                                                  \n",
      "==================================================================================================\n",
      "Total params: 507,919\n",
      "Trainable params: 507,919\n",
      "Non-trainable params: 0\n",
      "__________________________________________________________________________________________________\n"
     ]
    }
   ],
   "source": [
    "modelo=models.model_multi_tel(classes=3,filtros=opciones_filtros[1],last_dense=[20,10])\n",
    "modelo.summary()"
   ]
  },
  {
   "cell_type": "code",
   "execution_count": 13,
   "id": "30f96f11",
   "metadata": {
    "execution": {
     "iopub.execute_input": "2022-11-09T07:57:13.947444Z",
     "iopub.status.busy": "2022-11-09T07:57:13.947079Z",
     "iopub.status.idle": "2022-11-09T07:57:13.958090Z",
     "shell.execute_reply": "2022-11-09T07:57:13.957219Z"
    },
    "papermill": {
     "duration": 0.032888,
     "end_time": "2022-11-09T07:57:13.960208",
     "exception": false,
     "start_time": "2022-11-09T07:57:13.927320",
     "status": "completed"
    },
    "tags": []
   },
   "outputs": [],
   "source": [
    "modelo.compile(optimizer=\"adam\",loss=\"categorical_crossentropy\",metrics=[\"acc\",\"AUC\",\"mean_squared_error\"])"
   ]
  },
  {
   "cell_type": "code",
   "execution_count": 14,
   "id": "85c66b58",
   "metadata": {
    "execution": {
     "iopub.execute_input": "2022-11-09T07:57:13.998816Z",
     "iopub.status.busy": "2022-11-09T07:57:13.998560Z",
     "iopub.status.idle": "2022-11-09T15:35:45.912493Z",
     "shell.execute_reply": "2022-11-09T15:35:45.911772Z"
    },
    "papermill": {
     "duration": 27511.936102,
     "end_time": "2022-11-09T15:35:45.915038",
     "exception": false,
     "start_time": "2022-11-09T07:57:13.978936",
     "status": "completed"
    },
    "scrolled": true,
    "tags": []
   },
   "outputs": [
    {
     "name": "stdout",
     "output_type": "stream",
     "text": [
      "Epoch 1/15\n",
      "150/150 [==============================] - 1836s 12s/step - loss: 0.7191 - acc: 0.7872 - auc: 0.9283 - mean_squared_error: 0.0989 - val_loss: 0.4699 - val_acc: 0.8591 - val_auc: 0.9695 - val_mean_squared_error: 0.0630\n",
      "Epoch 2/15\n",
      "150/150 [==============================] - 1828s 12s/step - loss: 0.4498 - acc: 0.8729 - auc: 0.9708 - mean_squared_error: 0.0617 - val_loss: 0.3987 - val_acc: 0.8750 - val_auc: 0.9761 - val_mean_squared_error: 0.0575\n",
      "Epoch 3/15\n",
      "150/150 [==============================] - 1833s 12s/step - loss: 0.3716 - acc: 0.8959 - auc: 0.9797 - mean_squared_error: 0.0512 - val_loss: 0.4064 - val_acc: 0.8571 - val_auc: 0.9726 - val_mean_squared_error: 0.0624\n",
      "Epoch 4/15\n",
      "150/150 [==============================] - 1834s 12s/step - loss: 0.3297 - acc: 0.9055 - auc: 0.9831 - mean_squared_error: 0.0458 - val_loss: 0.3897 - val_acc: 0.8730 - val_auc: 0.9729 - val_mean_squared_error: 0.0606\n",
      "Epoch 5/15\n",
      "150/150 [==============================] - 1830s 12s/step - loss: 0.3234 - acc: 0.9076 - auc: 0.9837 - mean_squared_error: 0.0452 - val_loss: 0.3277 - val_acc: 0.8948 - val_auc: 0.9835 - val_mean_squared_error: 0.0498\n",
      "Epoch 6/15\n",
      "150/150 [==============================] - 1833s 12s/step - loss: 0.2875 - acc: 0.9155 - auc: 0.9868 - mean_squared_error: 0.0413 - val_loss: 0.2784 - val_acc: 0.9187 - val_auc: 0.9876 - val_mean_squared_error: 0.0405\n",
      "Epoch 7/15\n",
      "150/150 [==============================] - 1836s 12s/step - loss: 0.2674 - acc: 0.9230 - auc: 0.9884 - mean_squared_error: 0.0383 - val_loss: 0.3102 - val_acc: 0.9028 - val_auc: 0.9834 - val_mean_squared_error: 0.0479\n",
      "Epoch 8/15\n",
      "150/150 [==============================] - 1829s 12s/step - loss: 0.2532 - acc: 0.9255 - auc: 0.9893 - mean_squared_error: 0.0366 - val_loss: 0.2511 - val_acc: 0.9226 - val_auc: 0.9900 - val_mean_squared_error: 0.0375\n",
      "Epoch 9/15\n",
      "150/150 [==============================] - 1827s 12s/step - loss: 0.2239 - acc: 0.9335 - auc: 0.9922 - mean_squared_error: 0.0317 - val_loss: 0.3287 - val_acc: 0.8968 - val_auc: 0.9835 - val_mean_squared_error: 0.0521\n",
      "Epoch 10/15\n",
      "150/150 [==============================] - 1840s 12s/step - loss: 0.2038 - acc: 0.9434 - auc: 0.9933 - mean_squared_error: 0.0281 - val_loss: 0.4007 - val_acc: 0.8532 - val_auc: 0.9697 - val_mean_squared_error: 0.0684\n",
      "Epoch 11/15\n",
      "150/150 [==============================] - 1827s 12s/step - loss: 0.2499 - acc: 0.9262 - auc: 0.9891 - mean_squared_error: 0.0364 - val_loss: 0.2523 - val_acc: 0.9206 - val_auc: 0.9894 - val_mean_squared_error: 0.0380\n",
      "Epoch 12/15\n",
      "150/150 [==============================] - 1831s 12s/step - loss: 0.2024 - acc: 0.9442 - auc: 0.9939 - mean_squared_error: 0.0274 - val_loss: 0.2185 - val_acc: 0.9325 - val_auc: 0.9928 - val_mean_squared_error: 0.0322\n",
      "Epoch 13/15\n",
      "150/150 [==============================] - 1842s 12s/step - loss: 0.1910 - acc: 0.9471 - auc: 0.9946 - mean_squared_error: 0.0252 - val_loss: 0.2306 - val_acc: 0.9385 - val_auc: 0.9906 - val_mean_squared_error: 0.0335\n",
      "Epoch 14/15\n",
      "150/150 [==============================] - 1837s 12s/step - loss: 0.1716 - acc: 0.9528 - auc: 0.9957 - mean_squared_error: 0.0229 - val_loss: 0.3275 - val_acc: 0.8948 - val_auc: 0.9816 - val_mean_squared_error: 0.0520\n",
      "Epoch 15/15\n",
      "150/150 [==============================] - 1842s 12s/step - loss: 0.1767 - acc: 0.9510 - auc: 0.9950 - mean_squared_error: 0.0245 - val_loss: 0.2428 - val_acc: 0.9266 - val_auc: 0.9907 - val_mean_squared_error: 0.0388\n"
     ]
    },
    {
     "name": "stderr",
     "output_type": "stream",
     "text": [
      "WARNING:absl:Found untraced functions such as _jit_compiled_convolution_op, _jit_compiled_convolution_op, _jit_compiled_convolution_op, _jit_compiled_convolution_op, _jit_compiled_convolution_op while saving (showing 5 of 8). These functions will not be directly callable after loading.\n"
     ]
    },
    {
     "name": "stdout",
     "output_type": "stream",
     "text": [
      "INFO:tensorflow:Assets written to: ram://298c8dec-a564-4126-b4f0-f01fa2e5f87c/assets\n"
     ]
    },
    {
     "name": "stderr",
     "output_type": "stream",
     "text": [
      "INFO:tensorflow:Assets written to: ram://298c8dec-a564-4126-b4f0-f01fa2e5f87c/assets\n"
     ]
    }
   ],
   "source": [
    "hist=modelo.fit(x=x_train_list,y=y_train_list,epochs=15, validation_data=(x_test_list,y_test_list),batch_size=64)\n",
    "modelo.save(\"../modelos/modelo_1.h5\")\n",
    "with open(\"../modelos/performances/history_modelo_1.pickle\",\"wb\") as pick:\n",
    "    pickle.dump(hist,pick)"
   ]
  },
  {
   "cell_type": "code",
   "execution_count": 15,
   "id": "d0ef66bd",
   "metadata": {
    "execution": {
     "iopub.execute_input": "2022-11-09T15:35:46.427754Z",
     "iopub.status.busy": "2022-11-09T15:35:46.427442Z",
     "iopub.status.idle": "2022-11-09T15:35:46.435066Z",
     "shell.execute_reply": "2022-11-09T15:35:46.434208Z"
    },
    "papermill": {
     "duration": 0.267872,
     "end_time": "2022-11-09T15:35:46.437405",
     "exception": false,
     "start_time": "2022-11-09T15:35:46.169533",
     "status": "completed"
    },
    "tags": []
   },
   "outputs": [
    {
     "data": {
      "application/javascript": [
       "IPython.notebook.save_notebook()\n"
      ],
      "text/plain": [
       "<IPython.core.display.Javascript object>"
      ]
     },
     "metadata": {},
     "output_type": "display_data"
    }
   ],
   "source": [
    "%%javascript\n",
    "IPython.notebook.save_notebook()"
   ]
  },
  {
   "cell_type": "code",
   "execution_count": 3,
   "id": "76eb3de2",
   "metadata": {
    "papermill": {
     "duration": 0.254926,
     "end_time": "2022-11-09T15:35:46.946807",
     "exception": false,
     "start_time": "2022-11-09T15:35:46.691881",
     "status": "completed"
    },
    "tags": []
   },
   "outputs": [
    {
     "name": "stderr",
     "output_type": "stream",
     "text": [
      "2022-11-09 13:55:50.949735: I tensorflow/core/platform/cpu_feature_guard.cc:193] This TensorFlow binary is optimized with oneAPI Deep Neural Network Library (oneDNN) to use the following CPU instructions in performance-critical operations:  SSE4.1\n",
      "To enable them in other operations, rebuild TensorFlow with the appropriate compiler flags.\n",
      "2022-11-09 13:55:50.968130: I tensorflow/core/common_runtime/process_util.cc:146] Creating new thread pool with default inter op setting: 2. Tune using inter_op_parallelism_threads for best performance.\n"
     ]
    }
   ],
   "source": [
    "with open(\"../modelos/performances/history_modelo_1.pickle\",\"rb\") as pk:\n",
    "    hist=pickle.load(pk)"
   ]
  },
  {
   "cell_type": "code",
   "execution_count": 12,
   "id": "67aaca28",
   "metadata": {},
   "outputs": [
    {
     "data": {
      "image/png": "[encoded data removed]",
      "text/plain": [
       "<Figure size 1300x800 with 4 Axes>"
      ]
     },
     "metadata": {},
     "output_type": "display_data"
    }
   ],
   "source": [
    "plt.figure(figsize=(13,8))\n",
    "for j,i in enumerate(hist.history):\n",
    "    if not re.search(\"^val_\",i):\n",
    "        data_aux=hist.history[i]\n",
    "        data_aux_2=hist.history[\"val_\"+i]\n",
    "        plt.subplot(4,1,j+1)\n",
    "        plt.plot(np.arange(1,16),data_aux,label=i)\n",
    "        plt.plot(np.arange(1,16),data_aux_2,label=\"val_\"+i)\n",
    "        plt.legend()\n",
    "        plt.title(i)\n",
    "plt.tight_layout()"
   ]
  },
  {
   "cell_type": "code",
   "execution_count": 8,
   "id": "40ffc6ea",
   "metadata": {},
   "outputs": [
    {
     "data": {
      "text/plain": [
       "dict_keys(['loss', 'acc', 'auc', 'mean_squared_error', 'val_loss', 'val_acc', 'val_auc', 'val_mean_squared_error'])"
      ]
     },
     "execution_count": 8,
     "metadata": {},
     "output_type": "execute_result"
    }
   ],
   "source": [
    "hist.history.keys()"
   ]
  },
  {
   "cell_type": "code",
   "execution_count": null,
   "id": "31a6e91e",
   "metadata": {},
   "outputs": [],
   "source": []
  }
 ],
 "metadata": {
  "kernelspec": {
   "display_name": "Python 3 (ipykernel)",
   "language": "python",
   "name": "python3"
  },
  "language_info": {
   "codemirror_mode": {
    "name": "ipython",
    "version": 3
   },
   "file_extension": ".py",
   "mimetype": "text/x-python",
   "name": "python",
   "nbconvert_exporter": "python",
   "pygments_lexer": "ipython3",
   "version": "3.7.13"
  },
  "papermill": {
   "default_parameters": {},
   "duration": 28331.454214,
   "end_time": "2022-11-09T15:35:50.749128",
   "environment_variables": {},
   "exception": null,
   "input_path": "primera_prueba_entrenamiento.ipynb",
   "output_path": "out.ipynb",
   "parameters": {},
   "start_time": "2022-11-09T07:43:39.294914",
   "version": "2.3.4"
  }
 },
 "nbformat": 4,
 "nbformat_minor": 5
}
