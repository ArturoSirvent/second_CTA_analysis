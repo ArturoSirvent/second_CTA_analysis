{
 "cells": [
  {
   "attachments": {},
   "cell_type": "markdown",
   "metadata": {},
   "source": [
    "# DESCRIPCIÓN\n",
    "\n",
    "Esto es lo mismo que hemos hecho antes de probar varias arquitecturas para la clasificación de tres categorias.  \n",
    "**- Pero ahora vamos a intentar mejorar la gestión de la memoria para que no se nos muera el proceso.**  \n",
    "**- La máquina tiene una GPU, vamos a intentar usarla.**  \n"
   ]
  },
  {
   "attachments": {},
   "cell_type": "markdown",
   "metadata": {},
   "source": [
    "## Carga de librerias y datos \n",
    "Igual que antes (bucle_chustero...), pero ahora vamos a ver si tenemos gpu."
   ]
  },
  {
   "cell_type": "code",
   "execution_count": 1,
   "metadata": {},
   "outputs": [],
   "source": [
    "import sys\n",
    "sys.path.append('../src/CTA-data-analisis-library/')"
   ]
  },
  {
   "cell_type": "code",
   "execution_count": 2,
   "metadata": {},
   "outputs": [],
   "source": [
    "#cargamos librerias \n",
    "import os \n",
    "import subprocess\n",
    "from datetime import datetime\n",
    "import numpy as np \n",
    "import glob\n",
    "import matplotlib.pyplot as plt\n",
    "import tensorflow as tf \n",
    "import psutil\n",
    "import re\n",
    "import random\n",
    "import shutil\n",
    "import pickle\n",
    "from numba import cuda\n",
    "import gc\n",
    "\n",
    "#propias\n",
    "import unzipdata_and_first_treatments as manipulate\n",
    "import loaddata4use\n",
    "import model_creation_functions as models"
   ]
  },
  {
   "cell_type": "code",
   "execution_count": 9,
   "metadata": {},
   "outputs": [],
   "source": [
    "tf.config.threading.set_inter_op_parallelism_threads(4)"
   ]
  },
  {
   "attachments": {},
   "cell_type": "markdown",
   "metadata": {},
   "source": [
    "Comprobamos el tema de gpu."
   ]
  },
  {
   "cell_type": "code",
   "execution_count": 10,
   "metadata": {},
   "outputs": [
    {
     "name": "stdout",
     "output_type": "stream",
     "text": [
      "0\n"
     ]
    }
   ],
   "source": [
    "print(tf.config.experimental.get_memory_info(\"CPU:0\")[\"current\"]>>20)"
   ]
  },
  {
   "cell_type": "code",
   "execution_count": 11,
   "metadata": {},
   "outputs": [
    {
     "name": "stdout",
     "output_type": "stream",
     "text": [
      "Num GPUs Available:  0\n",
      "[PhysicalDevice(name='/physical_device:CPU:0', device_type='CPU')]\n"
     ]
    }
   ],
   "source": [
    "print(\"Num GPUs Available: \", len(tf.config.list_physical_devices('GPU')))\n",
    "print(tf.config.get_visible_devices())\n"
   ]
  },
  {
   "attachments": {},
   "cell_type": "markdown",
   "metadata": {},
   "source": [
    "Pues no tenemos disponibles. Ala."
   ]
  },
  {
   "cell_type": "code",
   "execution_count": 12,
   "metadata": {},
   "outputs": [],
   "source": [
    "#enviroment variables\n",
    "npy_final_dir=\"../datos/elementos_npy\"\n",
    "base_dir_elementos=\"../datos/elementos\"\n",
    "elements=['gamma', 'electron', 'proton', 'helium', 'iron', 'nitrogen', 'silicon']"
   ]
  },
  {
   "cell_type": "code",
   "execution_count": 13,
   "metadata": {},
   "outputs": [],
   "source": [
    "def runs_disponibles(npy_dir,elements):\n",
    "    lista=[]\n",
    "    for i in elements:\n",
    "        npy_element_dir=os.path.join(npy_dir,\"npy_\"+i)\n",
    "        runs=[int(re.search(\"run_([0-9]{3})_0\\.npy\",i).group(1)) for i in os.listdir(npy_element_dir) if re.search(\"run_([0-9]{3})_0\\.npy\",i)]\n",
    "        lista.append(runs)\n",
    "    return lista\n",
    "\n",
    "\n",
    "def new_create_main_list_runs(number_runs_per_element,posibles_runs):\n",
    "    #esto es aleatorio por defecto, porque es lo unico que necesito por ahora    \n",
    "    final=[]\n",
    "    for ind,lista_runs_element in enumerate(posibles_runs):\n",
    "        final.append(random.sample(lista_runs_element,number_runs_per_element[ind]))\n",
    "    return final\n",
    "\n",
    "#tenemos que hacer un ligero cambio porque se estan cargando con los ejes cambiados\n",
    "def cambiar_ejes_lista(lista):\n",
    "    for i,j in enumerate(lista):\n",
    "        lista[i]=np.swapaxes(j,1,2)\n",
    "    return lista"
   ]
  },
  {
   "cell_type": "code",
   "execution_count": 14,
   "metadata": {},
   "outputs": [],
   "source": [
    "#hacemos esto porque dan problemas las runs 2 y 3 para gamma por no tener correspondiente txt\n",
    "chose_runs=runs_disponibles(npy_final_dir,elements)\n",
    "chose_runs[0].remove(2)\n",
    "chose_runs[0].remove(2)\n",
    "chose_runs[0].remove(3)\n",
    "chose_runs[0].remove(3)\n",
    "chose_runs[0].remove(3)"
   ]
  },
  {
   "cell_type": "code",
   "execution_count": 15,
   "metadata": {},
   "outputs": [],
   "source": [
    "opciones_filtros=[\n",
    "    [[12,16,32],[64,128],[128,64,32]],\n",
    "    [[12,16],[32,64],[64,12]],\n",
    "    [[32,64],[128,64],[64,12]],\n",
    "    [[32,64],[64,64],[32,16]],\n",
    "    [[12,16,32],[32,64,128],[64,32,16]]\n",
    "]"
   ]
  },
  {
   "attachments": {},
   "cell_type": "markdown",
   "metadata": {},
   "source": [
    "Pruebas sobre el tema de los grafos y los problemas de memoria.\n"
   ]
  },
  {
   "cell_type": "code",
   "execution_count": 10,
   "metadata": {},
   "outputs": [
    {
     "name": "stdout",
     "output_type": "stream",
     "text": [
      "0: [[12, 16, 32], [64, 128], [128, 64, 32]] \n",
      "\n",
      "\n",
      " Boostrap 1 de 6, y uso memoria CPU: 1\n",
      "\n",
      "Load of names and common events\n",
      "_______________\n",
      "0 ;  Element:  gamma  , Runs:  [23]  Shape of common events (tels,common events):  (4, 1156)\n",
      "0 ;  Element:  electron  , Runs:  [94, 83, 103, 109, 41, 13, 129]  Shape of common events (tels,common events):  (4, 268)\n",
      "1 ;  Element:  electron  , Runs:  [94, 83, 103, 109, 41, 13, 129]  Shape of common events (tels,common events):  (4, 246)\n",
      "2 ;  Element:  electron  , Runs:  [94, 83, 103, 109, 41, 13, 129]  Shape of common events (tels,common events):  (4, 230)\n",
      "3 ;  Element:  electron  , Runs:  [94, 83, 103, 109, 41, 13, 129]  Shape of common events (tels,common events):  (4, 243)\n",
      "4 ;  Element:  electron  , Runs:  [94, 83, 103, 109, 41, 13, 129]  Shape of common events (tels,common events):  (4, 236)\n",
      "5 ;  Element:  electron  , Runs:  [94, 83, 103, 109, 41, 13, 129]  Shape of common events (tels,common events):  (4, 232)\n",
      "6 ;  Element:  electron  , Runs:  [94, 83, 103, 109, 41, 13, 129]  Shape of common events (tels,common events):  (4, 228)\n",
      "0 ;  Element:  proton  , Runs:  [102, 142, 29, 127, 116, 113, 156]  Shape of common events (tels,common events):  (4, 148)\n",
      "1 ;  Element:  proton  , Runs:  [102, 142, 29, 127, 116, 113, 156]  Shape of common events (tels,common events):  (4, 174)\n",
      "2 ;  Element:  proton  , Runs:  [102, 142, 29, 127, 116, 113, 156]  Shape of common events (tels,common events):  (4, 162)\n",
      "3 ;  Element:  proton  , Runs:  [102, 142, 29, 127, 116, 113, 156]  Shape of common events (tels,common events):  (4, 170)\n",
      "4 ;  Element:  proton  , Runs:  [102, 142, 29, 127, 116, 113, 156]  Shape of common events (tels,common events):  (4, 171)\n",
      "5 ;  Element:  proton  , Runs:  [102, 142, 29, 127, 116, 113, 156]  Shape of common events (tels,common events):  (4, 167)\n",
      "6 ;  Element:  proton  , Runs:  [102, 142, 29, 127, 116, 113, 156]  Shape of common events (tels,common events):  (4, 168)\n",
      "0 ;  Element:  helium  , Runs:  [31, 96, 18, 20, 37, 79, 11]  Shape of common events (tels,common events):  (4, 227)\n",
      "1 ;  Element:  helium  , Runs:  [31, 96, 18, 20, 37, 79, 11]  Shape of common events (tels,common events):  (4, 274)\n",
      "2 ;  Element:  helium  , Runs:  [31, 96, 18, 20, 37, 79, 11]  Shape of common events (tels,common events):  (4, 230)\n",
      "3 ;  Element:  helium  , Runs:  [31, 96, 18, 20, 37, 79, 11]  Shape of common events (tels,common events):  (4, 234)\n",
      "4 ;  Element:  helium  , Runs:  [31, 96, 18, 20, 37, 79, 11]  Shape of common events (tels,common events):  (4, 239)\n",
      "5 ;  Element:  helium  , Runs:  [31, 96, 18, 20, 37, 79, 11]  Shape of common events (tels,common events):  (4, 254)\n",
      "6 ;  Element:  helium  , Runs:  [31, 96, 18, 20, 37, 79, 11]  Shape of common events (tels,common events):  (4, 252)\n",
      "0 ;  Element:  iron  , Runs:  [142, 50, 101, 133, 38, 75, 12]  Shape of common events (tels,common events):  (4, 174)\n",
      "1 ;  Element:  iron  , Runs:  [142, 50, 101, 133, 38, 75, 12]  Shape of common events (tels,common events):  (4, 169)\n",
      "2 ;  Element:  iron  , Runs:  [142, 50, 101, 133, 38, 75, 12]  Shape of common events (tels,common events):  (4, 199)\n",
      "3 ;  Element:  iron  , Runs:  [142, 50, 101, 133, 38, 75, 12]  Shape of common events (tels,common events):  (4, 165)\n",
      "4 ;  Element:  iron  , Runs:  [142, 50, 101, 133, 38, 75, 12]  Shape of common events (tels,common events):  (4, 160)\n",
      "5 ;  Element:  iron  , Runs:  [142, 50, 101, 133, 38, 75, 12]  Shape of common events (tels,common events):  (4, 184)\n",
      "6 ;  Element:  iron  , Runs:  [142, 50, 101, 133, 38, 75, 12]  Shape of common events (tels,common events):  (4, 178)\n",
      "0 ;  Element:  nitrogen  , Runs:  [153, 75, 76, 40, 69, 42, 123]  Shape of common events (tels,common events):  (4, 218)\n",
      "1 ;  Element:  nitrogen  , Runs:  [153, 75, 76, 40, 69, 42, 123]  Shape of common events (tels,common events):  (4, 200)\n",
      "2 ;  Element:  nitrogen  , Runs:  [153, 75, 76, 40, 69, 42, 123]  Shape of common events (tels,common events):  (4, 219)\n",
      "3 ;  Element:  nitrogen  , Runs:  [153, 75, 76, 40, 69, 42, 123]  Shape of common events (tels,common events):  (4, 191)\n",
      "4 ;  Element:  nitrogen  , Runs:  [153, 75, 76, 40, 69, 42, 123]  Shape of common events (tels,common events):  (4, 209)\n",
      "5 ;  Element:  nitrogen  , Runs:  [153, 75, 76, 40, 69, 42, 123]  Shape of common events (tels,common events):  (4, 228)\n",
      "6 ;  Element:  nitrogen  , Runs:  [153, 75, 76, 40, 69, 42, 123]  Shape of common events (tels,common events):  (4, 199)\n",
      "0 ;  Element:  silicon  , Runs:  [27, 13, 68, 34, 79, 85, 1]  Shape of common events (tels,common events):  (4, 215)\n",
      "1 ;  Element:  silicon  , Runs:  [27, 13, 68, 34, 79, 85, 1]  Shape of common events (tels,common events):  (4, 243)\n",
      "2 ;  Element:  silicon  , Runs:  [27, 13, 68, 34, 79, 85, 1]  Shape of common events (tels,common events):  (4, 222)\n",
      "3 ;  Element:  silicon  , Runs:  [27, 13, 68, 34, 79, 85, 1]  Shape of common events (tels,common events):  (4, 245)\n",
      "4 ;  Element:  silicon  , Runs:  [27, 13, 68, 34, 79, 85, 1]  Shape of common events (tels,common events):  (4, 289)\n",
      "5 ;  Element:  silicon  , Runs:  [27, 13, 68, 34, 79, 85, 1]  Shape of common events (tels,common events):  (4, 247)\n",
      "6 ;  Element:  silicon  , Runs:  [27, 13, 68, 34, 79, 85, 1]  Shape of common events (tels,common events):  (4, 238)\n",
      "_______________\n",
      "Load of actual npy data:\n",
      "_______________\n",
      "Element:  gamma , Telescope:  1  Shape of loaded array (amount of images, size of images):  (1156, 93, 55)\n",
      "Element:  electron , Telescope:  1  Shape of loaded array (amount of images, size of images):  (1156, 93, 55)\n",
      "Element:  proton , Telescope:  1  Shape of loaded array (amount of images, size of images):  (1156, 93, 55)\n",
      "Element:  helium , Telescope:  1  Shape of loaded array (amount of images, size of images):  (1156, 93, 55)\n",
      "Element:  iron , Telescope:  1  Shape of loaded array (amount of images, size of images):  (1156, 93, 55)\n",
      "Element:  nitrogen , Telescope:  1  Shape of loaded array (amount of images, size of images):  (1156, 93, 55)\n",
      "Element:  silicon , Telescope:  1  Shape of loaded array (amount of images, size of images):  (1156, 93, 55)\n",
      "Element:  gamma , Telescope:  2  Shape of loaded array (amount of images, size of images):  (1156, 93, 55)\n",
      "Element:  electron , Telescope:  2  Shape of loaded array (amount of images, size of images):  (1156, 93, 55)\n",
      "Element:  proton , Telescope:  2  Shape of loaded array (amount of images, size of images):  (1156, 93, 55)\n",
      "Element:  helium , Telescope:  2  Shape of loaded array (amount of images, size of images):  (1156, 93, 55)\n",
      "Element:  iron , Telescope:  2  Shape of loaded array (amount of images, size of images):  (1156, 93, 55)\n",
      "Element:  nitrogen , Telescope:  2  Shape of loaded array (amount of images, size of images):  (1156, 93, 55)\n",
      "Element:  silicon , Telescope:  2  Shape of loaded array (amount of images, size of images):  (1156, 93, 55)\n",
      "Element:  gamma , Telescope:  3  Shape of loaded array (amount of images, size of images):  (1156, 93, 55)\n",
      "Element:  electron , Telescope:  3  Shape of loaded array (amount of images, size of images):  (1156, 93, 55)\n",
      "Element:  proton , Telescope:  3  Shape of loaded array (amount of images, size of images):  (1156, 93, 55)\n",
      "Element:  helium , Telescope:  3  Shape of loaded array (amount of images, size of images):  (1156, 93, 55)\n",
      "Element:  iron , Telescope:  3  Shape of loaded array (amount of images, size of images):  (1156, 93, 55)\n",
      "Element:  nitrogen , Telescope:  3  Shape of loaded array (amount of images, size of images):  (1156, 93, 55)\n",
      "Element:  silicon , Telescope:  3  Shape of loaded array (amount of images, size of images):  (1156, 93, 55)\n",
      "Element:  gamma , Telescope:  4  Shape of loaded array (amount of images, size of images):  (1156, 93, 55)\n",
      "Element:  electron , Telescope:  4  Shape of loaded array (amount of images, size of images):  (1156, 93, 55)\n",
      "Element:  proton , Telescope:  4  Shape of loaded array (amount of images, size of images):  (1156, 93, 55)\n",
      "Element:  helium , Telescope:  4  Shape of loaded array (amount of images, size of images):  (1156, 93, 55)\n",
      "Element:  iron , Telescope:  4  Shape of loaded array (amount of images, size of images):  (1156, 93, 55)\n",
      "Element:  nitrogen , Telescope:  4  Shape of loaded array (amount of images, size of images):  (1156, 93, 55)\n",
      "Element:  silicon , Telescope:  4  Shape of loaded array (amount of images, size of images):  (1156, 93, 55)\n",
      "SUCCESS\n",
      "Epoch 1/5\n",
      " 61/114 [===============>..............] - ETA: 12:57 - loss: 0.9277 - acc: 0.7111 - auc: 0.8775 - mean_squared_error: 0.1269"
     ]
    },
    {
     "ename": "KeyboardInterrupt",
     "evalue": "",
     "output_type": "error",
     "traceback": [
      "\u001b[0;31m---------------------------------------------------------------------------\u001b[0m",
      "\u001b[0;31mKeyboardInterrupt\u001b[0m                         Traceback (most recent call last)",
      "\u001b[0;32m/tmp/ipykernel_796008/1485341506.py\u001b[0m in \u001b[0;36m<module>\u001b[0;34m\u001b[0m\n\u001b[1;32m     23\u001b[0m \u001b[0;34m\u001b[0m\u001b[0m\n\u001b[1;32m     24\u001b[0m \u001b[0;34m\u001b[0m\u001b[0m\n\u001b[0;32m---> 25\u001b[0;31m             \u001b[0mhist\u001b[0m\u001b[0;34m=\u001b[0m\u001b[0mmodelo\u001b[0m\u001b[0;34m.\u001b[0m\u001b[0mfit\u001b[0m\u001b[0;34m(\u001b[0m\u001b[0mx\u001b[0m\u001b[0;34m=\u001b[0m\u001b[0mx_train_list\u001b[0m\u001b[0;34m,\u001b[0m\u001b[0my\u001b[0m\u001b[0;34m=\u001b[0m\u001b[0my_train_list\u001b[0m\u001b[0;34m,\u001b[0m\u001b[0mepochs\u001b[0m\u001b[0;34m=\u001b[0m\u001b[0;36m5\u001b[0m\u001b[0;34m,\u001b[0m \u001b[0mvalidation_data\u001b[0m\u001b[0;34m=\u001b[0m\u001b[0;34m(\u001b[0m\u001b[0mx_test_list\u001b[0m\u001b[0;34m,\u001b[0m\u001b[0my_test_list\u001b[0m\u001b[0;34m)\u001b[0m\u001b[0;34m,\u001b[0m\u001b[0mbatch_size\u001b[0m\u001b[0;34m=\u001b[0m\u001b[0;36m64\u001b[0m\u001b[0;34m)\u001b[0m\u001b[0;34m\u001b[0m\u001b[0;34m\u001b[0m\u001b[0m\n\u001b[0m\u001b[1;32m     26\u001b[0m             \u001b[0mgc\u001b[0m\u001b[0;34m.\u001b[0m\u001b[0mcollect\u001b[0m\u001b[0;34m(\u001b[0m\u001b[0;34m)\u001b[0m\u001b[0;34m\u001b[0m\u001b[0;34m\u001b[0m\u001b[0m\n\u001b[1;32m     27\u001b[0m             \u001b[0;32mdel\u001b[0m \u001b[0mx_train_list\u001b[0m\u001b[0;34m,\u001b[0m\u001b[0mx_test_list\u001b[0m\u001b[0;34m,\u001b[0m\u001b[0my_train_list\u001b[0m\u001b[0;34m,\u001b[0m\u001b[0my_test_list\u001b[0m\u001b[0;34m\u001b[0m\u001b[0;34m\u001b[0m\u001b[0m\n",
      "\u001b[0;32m~/.conda/envs/tenflow/lib/python3.7/site-packages/keras/utils/traceback_utils.py\u001b[0m in \u001b[0;36merror_handler\u001b[0;34m(*args, **kwargs)\u001b[0m\n\u001b[1;32m     62\u001b[0m     \u001b[0mfiltered_tb\u001b[0m \u001b[0;34m=\u001b[0m \u001b[0;32mNone\u001b[0m\u001b[0;34m\u001b[0m\u001b[0;34m\u001b[0m\u001b[0m\n\u001b[1;32m     63\u001b[0m     \u001b[0;32mtry\u001b[0m\u001b[0;34m:\u001b[0m\u001b[0;34m\u001b[0m\u001b[0;34m\u001b[0m\u001b[0m\n\u001b[0;32m---> 64\u001b[0;31m       \u001b[0;32mreturn\u001b[0m \u001b[0mfn\u001b[0m\u001b[0;34m(\u001b[0m\u001b[0;34m*\u001b[0m\u001b[0margs\u001b[0m\u001b[0;34m,\u001b[0m \u001b[0;34m**\u001b[0m\u001b[0mkwargs\u001b[0m\u001b[0;34m)\u001b[0m\u001b[0;34m\u001b[0m\u001b[0;34m\u001b[0m\u001b[0m\n\u001b[0m\u001b[1;32m     65\u001b[0m     \u001b[0;32mexcept\u001b[0m \u001b[0mException\u001b[0m \u001b[0;32mas\u001b[0m \u001b[0me\u001b[0m\u001b[0;34m:\u001b[0m  \u001b[0;31m# pylint: disable=broad-except\u001b[0m\u001b[0;34m\u001b[0m\u001b[0;34m\u001b[0m\u001b[0m\n\u001b[1;32m     66\u001b[0m       \u001b[0mfiltered_tb\u001b[0m \u001b[0;34m=\u001b[0m \u001b[0m_process_traceback_frames\u001b[0m\u001b[0;34m(\u001b[0m\u001b[0me\u001b[0m\u001b[0;34m.\u001b[0m\u001b[0m__traceback__\u001b[0m\u001b[0;34m)\u001b[0m\u001b[0;34m\u001b[0m\u001b[0;34m\u001b[0m\u001b[0m\n",
      "\u001b[0;32m~/.conda/envs/tenflow/lib/python3.7/site-packages/keras/engine/training.py\u001b[0m in \u001b[0;36mfit\u001b[0;34m(self, x, y, batch_size, epochs, verbose, callbacks, validation_split, validation_data, shuffle, class_weight, sample_weight, initial_epoch, steps_per_epoch, validation_steps, validation_batch_size, validation_freq, max_queue_size, workers, use_multiprocessing)\u001b[0m\n\u001b[1;32m   1407\u001b[0m                 _r=1):\n\u001b[1;32m   1408\u001b[0m               \u001b[0mcallbacks\u001b[0m\u001b[0;34m.\u001b[0m\u001b[0mon_train_batch_begin\u001b[0m\u001b[0;34m(\u001b[0m\u001b[0mstep\u001b[0m\u001b[0;34m)\u001b[0m\u001b[0;34m\u001b[0m\u001b[0;34m\u001b[0m\u001b[0m\n\u001b[0;32m-> 1409\u001b[0;31m               \u001b[0mtmp_logs\u001b[0m \u001b[0;34m=\u001b[0m \u001b[0mself\u001b[0m\u001b[0;34m.\u001b[0m\u001b[0mtrain_function\u001b[0m\u001b[0;34m(\u001b[0m\u001b[0miterator\u001b[0m\u001b[0;34m)\u001b[0m\u001b[0;34m\u001b[0m\u001b[0;34m\u001b[0m\u001b[0m\n\u001b[0m\u001b[1;32m   1410\u001b[0m               \u001b[0;32mif\u001b[0m \u001b[0mdata_handler\u001b[0m\u001b[0;34m.\u001b[0m\u001b[0mshould_sync\u001b[0m\u001b[0;34m:\u001b[0m\u001b[0;34m\u001b[0m\u001b[0;34m\u001b[0m\u001b[0m\n\u001b[1;32m   1411\u001b[0m                 \u001b[0mcontext\u001b[0m\u001b[0;34m.\u001b[0m\u001b[0masync_wait\u001b[0m\u001b[0;34m(\u001b[0m\u001b[0;34m)\u001b[0m\u001b[0;34m\u001b[0m\u001b[0;34m\u001b[0m\u001b[0m\n",
      "\u001b[0;32m~/.conda/envs/tenflow/lib/python3.7/site-packages/tensorflow/python/util/traceback_utils.py\u001b[0m in \u001b[0;36merror_handler\u001b[0;34m(*args, **kwargs)\u001b[0m\n\u001b[1;32m    148\u001b[0m     \u001b[0mfiltered_tb\u001b[0m \u001b[0;34m=\u001b[0m \u001b[0;32mNone\u001b[0m\u001b[0;34m\u001b[0m\u001b[0;34m\u001b[0m\u001b[0m\n\u001b[1;32m    149\u001b[0m     \u001b[0;32mtry\u001b[0m\u001b[0;34m:\u001b[0m\u001b[0;34m\u001b[0m\u001b[0;34m\u001b[0m\u001b[0m\n\u001b[0;32m--> 150\u001b[0;31m       \u001b[0;32mreturn\u001b[0m \u001b[0mfn\u001b[0m\u001b[0;34m(\u001b[0m\u001b[0;34m*\u001b[0m\u001b[0margs\u001b[0m\u001b[0;34m,\u001b[0m \u001b[0;34m**\u001b[0m\u001b[0mkwargs\u001b[0m\u001b[0;34m)\u001b[0m\u001b[0;34m\u001b[0m\u001b[0;34m\u001b[0m\u001b[0m\n\u001b[0m\u001b[1;32m    151\u001b[0m     \u001b[0;32mexcept\u001b[0m \u001b[0mException\u001b[0m \u001b[0;32mas\u001b[0m \u001b[0me\u001b[0m\u001b[0;34m:\u001b[0m\u001b[0;34m\u001b[0m\u001b[0;34m\u001b[0m\u001b[0m\n\u001b[1;32m    152\u001b[0m       \u001b[0mfiltered_tb\u001b[0m \u001b[0;34m=\u001b[0m \u001b[0m_process_traceback_frames\u001b[0m\u001b[0;34m(\u001b[0m\u001b[0me\u001b[0m\u001b[0;34m.\u001b[0m\u001b[0m__traceback__\u001b[0m\u001b[0;34m)\u001b[0m\u001b[0;34m\u001b[0m\u001b[0;34m\u001b[0m\u001b[0m\n",
      "\u001b[0;32m~/.conda/envs/tenflow/lib/python3.7/site-packages/tensorflow/python/eager/def_function.py\u001b[0m in \u001b[0;36m__call__\u001b[0;34m(self, *args, **kwds)\u001b[0m\n\u001b[1;32m    913\u001b[0m \u001b[0;34m\u001b[0m\u001b[0m\n\u001b[1;32m    914\u001b[0m       \u001b[0;32mwith\u001b[0m \u001b[0mOptionalXlaContext\u001b[0m\u001b[0;34m(\u001b[0m\u001b[0mself\u001b[0m\u001b[0;34m.\u001b[0m\u001b[0m_jit_compile\u001b[0m\u001b[0;34m)\u001b[0m\u001b[0;34m:\u001b[0m\u001b[0;34m\u001b[0m\u001b[0;34m\u001b[0m\u001b[0m\n\u001b[0;32m--> 915\u001b[0;31m         \u001b[0mresult\u001b[0m \u001b[0;34m=\u001b[0m \u001b[0mself\u001b[0m\u001b[0;34m.\u001b[0m\u001b[0m_call\u001b[0m\u001b[0;34m(\u001b[0m\u001b[0;34m*\u001b[0m\u001b[0margs\u001b[0m\u001b[0;34m,\u001b[0m \u001b[0;34m**\u001b[0m\u001b[0mkwds\u001b[0m\u001b[0;34m)\u001b[0m\u001b[0;34m\u001b[0m\u001b[0;34m\u001b[0m\u001b[0m\n\u001b[0m\u001b[1;32m    916\u001b[0m \u001b[0;34m\u001b[0m\u001b[0m\n\u001b[1;32m    917\u001b[0m       \u001b[0mnew_tracing_count\u001b[0m \u001b[0;34m=\u001b[0m \u001b[0mself\u001b[0m\u001b[0;34m.\u001b[0m\u001b[0mexperimental_get_tracing_count\u001b[0m\u001b[0;34m(\u001b[0m\u001b[0;34m)\u001b[0m\u001b[0;34m\u001b[0m\u001b[0;34m\u001b[0m\u001b[0m\n",
      "\u001b[0;32m~/.conda/envs/tenflow/lib/python3.7/site-packages/tensorflow/python/eager/def_function.py\u001b[0m in \u001b[0;36m_call\u001b[0;34m(self, *args, **kwds)\u001b[0m\n\u001b[1;32m    945\u001b[0m       \u001b[0;31m# In this case we have created variables on the first call, so we run the\u001b[0m\u001b[0;34m\u001b[0m\u001b[0;34m\u001b[0m\u001b[0;34m\u001b[0m\u001b[0m\n\u001b[1;32m    946\u001b[0m       \u001b[0;31m# defunned version which is guaranteed to never create variables.\u001b[0m\u001b[0;34m\u001b[0m\u001b[0;34m\u001b[0m\u001b[0;34m\u001b[0m\u001b[0m\n\u001b[0;32m--> 947\u001b[0;31m       \u001b[0;32mreturn\u001b[0m \u001b[0mself\u001b[0m\u001b[0;34m.\u001b[0m\u001b[0m_stateless_fn\u001b[0m\u001b[0;34m(\u001b[0m\u001b[0;34m*\u001b[0m\u001b[0margs\u001b[0m\u001b[0;34m,\u001b[0m \u001b[0;34m**\u001b[0m\u001b[0mkwds\u001b[0m\u001b[0;34m)\u001b[0m  \u001b[0;31m# pylint: disable=not-callable\u001b[0m\u001b[0;34m\u001b[0m\u001b[0;34m\u001b[0m\u001b[0m\n\u001b[0m\u001b[1;32m    948\u001b[0m     \u001b[0;32melif\u001b[0m \u001b[0mself\u001b[0m\u001b[0;34m.\u001b[0m\u001b[0m_stateful_fn\u001b[0m \u001b[0;32mis\u001b[0m \u001b[0;32mnot\u001b[0m \u001b[0;32mNone\u001b[0m\u001b[0;34m:\u001b[0m\u001b[0;34m\u001b[0m\u001b[0;34m\u001b[0m\u001b[0m\n\u001b[1;32m    949\u001b[0m       \u001b[0;31m# Release the lock early so that multiple threads can perform the call\u001b[0m\u001b[0;34m\u001b[0m\u001b[0;34m\u001b[0m\u001b[0;34m\u001b[0m\u001b[0m\n",
      "\u001b[0;32m~/.conda/envs/tenflow/lib/python3.7/site-packages/tensorflow/python/eager/function.py\u001b[0m in \u001b[0;36m__call__\u001b[0;34m(self, *args, **kwargs)\u001b[0m\n\u001b[1;32m   2452\u001b[0m        filtered_flat_args) = self._maybe_define_function(args, kwargs)\n\u001b[1;32m   2453\u001b[0m     return graph_function._call_flat(\n\u001b[0;32m-> 2454\u001b[0;31m         filtered_flat_args, captured_inputs=graph_function.captured_inputs)  # pylint: disable=protected-access\n\u001b[0m\u001b[1;32m   2455\u001b[0m \u001b[0;34m\u001b[0m\u001b[0m\n\u001b[1;32m   2456\u001b[0m   \u001b[0;34m@\u001b[0m\u001b[0mproperty\u001b[0m\u001b[0;34m\u001b[0m\u001b[0;34m\u001b[0m\u001b[0m\n",
      "\u001b[0;32m~/.conda/envs/tenflow/lib/python3.7/site-packages/tensorflow/python/eager/function.py\u001b[0m in \u001b[0;36m_call_flat\u001b[0;34m(self, args, captured_inputs, cancellation_manager)\u001b[0m\n\u001b[1;32m   1859\u001b[0m       \u001b[0;31m# No tape is watching; skip to running the function.\u001b[0m\u001b[0;34m\u001b[0m\u001b[0;34m\u001b[0m\u001b[0;34m\u001b[0m\u001b[0m\n\u001b[1;32m   1860\u001b[0m       return self._build_call_outputs(self._inference_function.call(\n\u001b[0;32m-> 1861\u001b[0;31m           ctx, args, cancellation_manager=cancellation_manager))\n\u001b[0m\u001b[1;32m   1862\u001b[0m     forward_backward = self._select_forward_and_backward_functions(\n\u001b[1;32m   1863\u001b[0m         \u001b[0margs\u001b[0m\u001b[0;34m,\u001b[0m\u001b[0;34m\u001b[0m\u001b[0;34m\u001b[0m\u001b[0m\n",
      "\u001b[0;32m~/.conda/envs/tenflow/lib/python3.7/site-packages/tensorflow/python/eager/function.py\u001b[0m in \u001b[0;36mcall\u001b[0;34m(self, ctx, args, cancellation_manager)\u001b[0m\n\u001b[1;32m    500\u001b[0m               \u001b[0minputs\u001b[0m\u001b[0;34m=\u001b[0m\u001b[0margs\u001b[0m\u001b[0;34m,\u001b[0m\u001b[0;34m\u001b[0m\u001b[0;34m\u001b[0m\u001b[0m\n\u001b[1;32m    501\u001b[0m               \u001b[0mattrs\u001b[0m\u001b[0;34m=\u001b[0m\u001b[0mattrs\u001b[0m\u001b[0;34m,\u001b[0m\u001b[0;34m\u001b[0m\u001b[0;34m\u001b[0m\u001b[0m\n\u001b[0;32m--> 502\u001b[0;31m               ctx=ctx)\n\u001b[0m\u001b[1;32m    503\u001b[0m         \u001b[0;32melse\u001b[0m\u001b[0;34m:\u001b[0m\u001b[0;34m\u001b[0m\u001b[0;34m\u001b[0m\u001b[0m\n\u001b[1;32m    504\u001b[0m           outputs = execute.execute_with_cancellation(\n",
      "\u001b[0;32m~/.conda/envs/tenflow/lib/python3.7/site-packages/tensorflow/python/eager/execute.py\u001b[0m in \u001b[0;36mquick_execute\u001b[0;34m(op_name, num_outputs, inputs, attrs, ctx, name)\u001b[0m\n\u001b[1;32m     53\u001b[0m     \u001b[0mctx\u001b[0m\u001b[0;34m.\u001b[0m\u001b[0mensure_initialized\u001b[0m\u001b[0;34m(\u001b[0m\u001b[0;34m)\u001b[0m\u001b[0;34m\u001b[0m\u001b[0;34m\u001b[0m\u001b[0m\n\u001b[1;32m     54\u001b[0m     tensors = pywrap_tfe.TFE_Py_Execute(ctx._handle, device_name, op_name,\n\u001b[0;32m---> 55\u001b[0;31m                                         inputs, attrs, num_outputs)\n\u001b[0m\u001b[1;32m     56\u001b[0m   \u001b[0;32mexcept\u001b[0m \u001b[0mcore\u001b[0m\u001b[0;34m.\u001b[0m\u001b[0m_NotOkStatusException\u001b[0m \u001b[0;32mas\u001b[0m \u001b[0me\u001b[0m\u001b[0;34m:\u001b[0m\u001b[0;34m\u001b[0m\u001b[0;34m\u001b[0m\u001b[0m\n\u001b[1;32m     57\u001b[0m     \u001b[0;32mif\u001b[0m \u001b[0mname\u001b[0m \u001b[0;32mis\u001b[0m \u001b[0;32mnot\u001b[0m \u001b[0;32mNone\u001b[0m\u001b[0;34m:\u001b[0m\u001b[0;34m\u001b[0m\u001b[0;34m\u001b[0m\u001b[0m\n",
      "\u001b[0;31mKeyboardInterrupt\u001b[0m: "
     ]
    }
   ],
   "source": [
    "device = cuda.get_current_device()\n",
    "file_number=\"002\"\n",
    "n=7 #repes de boostrap\n",
    "#primer bucle para arquitecturas\n",
    "for i,arch in enumerate(opciones_filtros):\n",
    "    print(f\"{i}: {arch} \\n\")\n",
    "    modelo=models.model_multi_tel(classes=3,filtros=arch,last_dense=[20,5])\n",
    "    modelo.compile(optimizer=\"adam\",loss=\"categorical_crossentropy\",metrics=[\"acc\",\"AUC\",\"mean_squared_error\"])\n",
    "    with open(f\"../automat/logs/{file_number}_data_control.txt\",\"a\") as registro:\n",
    "        registro.write(f\"Con arquitectura: {arch} : \\n\")\n",
    "\n",
    "    #segundo_bucle para boostrap\n",
    "    for k in range(n):\n",
    "        print(f\"\\n Boostrap {k+1} de {n}, y uso memoria CPU: {tf.config.experimental.get_memory_info('CPU:0')['current']>>20}mB\\n\")\n",
    "\n",
    "        list_runs=new_create_main_list_runs([1,7,7,7,7,7,7],chose_runs)\n",
    "        with open(f\"../automat/logs/{file_number}_data_control.txt\",\"a\") as registro:\n",
    "            registro.write(f\"Boostrap {k+1} de {n},runs: {list_runs},y uso memoria CPU: {tf.config.experimental.get_memory_info('CPU:0')['current']>>20}Mb \\n\")\n",
    "        x_train_list,x_test_list,y_train_list,y_test_list=loaddata4use.load_dataset_completo(npy_final_dir,labels_asign=[0,1,2,2,2,2,2],elements=elements,\n",
    "                                                                                            main_list_runs=list_runs,pre_name_folders=\"npy_\",telescopes=[1,2,3,4],\n",
    "                                                                                            test_size=0.1,same_quant=\"same\",verbose=True,fill=True,categorical=True)\n",
    "        x_train_list=cambiar_ejes_lista(x_train_list)\n",
    "        x_test_list=cambiar_ejes_lista(x_test_list)\n",
    "\n",
    "        \n",
    "        hist=modelo.fit(x=x_train_list,y=y_train_list,epochs=5, validation_data=(x_test_list,y_test_list),batch_size=64)            \n",
    "        gc.collect()\n",
    "        del x_train_list,x_test_list,y_train_list,y_test_list\n",
    "        modelo.save(f\"../modelos/{file_number}_modelo_filtro_{i}_en_boostrap_stage_{k+1}.h5\")\n",
    "        with open(f\"../modelos/performances/{file_number}_history_modelo_filtro_{i}_en_boostrap_stage_{k+1}.pickle\",\"wb\") as pick:\n",
    "            pickle.dump(hist,pick)\n",
    "    gc.collect()\n",
    "    del modelo \n",
    "    tf.keras.backend.clear_session()\n",
    "    device.reset()\n"
   ]
  },
  {
   "attachments": {},
   "cell_type": "markdown",
   "metadata": {},
   "source": [
    "Nos sale con el cuda de numba que tenemos una GeForce, pero no nos sale de la otra manera con tf.  \n",
    "Hemos incluido una sentencias que resetean el backend de keras y tambien he metido los del mejor, antes estaban mal puestos.  "
   ]
  },
  {
   "cell_type": "code",
   "execution_count": 21,
   "metadata": {},
   "outputs": [
    {
     "ename": "TypeError",
     "evalue": "'NoneType' object is not callable",
     "output_type": "error",
     "traceback": [
      "\u001b[0;31m---------------------------------------------------------------------------\u001b[0m",
      "\u001b[0;31mTypeError\u001b[0m                                 Traceback (most recent call last)",
      "\u001b[0;32m/tmp/ipykernel_822979/1207662822.py\u001b[0m in \u001b[0;36m<module>\u001b[0;34m\u001b[0m\n\u001b[0;32m----> 1\u001b[0;31m \u001b[0mcuda\u001b[0m\u001b[0;34m.\u001b[0m\u001b[0mdevices\u001b[0m\u001b[0;34m.\u001b[0m\u001b[0mgpus\u001b[0m\u001b[0;34m.\u001b[0m\u001b[0mcurrent\u001b[0m\u001b[0;34m(\u001b[0m\u001b[0;34m)\u001b[0m\u001b[0;34m\u001b[0m\u001b[0;34m\u001b[0m\u001b[0m\n\u001b[0m",
      "\u001b[0;31mTypeError\u001b[0m: 'NoneType' object is not callable"
     ]
    }
   ],
   "source": []
  },
  {
   "cell_type": "code",
   "execution_count": null,
   "metadata": {},
   "outputs": [],
   "source": []
  }
 ],
 "metadata": {
  "kernelspec": {
   "display_name": "tenflow",
   "language": "python",
   "name": "python3"
  },
  "language_info": {
   "codemirror_mode": {
    "name": "ipython",
    "version": 3
   },
   "file_extension": ".py",
   "mimetype": "text/x-python",
   "name": "python",
   "nbconvert_exporter": "python",
   "pygments_lexer": "ipython3",
   "version": "3.7.13 (default, Mar 29 2022, 02:18:16) \n[GCC 7.5.0]"
  },
  "orig_nbformat": 4,
  "vscode": {
   "interpreter": {
    "hash": "625632e34438667797d745dfa197b544023682acc26137f69b08b406359121fc"
   }
  }
 },
 "nbformat": 4,
 "nbformat_minor": 2
}
