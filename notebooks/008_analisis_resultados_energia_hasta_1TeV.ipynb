{
 "cells": [
  {
   "attachments": {},
   "cell_type": "markdown",
   "metadata": {},
   "source": [
    "Para cargar los datos en memria voy a usar funciones básicas."
   ]
  },
  {
   "cell_type": "code",
   "execution_count": 17,
   "metadata": {},
   "outputs": [],
   "source": [
    "import numpy as np\n",
    "import matplotlib.pyplot as plt \n",
    "import pickle\n",
    "\n",
    "#importamos librerias\n",
    "\n",
    "import sys\n",
    "sys.path.append(os.path.join(os.path.abspath(\"..\"),\"src/CTA-data-analisis-library\"))\n",
    "import os \n",
    "import subprocess\n",
    "\n",
    "from datetime import datetime\n",
    "from glob import glob\n",
    "import matplotlib.pyplot as plt\n",
    "import seaborn as sns\n",
    "from numba import jit\n",
    "import pandas as pd\n",
    "import tensorflow as tf \n",
    "import psutil\n",
    "import re\n",
    "import random\n",
    "import shutil\n",
    "import pickle\n",
    "from numba import cuda\n",
    "import gc\n",
    "\n",
    "#propias\n",
    "import unzipdata_and_first_treatments as manipulate\n",
    "import loaddata4use\n",
    "import model_creation_functions as models"
   ]
  },
  {
   "cell_type": "code",
   "execution_count": 18,
   "metadata": {},
   "outputs": [],
   "source": [
    "aux1=[]\n",
    "aux3=[]\n",
    "for i in range(1,19):\n",
    "    with open(f\"../modelos/performances/008_history_modelo_filtro_0_en_boostrap_stage_{i}_energy.pickle\",\"rb\") as fil:\n",
    "        hist=pickle.load(fil)\n",
    "        aux1.append(hist[\"loss\"])\n",
    "        aux3.append(hist[\"val_loss\"])"
   ]
  },
  {
   "cell_type": "code",
   "execution_count": 19,
   "metadata": {},
   "outputs": [],
   "source": [
    "aux2=[j for i in aux1 for j in i]\n",
    "aux4=[j for i in aux3 for j in i]\n",
    "\n"
   ]
  },
  {
   "cell_type": "code",
   "execution_count": 20,
   "metadata": {},
   "outputs": [
    {
     "data": {
      "text/plain": [
       "[<matplotlib.lines.Line2D at 0x7fceedd94990>]"
      ]
     },
     "execution_count": 20,
     "metadata": {},
     "output_type": "execute_result"
    },
    {
     "data": {
      "image/png": "[encoded data removed]",
      "text/plain": [
       "<Figure size 640x480 with 1 Axes>"
      ]
     },
     "metadata": {},
     "output_type": "display_data"
    }
   ],
   "source": [
    "plt.plot(aux2)\n",
    "plt.plot(aux4)\n"
   ]
  },
  {
   "attachments": {},
   "cell_type": "markdown",
   "metadata": {},
   "source": [
    "## Carga de datos de test"
   ]
  },
  {
   "cell_type": "code",
   "execution_count": 21,
   "metadata": {},
   "outputs": [],
   "source": [
    "def runs_disponibles(npy_dir,elements):\n",
    "    lista=[]\n",
    "    for i in elements:\n",
    "        npy_element_dir=os.path.join(npy_dir,\"npy_\"+i)\n",
    "        runs=[int(re.search(\"run_([0-9]{3})_0\\.npy\",i).group(1)) for i in os.listdir(npy_element_dir) if re.search(\"run_([0-9]{3})_0\\.npy\",i)]\n",
    "        lista.append(runs)\n",
    "    return lista\n",
    "\n",
    "\n",
    "def new_create_main_list_runs(number_runs_per_element,posibles_runs):\n",
    "    #esto es aleatorio por defecto, porque es lo unico que necesito por ahora    \n",
    "    final=[]\n",
    "    for ind,lista_runs_element in enumerate(posibles_runs):\n",
    "        final.append(random.sample(lista_runs_element,number_runs_per_element[ind]))\n",
    "    return final\n",
    "\n",
    "#tenemos que hacer un ligero cambio porque se estan cargando con los ejes cambiados\n",
    "def cambiar_ejes_lista(lista):\n",
    "    for i,j in enumerate(lista):\n",
    "        lista[i]=np.swapaxes(j,1,2)\n",
    "    return lista\n"
   ]
  },
  {
   "cell_type": "code",
   "execution_count": 22,
   "metadata": {},
   "outputs": [],
   "source": [
    "#enviroment variables\n",
    "npy_final_dir=\"../datos/elementos_npy_test\"\n",
    "base_dir_elementos=\"../datos/elementos\"\n",
    "elements=['gamma', 'electron']"
   ]
  },
  {
   "cell_type": "code",
   "execution_count": 23,
   "metadata": {},
   "outputs": [],
   "source": [
    "chose_runs=runs_disponibles(npy_final_dir,elements)\n"
   ]
  },
  {
   "cell_type": "code",
   "execution_count": 28,
   "metadata": {},
   "outputs": [
    {
     "name": "stdout",
     "output_type": "stream",
     "text": [
      "Load of names and common events\n",
      "_______________\n",
      "Runs:  [4, 47, 16, 9, 8, 4]\n",
      "Element:  gamma  , Run:  4  Shape of common events (common events, energies):  (4, 1095) (4, 1095)\n",
      "Element:  gamma  , Run:  47  Shape of common events (common events, energies):  (4, 1087) (4, 1087)\n",
      "Element:  gamma  , Run:  16  Shape of common events (common events, energies):  (4, 1134) (4, 1134)\n",
      "Element:  gamma  , Run:  9  Shape of common events (common events, energies):  (4, 1088) (4, 1088)\n",
      "Element:  gamma  , Run:  8  Shape of common events (common events, energies):  (4, 1066) (4, 1066)\n",
      "Element:  gamma  , Run:  4  Shape of common events (common events, energies):  (4, 1095) (4, 1095)\n",
      "Runs:  [97, 57, 6, 54, 119, 125, 5, 32, 6, 78, 98, 158, 98, 32, 137, 57, 49, 36, 2, 101, 48, 54, 147, 49, 71, 48, 119, 115, 115, 59]\n",
      "Element:  electron  , Run:  97  Shape of common events (common events, energies):  (4, 236) (4, 236)\n",
      "Element:  electron  , Run:  57  Shape of common events (common events, energies):  (4, 257) (4, 257)\n",
      "Element:  electron  , Run:  6  Shape of common events (common events, energies):  (4, 223) (4, 223)\n",
      "Element:  electron  , Run:  54  Shape of common events (common events, energies):  (4, 241) (4, 241)\n",
      "Element:  electron  , Run:  119  Shape of common events (common events, energies):  (4, 280) (4, 280)\n",
      "Element:  electron  , Run:  125  Shape of common events (common events, energies):  (4, 238) (4, 238)\n",
      "Element:  electron  , Run:  5  Shape of common events (common events, energies):  (4, 248) (4, 248)\n",
      "Element:  electron  , Run:  32  Shape of common events (common events, energies):  (4, 264) (4, 264)\n",
      "Element:  electron  , Run:  6  Shape of common events (common events, energies):  (4, 223) (4, 223)\n",
      "Element:  electron  , Run:  78  Shape of common events (common events, energies):  (4, 247) (4, 247)\n",
      "Element:  electron  , Run:  98  Shape of common events (common events, energies):  (4, 240) (4, 240)\n",
      "Element:  electron  , Run:  158  Shape of common events (common events, energies):  (4, 237) (4, 237)\n",
      "Element:  electron  , Run:  98  Shape of common events (common events, energies):  (4, 240) (4, 240)\n",
      "Element:  electron  , Run:  32  Shape of common events (common events, energies):  (4, 264) (4, 264)\n",
      "Element:  electron  , Run:  137  Shape of common events (common events, energies):  (4, 237) (4, 237)\n",
      "Element:  electron  , Run:  57  Shape of common events (common events, energies):  (4, 257) (4, 257)\n",
      "Element:  electron  , Run:  49  Shape of common events (common events, energies):  (4, 247) (4, 247)\n",
      "Element:  electron  , Run:  36  Shape of common events (common events, energies):  (4, 242) (4, 242)\n",
      "Element:  electron  , Run:  2  Shape of common events (common events, energies):  (4, 229) (4, 229)\n",
      "Element:  electron  , Run:  101  Shape of common events (common events, energies):  (4, 239) (4, 239)\n",
      "Element:  electron  , Run:  48  Shape of common events (common events, energies):  (4, 253) (4, 253)\n",
      "Element:  electron  , Run:  54  Shape of common events (common events, energies):  (4, 241) (4, 241)\n",
      "Element:  electron  , Run:  147  Shape of common events (common events, energies):  (4, 238) (4, 238)\n",
      "Element:  electron  , Run:  49  Shape of common events (common events, energies):  (4, 247) (4, 247)\n",
      "Element:  electron  , Run:  71  Shape of common events (common events, energies):  (4, 250) (4, 250)\n",
      "Element:  electron  , Run:  48  Shape of common events (common events, energies):  (4, 253) (4, 253)\n",
      "Element:  electron  , Run:  119  Shape of common events (common events, energies):  (4, 280) (4, 280)\n",
      "Element:  electron  , Run:  115  Shape of common events (common events, energies):  (4, 215) (4, 215)\n",
      "Element:  electron  , Run:  115  Shape of common events (common events, energies):  (4, 215) (4, 215)\n",
      "Element:  electron  , Run:  59  Shape of common events (common events, energies):  (4, 236) (4, 236)\n",
      "_______________\n",
      "Load of actual npy data:\n",
      "_______________\n",
      "5654\n",
      "Element:  gamma , Telescope:  1  Shape of loaded array (amount of images, size of images):  (5654, 93, 55)\n",
      "Energies vector shape: (5654,)\n",
      "Element:  electron , Telescope:  1  Shape of loaded array (amount of images, size of images):  (5654, 93, 55)\n",
      "Energies vector shape: (5654,)\n",
      "Final data shape (11308, 93, 55, 1) Final energies shape:  (11308,)\n",
      "_____________________ \n",
      "\n",
      "Element:  gamma , Telescope:  2  Shape of loaded array (amount of images, size of images):  (5654, 93, 55)\n",
      "Element:  electron , Telescope:  2  Shape of loaded array (amount of images, size of images):  (5654, 93, 55)\n",
      "Element:  gamma , Telescope:  3  Shape of loaded array (amount of images, size of images):  (5654, 93, 55)\n",
      "Element:  electron , Telescope:  3  Shape of loaded array (amount of images, size of images):  (5654, 93, 55)\n",
      "Element:  gamma , Telescope:  4  Shape of loaded array (amount of images, size of images):  (5654, 93, 55)\n",
      "Element:  electron , Telescope:  4  Shape of loaded array (amount of images, size of images):  (5654, 93, 55)\n",
      "SUCCESS\n"
     ]
    }
   ],
   "source": [
    "list_runs=new_create_main_list_runs([6,30],chose_runs)#new_create_main_list_runs([2,6,6,6,6,6,6],chose_runs)\n",
    "\n",
    "x_train_list,x_test_list,y_train_list,y_test_list,element_shapes=loaddata4use.load_dataset_energy(npy_final_dir,base_dir_elementos,elementos=['gamma', 'electron'],\n",
    "                                                        main_list_runs=list_runs,telescopios=[1,2,3,4],test_size=0,return_shapes=True,\n",
    "                                                        same_quant=\"same\",verbose=True,fill=True,lower_energy_bound=0,\n",
    "                                                        upper_energy_bound=1)\n",
    "x_train_list=cambiar_ejes_lista(x_train_list)\n",
    "#x_test_list=cambiar_ejes_lista(x_test_list)\n"
   ]
  },
  {
   "cell_type": "code",
   "execution_count": null,
   "metadata": {},
   "outputs": [
    {
     "data": {
      "text/plain": [
       "[4124, 4455]"
      ]
     },
     "execution_count": 10,
     "metadata": {},
     "output_type": "execute_result"
    }
   ],
   "source": [
    "element_shapes"
   ]
  },
  {
   "cell_type": "code",
   "execution_count": 29,
   "metadata": {},
   "outputs": [
    {
     "data": {
      "text/plain": [
       "(array([4704., 2151., 1260.,  895.,  623.,  481.,  422.,  298.,  264.,\n",
       "         210.]),\n",
       " array([0.03   , 0.12698, 0.22396, 0.32094, 0.41792, 0.5149 , 0.61188,\n",
       "        0.70886, 0.80584, 0.90282, 0.9998 ]),\n",
       " <BarContainer object of 10 artists>)"
      ]
     },
     "execution_count": 29,
     "metadata": {},
     "output_type": "execute_result"
    },
    {
     "data": {
      "image/png": "[encoded data removed]",
      "text/plain": [
       "<Figure size 640x480 with 1 Axes>"
      ]
     },
     "metadata": {},
     "output_type": "display_data"
    }
   ],
   "source": [
    "plt.hist(y_train_list)"
   ]
  },
  {
   "cell_type": "code",
   "execution_count": 30,
   "metadata": {},
   "outputs": [
    {
     "name": "stderr",
     "output_type": "stream",
     "text": [
      "2023-02-20 13:52:07.492959: I tensorflow/core/platform/cpu_feature_guard.cc:193] This TensorFlow binary is optimized with oneAPI Deep Neural Network Library (oneDNN) to use the following CPU instructions in performance-critical operations:  SSE4.1\n",
      "To enable them in other operations, rebuild TensorFlow with the appropriate compiler flags.\n",
      "2023-02-20 13:52:07.598259: I tensorflow/core/common_runtime/process_util.cc:146] Creating new thread pool with default inter op setting: 2. Tune using inter_op_parallelism_threads for best performance.\n"
     ]
    }
   ],
   "source": [
    "#cargamos el ultimo modelo de los dos filtros:\n",
    "modelos=[tf.keras.models.load_model(name) for name in glob(\"../modelos/008_modelo_filtro_*_en_boostrap_stage_18_energy.h5\")]\n"
   ]
  },
  {
   "cell_type": "code",
   "execution_count": 31,
   "metadata": {},
   "outputs": [
    {
     "name": "stdout",
     "output_type": "stream",
     "text": [
      "Ciclo 0\n",
      "Shape (350, 55, 93, 1)\n",
      "Ciclo 1\n",
      "Shape (350, 55, 93, 1)\n",
      "Ciclo 2\n",
      "Shape (350, 55, 93, 1)\n",
      "Ciclo 3\n",
      "Shape (350, 55, 93, 1)\n",
      "Ciclo 4\n",
      "Shape (350, 55, 93, 1)\n",
      "Ciclo 5\n",
      "Shape (350, 55, 93, 1)\n",
      "Ciclo 6\n",
      "Shape (350, 55, 93, 1)\n",
      "Ciclo 7\n",
      "Shape (350, 55, 93, 1)\n",
      "Ciclo 8\n",
      "Shape (350, 55, 93, 1)\n",
      "Ciclo 9\n",
      "Shape (350, 55, 93, 1)\n",
      "Ciclo 10\n",
      "Shape (350, 55, 93, 1)\n",
      "Ciclo 11\n",
      "Shape (350, 55, 93, 1)\n",
      "Ciclo 12\n",
      "Shape (350, 55, 93, 1)\n",
      "Ciclo 13\n",
      "Shape (350, 55, 93, 1)\n",
      "Ciclo 14\n",
      "Shape (350, 55, 93, 1)\n",
      "Ciclo 15\n",
      "Shape (350, 55, 93, 1)\n",
      "Ciclo 16\n",
      "Shape (350, 55, 93, 1)\n",
      "Ciclo 17\n",
      "Shape (350, 55, 93, 1)\n",
      "Ciclo 18\n",
      "Shape (350, 55, 93, 1)\n",
      "Ciclo 19\n",
      "Shape (350, 55, 93, 1)\n",
      "Ciclo 20\n",
      "Shape (350, 55, 93, 1)\n",
      "Ciclo 21\n",
      "Shape (350, 55, 93, 1)\n",
      "Ciclo 22\n",
      "Shape (350, 55, 93, 1)\n",
      "Ciclo 23\n",
      "Shape (350, 55, 93, 1)\n",
      "Ciclo 24\n",
      "Shape (350, 55, 93, 1)\n",
      "Ciclo 25\n",
      "Shape (350, 55, 93, 1)\n",
      "Ciclo 26\n",
      "Shape (350, 55, 93, 1)\n",
      "Ciclo 27\n",
      "Shape (350, 55, 93, 1)\n",
      "Ciclo 28\n",
      "Shape (350, 55, 93, 1)\n",
      "Ciclo 29\n",
      "Shape (350, 55, 93, 1)\n",
      "Ciclo 30\n",
      "Shape (350, 55, 93, 1)\n",
      "Ciclo 31\n",
      "Shape (350, 55, 93, 1)\n",
      "Ciclo 32\n",
      "Shape (108, 55, 93, 1)\n"
     ]
    }
   ],
   "source": [
    "y_pred_all=[]\n",
    "total_len=x_train_list[1].shape[0]\n",
    "n=350\n",
    "cicles=int(np.ceil(total_len/n))\n",
    "for i in range(cicles):\n",
    "    print(\"Ciclo\",i)\n",
    "    if (n*i+n)>=total_len:\n",
    "        final=total_len\n",
    "    else:\n",
    "        final=n*i+n\n",
    "\n",
    "    x_aux=[ x[(n*i):final,:,:,:] for x in x_train_list]\n",
    "    print(\"Shape\",x_aux[0].shape)\n",
    "    y_pred=[model(x_aux).numpy() for model in modelos]\n",
    "    if i==0:\n",
    "        y_pred_all=y_pred\n",
    "    else:\n",
    "        for j in range(len(y_pred_all)):\n",
    "            y_pred_all[j]=np.concatenate([y_pred_all[j],y_pred[j]],axis=0)\n"
   ]
  },
  {
   "cell_type": "code",
   "execution_count": 34,
   "metadata": {},
   "outputs": [
    {
     "name": "stdout",
     "output_type": "stream",
     "text": [
      "3 (11308, 1)\n"
     ]
    }
   ],
   "source": [
    "print( len(y_pred_all), y_pred_all[1].shape)"
   ]
  },
  {
   "cell_type": "code",
   "execution_count": 35,
   "metadata": {},
   "outputs": [],
   "source": [
    "# Polynomial Regression\n",
    "def polyfit(x, y, degree):\n",
    "    results = {}\n",
    "\n",
    "    coeffs = np.polyfit(x, y, degree)\n",
    "\n",
    "     # Polynomial Coefficients\n",
    "    results['polynomial'] = coeffs.tolist()\n",
    "\n",
    "    # r-squared\n",
    "    p = np.poly1d(coeffs)\n",
    "    # fit values, and mean\n",
    "    yhat = p(x)                      # or [p(z) for z in x]\n",
    "    ybar = np.sum(y)/len(y)          # or sum(y)/len(y)\n",
    "    ssreg = np.sum((yhat-ybar)**2)   # or sum([ (yihat - ybar)**2 for yihat in yhat])\n",
    "    sstot = np.sum((y - ybar)**2)    # or sum([ (yi - ybar)**2 for yi in y])\n",
    "    results[\"y_pred\"]=yhat\n",
    "    results['determination'] = ssreg / sstot\n",
    "\n",
    "    return results,p"
   ]
  },
  {
   "cell_type": "code",
   "execution_count": 1,
   "metadata": {},
   "outputs": [
    {
     "ename": "NameError",
     "evalue": "name 'y_train_list' is not defined",
     "output_type": "error",
     "traceback": [
      "\u001b[0;31m---------------------------------------------------------------------------\u001b[0m",
      "\u001b[0;31mNameError\u001b[0m                                 Traceback (most recent call last)",
      "\u001b[0;32m/tmp/ipykernel_933707/3443655163.py\u001b[0m in \u001b[0;36m<module>\u001b[0;34m\u001b[0m\n\u001b[0;32m----> 1\u001b[0;31m \u001b[0my_train_list_electron\u001b[0m\u001b[0;34m=\u001b[0m\u001b[0my_train_list\u001b[0m\u001b[0;34m[\u001b[0m\u001b[0melement_shapes\u001b[0m\u001b[0;34m[\u001b[0m\u001b[0;36m0\u001b[0m\u001b[0;34m]\u001b[0m\u001b[0;34m:\u001b[0m\u001b[0;34m]\u001b[0m\u001b[0;34m\u001b[0m\u001b[0;34m\u001b[0m\u001b[0m\n\u001b[0m\u001b[1;32m      2\u001b[0m \u001b[0my_train_list_gamma\u001b[0m\u001b[0;34m=\u001b[0m\u001b[0my_train_list\u001b[0m\u001b[0;34m[\u001b[0m\u001b[0;34m:\u001b[0m\u001b[0melement_shapes\u001b[0m\u001b[0;34m[\u001b[0m\u001b[0;36m0\u001b[0m\u001b[0;34m]\u001b[0m\u001b[0;34m]\u001b[0m\u001b[0;34m\u001b[0m\u001b[0;34m\u001b[0m\u001b[0m\n\u001b[1;32m      3\u001b[0m \u001b[0;34m\u001b[0m\u001b[0m\n\u001b[1;32m      4\u001b[0m \u001b[0;32mfor\u001b[0m \u001b[0mi\u001b[0m\u001b[0;34m,\u001b[0m\u001b[0my\u001b[0m \u001b[0;32min\u001b[0m \u001b[0menumerate\u001b[0m\u001b[0;34m(\u001b[0m\u001b[0my_pred_all\u001b[0m\u001b[0;34m)\u001b[0m\u001b[0;34m:\u001b[0m\u001b[0;34m\u001b[0m\u001b[0;34m\u001b[0m\u001b[0m\n\u001b[1;32m      5\u001b[0m     \u001b[0my\u001b[0m\u001b[0;34m=\u001b[0m\u001b[0my\u001b[0m\u001b[0;34m.\u001b[0m\u001b[0msqueeze\u001b[0m\u001b[0;34m(\u001b[0m\u001b[0;34m)\u001b[0m\u001b[0;34m\u001b[0m\u001b[0;34m\u001b[0m\u001b[0m\n",
      "\u001b[0;31mNameError\u001b[0m: name 'y_train_list' is not defined"
     ]
    }
   ],
   "source": [
    "y_train_list_electron=y_train_list[element_shapes[0]:]\n",
    "y_train_list_gamma=y_train_list[:element_shapes[0]]\n",
    "\n",
    "for i,y in enumerate(y_pred_all):\n",
    "    y=y.squeeze()\n",
    "\n",
    "    y_electron=y[element_shapes[0]:]\n",
    "    y_gamma=y[:element_shapes[0]]\n",
    "\n",
    "    x_aux=np.linspace(-0.1,1.2,50)\n",
    "\n",
    "    results,model_poly=polyfit(y_train_list,y,1)\n",
    "    results_electron,model_poly_electron=polyfit(y_train_list_electron,y_electron,1)\n",
    "    results_gamma,model_poly_gamma=polyfit(y_train_list_gamma,y_gamma,1)\n",
    "    \n",
    "    rmse=np.sqrt(np.mean((y-y_train_list)**2))\n",
    "    rmse_gamma=np.sqrt(np.mean((y_gamma-y_train_list_gamma)**2))\n",
    "    rmse_electron=np.sqrt(np.mean((y_electron-y_train_list_electron)**2))\n",
    "\n",
    "    #y_poly_fit=model_poly(x_aux)\n",
    "    plt.figure(figsize=(7,7))\n",
    "    ax=plt.gca()\n",
    "    plt.plot(y_train_list_gamma,y_gamma,\".\",color=\"purple\",label=f\"gamma (#{element_shapes[0]})\",alpha=0.8)\n",
    "    plt.plot(y_train_list_electron,y_electron,\".\",color=\"green\",label=f\"electron (#{element_shapes[1]})\",alpha=0.2)\n",
    "\n",
    "    plt.plot(np.arange(7),\"--r\",label=\"Slope=1\")\n",
    "    sns.regplot(data=pd.DataFrame({\"X\":y_train_list,\"Y\":y}),x=\"X\",y=\"Y\",ax=ax,line_kws={'color': 'orange'},label=f\"Regresion global (slope={results['polynomial'][0]:.3f})\",scatter=False)\n",
    "    sns.regplot(data=pd.DataFrame({\"X\":y_train_list_gamma,\"Y\":y_gamma}),x=\"X\",y=\"Y\",ax=ax,line_kws={'color': 'purple'},label=f\"Regresion gamma (slope={results_gamma['polynomial'][0]:.3f})\",scatter=False)\n",
    "    sns.regplot(data=pd.DataFrame({\"X\":y_train_list_electron,\"Y\":y_electron}),x=\"X\",y=\"Y\",ax=ax,line_kws={'color': 'green'},label=f\"Regresion electron (slope={results_electron['polynomial'][0]:.3f})\",scatter=False)\n",
    "\n",
    "    plt.xlim(0,1.2)\n",
    "    plt.ylim(0,1.5)\n",
    "    plt.xlabel(\"y_true (TeV)\")\n",
    "    plt.ylabel(\"y_pred (TeV)\")\n",
    "    plt.legend()\n",
    "    plt.title(f\"Arquitectura {i}; \\n R2={results['determination']:.2f}, RMSE={rmse:.3f} \\n R2_electron={results_electron['determination']:.2f}, RMSE_electron={rmse_electron:.3f} \\ \\n R2_gamma={results_gamma['determination']:.2f}, RMSE_gamma={rmse_gamma:.3f}\")\n",
    "    plt.tight_layout()\n",
    "    #plt.savefig(f\"../results/009_correlation_energy_filter_{i}.png\")\n",
    "    #plot de la distribucion de errores\n",
    "    plt.figure(figsize=(8,4))\n",
    "    res=y_train_list-y\n",
    "    res_gamma=y_train_list_electron-y_electron\n",
    "    res_electron=y_train_list_gamma-y_gamma\n",
    "    plt.hist(res,bins=70,label=\"Residuos global\",density=True,color=\"orange\",alpha=0.7)\n",
    "    plt.hist(res_electron,bins=70,label=\"Residuos electron\",density=True,color=\"green\",alpha=0.4)\n",
    "    plt.hist(res_gamma,bins=70,label=\"Residuos gamma\",density=True,color=\"purple\",alpha=0.3)\n",
    "    plt.legend()\n",
    "    plt.title(f\"Arquitectura {i}\")# ; std: {np.std(y_train_list-y)}\")\n",
    "    #plt.savefig(f\"../results/009_resid_hist_energy_filter_{i}.png\")"
   ]
  },
  {
   "cell_type": "code",
   "execution_count": null,
   "metadata": {},
   "outputs": [],
   "source": []
  }
 ],
 "metadata": {
  "kernelspec": {
   "display_name": "tenflow",
   "language": "python",
   "name": "python3"
  },
  "language_info": {
   "codemirror_mode": {
    "name": "ipython",
    "version": 3
   },
   "file_extension": ".py",
   "mimetype": "text/x-python",
   "name": "python",
   "nbconvert_exporter": "python",
   "pygments_lexer": "ipython3",
   "version": "3.7.13"
  },
  "orig_nbformat": 4,
  "vscode": {
   "interpreter": {
    "hash": "625632e34438667797d745dfa197b544023682acc26137f69b08b406359121fc"
   }
  }
 },
 "nbformat": 4,
 "nbformat_minor": 2
}
