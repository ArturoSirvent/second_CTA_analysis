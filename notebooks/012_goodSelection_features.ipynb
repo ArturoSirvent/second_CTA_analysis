{
 "cells": [
  {
   "attachments": {},
   "cell_type": "markdown",
   "metadata": {},
   "source": [
    "Vamos a poder seleccionar para el entrenamiento sobre todas las características que queramos.  "
   ]
  },
  {
   "cell_type": "code",
   "execution_count": 2,
   "metadata": {},
   "outputs": [],
   "source": [
    "import sys \n",
    "BASE_DIR=\"/home/arturosf/Documentos/repos/second_CTA_analysis\"\n",
    "sys.path.append(f\"{BASE_DIR}/src/CTA-data-analisis-library/\")\n",
    "import numpy as np \n",
    "import matplotlib.pyplot as plt\n",
    "import os \n",
    "import re \n",
    "import glob \n",
    "import tensorflow as tf \n",
    "import seaborn as sns\n",
    "import pandas as pd\n",
    "\n",
    "#propias\n",
    "import unzipdata_and_first_treatments as manipulate\n",
    "import loaddata4use\n",
    "import model_creation_functions as models"
   ]
  },
  {
   "cell_type": "code",
   "execution_count": 3,
   "metadata": {},
   "outputs": [],
   "source": [
    "PATH_TXT=f\"{BASE_DIR}/data_full/combined/SimTelArray_2022_05\"\n"
   ]
  },
  {
   "cell_type": "code",
   "execution_count": 4,
   "metadata": {},
   "outputs": [
    {
     "name": "stdout",
     "output_type": "stream",
     "text": [
      "1460\n"
     ]
    }
   ],
   "source": [
    "list_aux=glob.glob(f\"{PATH_TXT}/extract_electron/*.txt\")\n",
    "list_aux=sorted(list_aux)\n",
    "print(len(list_aux))"
   ]
  },
  {
   "cell_type": "code",
   "execution_count": 5,
   "metadata": {},
   "outputs": [
    {
     "data": {
      "text/plain": [
       "'/home/arturosf/Documentos/repos/second_CTA_analysis/data_full/combined/SimTelArray_2022_05/extract_electron/electron_tel_4_run_366.txt'"
      ]
     },
     "execution_count": 5,
     "metadata": {},
     "output_type": "execute_result"
    }
   ],
   "source": [
    "#La idea es tener un diccionario enorme de todo lo que podemos necesitar para seleccionar el rango de todo y las distribuciones.  \n",
    "# Esto lo logramos con los datos de extract  \n",
    "aux=loaddata4use.extract_info_txt(list_aux[1455])\n",
    "list_aux[1455]"
   ]
  },
  {
   "cell_type": "code",
   "execution_count": 6,
   "metadata": {},
   "outputs": [
    {
     "name": "stdout",
     "output_type": "stream",
     "text": [
      "(591, 26)\n"
     ]
    },
    {
     "data": {
      "image/png": "[encoded data removed]",
      "text/plain": [
       "<Figure size 640x480 with 1 Axes>"
      ]
     },
     "metadata": {},
     "output_type": "display_data"
    }
   ],
   "source": [
    "plt.hist(aux[:,2])\n",
    "print(aux.shape)"
   ]
  },
  {
   "cell_type": "code",
   "execution_count": 7,
   "metadata": {},
   "outputs": [
    {
     "data": {
      "text/plain": [
       "19"
      ]
     },
     "execution_count": 7,
     "metadata": {},
     "output_type": "execute_result"
    }
   ],
   "source": [
    "cols_names=[\"event\"\n",
    ",\"telescope\"\n",
    ",\"energy\"\n",
    ",\"core distance to telescope\"\n",
    ",\"image size (amplitude) [p.e.]\"\n",
    ",\"number of pixels in image\"\n",
    ",\"width [deg.]\"\n",
    ",\"length [deg.]\"\n",
    ",\"distance [deg.]\"\n",
    ",\"miss [deg.]\"\n",
    ",\"alpha [deg.]\"\n",
    ",\"orientation [deg.]\"\n",
    ",\"direction [deg.]\"\n",
    ",\"image c.o.g. x [deg.]\"\n",
    ",\"image c.o.g. y [deg.]\"\n",
    ",\"Xmax [g/cm^2]\"\n",
    ",\"Hmax [m]\"\n",
    ",\"Npe (true number of photo-electrons)\"\n",
    ",\"(19-23): Hottest pixel amplitudes)\"]\n",
    "len(cols_names)"
   ]
  },
  {
   "attachments": {},
   "cell_type": "markdown",
   "metadata": {},
   "source": [
    "Tengo todas las runs y todos los eventos con sus respectivas runs. Voy a hacer lo siguiente.  \n",
    "- Tomaré todos los eventos disponibles para una distribución uniforme de energias ,y haré tanto la clasificacion como la regresión de energías. Con los mismo RUNS para el train y luego test unos diferentes que para train, pero los mismos entre clasificación y regresion.  \n"
   ]
  },
  {
   "cell_type": "code",
   "execution_count": 8,
   "metadata": {},
   "outputs": [],
   "source": [
    "archivo_min_pares = [1, 1, 1, 1, 1, 1, 1]\n",
    "archivo_min_indices_pares = [91, 361, 421, 309, 387, 347, 417]\n",
    "archivo_max_pares = [90, 360, 420, 308, 386, 346, 416]\n",
    "archivo_max_indices_pares = [100, 370, 430, 320, 400, 360, 434]\n"
   ]
  },
  {
   "attachments": {},
   "cell_type": "markdown",
   "metadata": {},
   "source": [
    "Tenemos la info de cada run y todos los elementos, y lo que nos gustaria es elegir unas cuantas runs y saber para cada elemento, que distribucion de energias tenemos.  "
   ]
  },
  {
   "cell_type": "code",
   "execution_count": 9,
   "metadata": {},
   "outputs": [
    {
     "data": {
      "text/plain": [
       "'/home/arturosf/Documentos/repos/second_CTA_analysis/data_full/combined/SimTelArray_2022_05/extract_electron/electron_tel_1_run_001.txt'"
      ]
     },
     "execution_count": 9,
     "metadata": {},
     "output_type": "execute_result"
    }
   ],
   "source": [
    "list_aux[0]"
   ]
  },
  {
   "cell_type": "code",
   "execution_count": 10,
   "metadata": {},
   "outputs": [
    {
     "data": {
      "text/plain": [
       "1"
      ]
     },
     "execution_count": 10,
     "metadata": {},
     "output_type": "execute_result"
    }
   ],
   "source": [
    "int(re.findall(\"(\\d{3})\\.txt\",list_aux[0])[0])"
   ]
  },
  {
   "cell_type": "code",
   "execution_count": 11,
   "metadata": {},
   "outputs": [
    {
     "data": {
      "text/html": [
       "<div>\n",
       "<style scoped>\n",
       "    .dataframe tbody tr th:only-of-type {\n",
       "        vertical-align: middle;\n",
       "    }\n",
       "\n",
       "    .dataframe tbody tr th {\n",
       "        vertical-align: top;\n",
       "    }\n",
       "\n",
       "    .dataframe thead th {\n",
       "        text-align: right;\n",
       "    }\n",
       "</style>\n",
       "<table border=\"1\" class=\"dataframe\">\n",
       "  <thead>\n",
       "    <tr style=\"text-align: right;\">\n",
       "      <th></th>\n",
       "      <th>elemento</th>\n",
       "      <th>run</th>\n",
       "      <th>tel</th>\n",
       "      <th>energia</th>\n",
       "      <th>eventos</th>\n",
       "    </tr>\n",
       "  </thead>\n",
       "  <tbody>\n",
       "    <tr>\n",
       "      <th>0</th>\n",
       "      <td>gamma</td>\n",
       "      <td>1</td>\n",
       "      <td>1</td>\n",
       "      <td>[0.1087, 0.0616, 0.0904, 4.5563, 0.3297, 0.057...</td>\n",
       "      <td>[800, 1200, 1700, 2300, 3600, 4200, 4300, 5200...</td>\n",
       "    </tr>\n",
       "    <tr>\n",
       "      <th>1</th>\n",
       "      <td>gamma</td>\n",
       "      <td>2</td>\n",
       "      <td>1</td>\n",
       "      <td>[0.0957, 0.0321, 0.2691, 0.0559, 0.2708, 1.74,...</td>\n",
       "      <td>[100, 400, 700, 2100, 2500, 3100, 3300, 3500, ...</td>\n",
       "    </tr>\n",
       "    <tr>\n",
       "      <th>2</th>\n",
       "      <td>gamma</td>\n",
       "      <td>3</td>\n",
       "      <td>1</td>\n",
       "      <td>NaN</td>\n",
       "      <td>NaN</td>\n",
       "    </tr>\n",
       "    <tr>\n",
       "      <th>3</th>\n",
       "      <td>gamma</td>\n",
       "      <td>4</td>\n",
       "      <td>1</td>\n",
       "      <td>[0.0424, 0.1245, 0.0328, 0.0341, 1.0774, 0.070...</td>\n",
       "      <td>[100, 200, 700, 1800, 2200, 2600, 3500, 3900, ...</td>\n",
       "    </tr>\n",
       "    <tr>\n",
       "      <th>4</th>\n",
       "      <td>gamma</td>\n",
       "      <td>5</td>\n",
       "      <td>1</td>\n",
       "      <td>[0.2236, 0.2041, 0.0704, 0.1473, 0.0458, 0.095...</td>\n",
       "      <td>[200, 600, 800, 1000, 1700, 1900, 3500, 3600, ...</td>\n",
       "    </tr>\n",
       "    <tr>\n",
       "      <th>...</th>\n",
       "      <td>...</td>\n",
       "      <td>...</td>\n",
       "      <td>...</td>\n",
       "      <td>...</td>\n",
       "      <td>...</td>\n",
       "    </tr>\n",
       "    <tr>\n",
       "      <th>9628</th>\n",
       "      <td>silicon</td>\n",
       "      <td>356</td>\n",
       "      <td>4</td>\n",
       "      <td>[4.4503, 4.3298, 3.8065, 4.5505, 4.7329, 3.959...</td>\n",
       "      <td>[4100, 6900, 7800, 10100, 10200, 11600, 13800,...</td>\n",
       "    </tr>\n",
       "    <tr>\n",
       "      <th>9629</th>\n",
       "      <td>silicon</td>\n",
       "      <td>357</td>\n",
       "      <td>4</td>\n",
       "      <td>[3.2706, 4.7084, 4.9035, 3.0785, 3.5371, 4.756...</td>\n",
       "      <td>[400, 1200, 2100, 7400, 9300, 10700, 11700, 13...</td>\n",
       "    </tr>\n",
       "    <tr>\n",
       "      <th>9630</th>\n",
       "      <td>silicon</td>\n",
       "      <td>358</td>\n",
       "      <td>4</td>\n",
       "      <td>[4.8596, 4.8966, 2.2676, 4.0688, 4.3492, 2.959...</td>\n",
       "      <td>[700, 2700, 8300, 9000, 15400, 16300, 20500, 2...</td>\n",
       "    </tr>\n",
       "    <tr>\n",
       "      <th>9631</th>\n",
       "      <td>silicon</td>\n",
       "      <td>359</td>\n",
       "      <td>4</td>\n",
       "      <td>[2.1081, 2.8272, 3.8519, 2.8368, 4.525, 3.0555...</td>\n",
       "      <td>[1700, 3900, 5300, 6700, 11300, 12400, 14300, ...</td>\n",
       "    </tr>\n",
       "    <tr>\n",
       "      <th>9632</th>\n",
       "      <td>silicon</td>\n",
       "      <td>360</td>\n",
       "      <td>4</td>\n",
       "      <td>[4.6059, 3.8817, 4.4777, 3.303, 3.5036, 3.8182...</td>\n",
       "      <td>[1700, 4500, 4900, 13200, 14800, 16100, 22200,...</td>\n",
       "    </tr>\n",
       "  </tbody>\n",
       "</table>\n",
       "<p>9633 rows × 5 columns</p>\n",
       "</div>"
      ],
      "text/plain": [
       "     elemento  run  tel                                            energia  \\\n",
       "0       gamma    1    1  [0.1087, 0.0616, 0.0904, 4.5563, 0.3297, 0.057...   \n",
       "1       gamma    2    1  [0.0957, 0.0321, 0.2691, 0.0559, 0.2708, 1.74,...   \n",
       "2       gamma    3    1                                                NaN   \n",
       "3       gamma    4    1  [0.0424, 0.1245, 0.0328, 0.0341, 1.0774, 0.070...   \n",
       "4       gamma    5    1  [0.2236, 0.2041, 0.0704, 0.1473, 0.0458, 0.095...   \n",
       "...       ...  ...  ...                                                ...   \n",
       "9628  silicon  356    4  [4.4503, 4.3298, 3.8065, 4.5505, 4.7329, 3.959...   \n",
       "9629  silicon  357    4  [3.2706, 4.7084, 4.9035, 3.0785, 3.5371, 4.756...   \n",
       "9630  silicon  358    4  [4.8596, 4.8966, 2.2676, 4.0688, 4.3492, 2.959...   \n",
       "9631  silicon  359    4  [2.1081, 2.8272, 3.8519, 2.8368, 4.525, 3.0555...   \n",
       "9632  silicon  360    4  [4.6059, 3.8817, 4.4777, 3.303, 3.5036, 3.8182...   \n",
       "\n",
       "                                                eventos  \n",
       "0     [800, 1200, 1700, 2300, 3600, 4200, 4300, 5200...  \n",
       "1     [100, 400, 700, 2100, 2500, 3100, 3300, 3500, ...  \n",
       "2                                                   NaN  \n",
       "3     [100, 200, 700, 1800, 2200, 2600, 3500, 3900, ...  \n",
       "4     [200, 600, 800, 1000, 1700, 1900, 3500, 3600, ...  \n",
       "...                                                 ...  \n",
       "9628  [4100, 6900, 7800, 10100, 10200, 11600, 13800,...  \n",
       "9629  [400, 1200, 2100, 7400, 9300, 10700, 11700, 13...  \n",
       "9630  [700, 2700, 8300, 9000, 15400, 16300, 20500, 2...  \n",
       "9631  [1700, 3900, 5300, 6700, 11300, 12400, 14300, ...  \n",
       "9632  [1700, 4500, 4900, 13200, 14800, 16100, 22200,...  \n",
       "\n",
       "[9633 rows x 5 columns]"
      ]
     },
     "execution_count": 11,
     "metadata": {},
     "output_type": "execute_result"
    }
   ],
   "source": [
    "# voy a cargar toda la info de los txt para cada elemento \n",
    "elementos=['gamma', 'electron', 'proton', 'helium', 'iron', 'nitrogen', 'silicon']\n",
    "aux2=[]\n",
    "for i , elemento in enumerate(elementos):\n",
    "    #dict_master[elemento]={}\n",
    "    list_aux=glob.glob(f\"{PATH_TXT}/extract_{elemento}/*.txt\")\n",
    "    list_aux=sorted(list_aux)\n",
    "\n",
    "    for dir_aux in list_aux:\n",
    "        run_aux=int(re.findall(\"(\\d{3})\\.txt\",dir_aux)[0])\n",
    "        tel_aux=int(re.findall(\"tel_(\\d{1})_run\",dir_aux)[0])\n",
    "        #La idea es tener un diccionario enorme de todo lo que podemos necesitar para seleccionar el rango de todo y las distribuciones.  \n",
    "        # Esto lo logramos con los datos de extract  \n",
    "        array_aux=loaddata4use.extract_info_txt(dir_aux)\n",
    "        if array_aux.size>0:\n",
    "            aux2.append({\"elemento\":elemento,\"run\":run_aux,\"tel\":tel_aux,\"energia\":array_aux[:,2],\"eventos\":array_aux[:,0].astype(int)})\n",
    "        else:\n",
    "            aux2.append({\"elemento\":elemento,\"run\":run_aux,\"tel\":tel_aux,\"energia\":np.nan,\"eventos\":np.nan})\n",
    "df_final=pd.DataFrame.from_dict(aux2)\n",
    "    \n",
    "df_final"
   ]
  },
  {
   "cell_type": "code",
   "execution_count": 12,
   "metadata": {},
   "outputs": [
    {
     "data": {
      "text/plain": [
       "elemento  run   \n",
       "electron  1    0    False\n",
       "               1    False\n",
       "               2    False\n",
       "               3    False\n",
       "          2    0    False\n",
       "                    ...  \n",
       "silicon   359  3    False\n",
       "          360  0    False\n",
       "               1    False\n",
       "               2    False\n",
       "               3    False\n",
       "Length: 9633, dtype: bool"
      ]
     },
     "execution_count": 12,
     "metadata": {},
     "output_type": "execute_result"
    }
   ],
   "source": [
    "df_final.groupby([\"elemento\",\"run\"]).apply(lambda x : pd.Series([False]*x.shape[0]) if x[\"eventos\"].isna().any() else pd.Series([True]*x.shape[0]))==False"
   ]
  },
  {
   "cell_type": "code",
   "execution_count": 13,
   "metadata": {},
   "outputs": [
    {
     "name": "stdout",
     "output_type": "stream",
     "text": [
      "[1, 2, 3]\n",
      "[1, 3, 4]\n",
      "[1, 2, 3]\n",
      "[1, 3, 4]\n",
      "[1, 3, 4]\n",
      "[1, 2, 3]\n",
      "[1, 3, 4]\n",
      "[1, 3, 4]\n",
      "[1, 3, 4]\n",
      "[1, 3, 4]\n",
      "[1, 2, 3]\n",
      "[1, 2, 4]\n",
      "[2, 3, 4]\n",
      "[1, 3, 4]\n",
      "[1, 2, 3]\n",
      "[1, 3, 4]\n",
      "[1, 2, 4]\n",
      "[1, 2, 4]\n",
      "[1, 2, 4]\n",
      "[1, 2, 3]\n",
      "[1, 2, 3]\n",
      "[1, 2, 4]\n",
      "[1, 2, 4]\n"
     ]
    }
   ],
   "source": [
    "df_clean=df_final.groupby([\"elemento\",\"run\"]).apply(lambda x: x if len(list(x[\"tel\"]))==4 else print(list(x[\"tel\"]))).dropna().reset_index(drop=True)"
   ]
  },
  {
   "cell_type": "code",
   "execution_count": 14,
   "metadata": {},
   "outputs": [
    {
     "data": {
      "text/html": [
       "<div>\n",
       "<style scoped>\n",
       "    .dataframe tbody tr th:only-of-type {\n",
       "        vertical-align: middle;\n",
       "    }\n",
       "\n",
       "    .dataframe tbody tr th {\n",
       "        vertical-align: top;\n",
       "    }\n",
       "\n",
       "    .dataframe thead th {\n",
       "        text-align: right;\n",
       "    }\n",
       "</style>\n",
       "<table border=\"1\" class=\"dataframe\">\n",
       "  <thead>\n",
       "    <tr style=\"text-align: right;\">\n",
       "      <th></th>\n",
       "      <th>elemento</th>\n",
       "      <th>run</th>\n",
       "      <th>tel</th>\n",
       "      <th>energia</th>\n",
       "      <th>eventos</th>\n",
       "    </tr>\n",
       "  </thead>\n",
       "  <tbody>\n",
       "    <tr>\n",
       "      <th>0</th>\n",
       "      <td>electron</td>\n",
       "      <td>1</td>\n",
       "      <td>1</td>\n",
       "      <td>[0.7343, 0.2967, 0.1307, 0.2604, 0.1603, 0.052...</td>\n",
       "      <td>[21200, 35900, 55300, 61000, 74000, 74800, 752...</td>\n",
       "    </tr>\n",
       "    <tr>\n",
       "      <th>1</th>\n",
       "      <td>electron</td>\n",
       "      <td>1</td>\n",
       "      <td>2</td>\n",
       "      <td>[0.1307, 0.1603, 0.0522, 0.0365, 0.0358, 0.803...</td>\n",
       "      <td>[55300, 74000, 74800, 77500, 77700, 82500, 894...</td>\n",
       "    </tr>\n",
       "    <tr>\n",
       "      <th>2</th>\n",
       "      <td>electron</td>\n",
       "      <td>1</td>\n",
       "      <td>3</td>\n",
       "      <td>[0.2227, 0.1307, 0.1603, 0.1108, 0.0358, 0.803...</td>\n",
       "      <td>[800, 55300, 74000, 75200, 77700, 82500, 10600...</td>\n",
       "    </tr>\n",
       "    <tr>\n",
       "      <th>3</th>\n",
       "      <td>electron</td>\n",
       "      <td>1</td>\n",
       "      <td>4</td>\n",
       "      <td>[0.2227, 0.7343, 0.2967, 0.1307, 0.2604, 0.161...</td>\n",
       "      <td>[800, 21200, 35900, 55300, 61000, 62300, 74000...</td>\n",
       "    </tr>\n",
       "    <tr>\n",
       "      <th>4</th>\n",
       "      <td>electron</td>\n",
       "      <td>2</td>\n",
       "      <td>1</td>\n",
       "      <td>[0.0566, 0.0508, 0.0656, 1.5473, 0.7692, 0.529...</td>\n",
       "      <td>[13900, 35800, 47100, 50700, 54300, 63600, 638...</td>\n",
       "    </tr>\n",
       "    <tr>\n",
       "      <th>...</th>\n",
       "      <td>...</td>\n",
       "      <td>...</td>\n",
       "      <td>...</td>\n",
       "      <td>...</td>\n",
       "      <td>...</td>\n",
       "    </tr>\n",
       "    <tr>\n",
       "      <th>9535</th>\n",
       "      <td>silicon</td>\n",
       "      <td>359</td>\n",
       "      <td>4</td>\n",
       "      <td>[2.1081, 2.8272, 3.8519, 2.8368, 4.525, 3.0555...</td>\n",
       "      <td>[1700, 3900, 5300, 6700, 11300, 12400, 14300, ...</td>\n",
       "    </tr>\n",
       "    <tr>\n",
       "      <th>9536</th>\n",
       "      <td>silicon</td>\n",
       "      <td>360</td>\n",
       "      <td>1</td>\n",
       "      <td>[4.6059, 3.8817, 4.4777, 2.9524, 2.7399, 4.324...</td>\n",
       "      <td>[1700, 4500, 4900, 5900, 6500, 7100, 7200, 760...</td>\n",
       "    </tr>\n",
       "    <tr>\n",
       "      <th>9537</th>\n",
       "      <td>silicon</td>\n",
       "      <td>360</td>\n",
       "      <td>2</td>\n",
       "      <td>[4.6059, 3.8379, 3.8817, 4.4777, 2.9524, 2.739...</td>\n",
       "      <td>[1700, 3800, 4500, 4900, 5900, 6500, 7100, 720...</td>\n",
       "    </tr>\n",
       "    <tr>\n",
       "      <th>9538</th>\n",
       "      <td>silicon</td>\n",
       "      <td>360</td>\n",
       "      <td>3</td>\n",
       "      <td>[4.6059, 3.8379, 3.8817, 4.4777, 2.9524, 4.626...</td>\n",
       "      <td>[1700, 3800, 4500, 4900, 5900, 7600, 9100, 132...</td>\n",
       "    </tr>\n",
       "    <tr>\n",
       "      <th>9539</th>\n",
       "      <td>silicon</td>\n",
       "      <td>360</td>\n",
       "      <td>4</td>\n",
       "      <td>[4.6059, 3.8817, 4.4777, 3.303, 3.5036, 3.8182...</td>\n",
       "      <td>[1700, 4500, 4900, 13200, 14800, 16100, 22200,...</td>\n",
       "    </tr>\n",
       "  </tbody>\n",
       "</table>\n",
       "<p>9540 rows × 5 columns</p>\n",
       "</div>"
      ],
      "text/plain": [
       "      elemento  run  tel                                            energia  \\\n",
       "0     electron    1    1  [0.7343, 0.2967, 0.1307, 0.2604, 0.1603, 0.052...   \n",
       "1     electron    1    2  [0.1307, 0.1603, 0.0522, 0.0365, 0.0358, 0.803...   \n",
       "2     electron    1    3  [0.2227, 0.1307, 0.1603, 0.1108, 0.0358, 0.803...   \n",
       "3     electron    1    4  [0.2227, 0.7343, 0.2967, 0.1307, 0.2604, 0.161...   \n",
       "4     electron    2    1  [0.0566, 0.0508, 0.0656, 1.5473, 0.7692, 0.529...   \n",
       "...        ...  ...  ...                                                ...   \n",
       "9535   silicon  359    4  [2.1081, 2.8272, 3.8519, 2.8368, 4.525, 3.0555...   \n",
       "9536   silicon  360    1  [4.6059, 3.8817, 4.4777, 2.9524, 2.7399, 4.324...   \n",
       "9537   silicon  360    2  [4.6059, 3.8379, 3.8817, 4.4777, 2.9524, 2.739...   \n",
       "9538   silicon  360    3  [4.6059, 3.8379, 3.8817, 4.4777, 2.9524, 4.626...   \n",
       "9539   silicon  360    4  [4.6059, 3.8817, 4.4777, 3.303, 3.5036, 3.8182...   \n",
       "\n",
       "                                                eventos  \n",
       "0     [21200, 35900, 55300, 61000, 74000, 74800, 752...  \n",
       "1     [55300, 74000, 74800, 77500, 77700, 82500, 894...  \n",
       "2     [800, 55300, 74000, 75200, 77700, 82500, 10600...  \n",
       "3     [800, 21200, 35900, 55300, 61000, 62300, 74000...  \n",
       "4     [13900, 35800, 47100, 50700, 54300, 63600, 638...  \n",
       "...                                                 ...  \n",
       "9535  [1700, 3900, 5300, 6700, 11300, 12400, 14300, ...  \n",
       "9536  [1700, 4500, 4900, 5900, 6500, 7100, 7200, 760...  \n",
       "9537  [1700, 3800, 4500, 4900, 5900, 6500, 7100, 720...  \n",
       "9538  [1700, 3800, 4500, 4900, 5900, 7600, 9100, 132...  \n",
       "9539  [1700, 4500, 4900, 13200, 14800, 16100, 22200,...  \n",
       "\n",
       "[9540 rows x 5 columns]"
      ]
     },
     "execution_count": 14,
     "metadata": {},
     "output_type": "execute_result"
    }
   ],
   "source": [
    "df_clean"
   ]
  },
  {
   "cell_type": "code",
   "execution_count": 15,
   "metadata": {},
   "outputs": [],
   "source": [
    "def f_get_comon_events(df):\n",
    "    all_eventos=np.concatenate(df[\"eventos\"].to_numpy())\n",
    "    event,count=np.unique(all_eventos,return_counts=True)\n",
    "    all_energias=np.concatenate(df[\"energia\"].to_numpy())\n",
    "    energias_eventos_comunes=[]\n",
    "    for i in event[count==4]:\n",
    "        indx=np.argwhere(i==all_eventos)\n",
    "        if np.unique(all_energias[indx]).size!=1:\n",
    "            print(\"Algo ha pasado con el evento i, no coinciden las energias\")\n",
    "        energias_eventos_comunes.append(all_energias[indx[0]][0])\n",
    "    return pd.DataFrame({\"eventos\":event[count==4],\"energia\":energias_eventos_comunes})"
   ]
  },
  {
   "cell_type": "code",
   "execution_count": 16,
   "metadata": {},
   "outputs": [
    {
     "data": {
      "text/html": [
       "<div>\n",
       "<style scoped>\n",
       "    .dataframe tbody tr th:only-of-type {\n",
       "        vertical-align: middle;\n",
       "    }\n",
       "\n",
       "    .dataframe tbody tr th {\n",
       "        vertical-align: top;\n",
       "    }\n",
       "\n",
       "    .dataframe thead th {\n",
       "        text-align: right;\n",
       "    }\n",
       "</style>\n",
       "<table border=\"1\" class=\"dataframe\">\n",
       "  <thead>\n",
       "    <tr style=\"text-align: right;\">\n",
       "      <th></th>\n",
       "      <th>elemento</th>\n",
       "      <th>run</th>\n",
       "      <th>eventos</th>\n",
       "      <th>energia</th>\n",
       "    </tr>\n",
       "  </thead>\n",
       "  <tbody>\n",
       "    <tr>\n",
       "      <th>0</th>\n",
       "      <td>electron</td>\n",
       "      <td>1</td>\n",
       "      <td>55300</td>\n",
       "      <td>0.1307</td>\n",
       "    </tr>\n",
       "    <tr>\n",
       "      <th>1</th>\n",
       "      <td>electron</td>\n",
       "      <td>1</td>\n",
       "      <td>74000</td>\n",
       "      <td>0.1603</td>\n",
       "    </tr>\n",
       "    <tr>\n",
       "      <th>2</th>\n",
       "      <td>electron</td>\n",
       "      <td>1</td>\n",
       "      <td>82500</td>\n",
       "      <td>0.8038</td>\n",
       "    </tr>\n",
       "    <tr>\n",
       "      <th>3</th>\n",
       "      <td>electron</td>\n",
       "      <td>1</td>\n",
       "      <td>109700</td>\n",
       "      <td>0.6685</td>\n",
       "    </tr>\n",
       "    <tr>\n",
       "      <th>4</th>\n",
       "      <td>electron</td>\n",
       "      <td>1</td>\n",
       "      <td>152100</td>\n",
       "      <td>0.2394</td>\n",
       "    </tr>\n",
       "    <tr>\n",
       "      <th>...</th>\n",
       "      <td>...</td>\n",
       "      <td>...</td>\n",
       "      <td>...</td>\n",
       "      <td>...</td>\n",
       "    </tr>\n",
       "    <tr>\n",
       "      <th>601768</th>\n",
       "      <td>silicon</td>\n",
       "      <td>360</td>\n",
       "      <td>1796100</td>\n",
       "      <td>4.8594</td>\n",
       "    </tr>\n",
       "    <tr>\n",
       "      <th>601769</th>\n",
       "      <td>silicon</td>\n",
       "      <td>360</td>\n",
       "      <td>1798300</td>\n",
       "      <td>2.8470</td>\n",
       "    </tr>\n",
       "    <tr>\n",
       "      <th>601770</th>\n",
       "      <td>silicon</td>\n",
       "      <td>360</td>\n",
       "      <td>1798500</td>\n",
       "      <td>4.9862</td>\n",
       "    </tr>\n",
       "    <tr>\n",
       "      <th>601771</th>\n",
       "      <td>silicon</td>\n",
       "      <td>360</td>\n",
       "      <td>1798800</td>\n",
       "      <td>4.4138</td>\n",
       "    </tr>\n",
       "    <tr>\n",
       "      <th>601772</th>\n",
       "      <td>silicon</td>\n",
       "      <td>360</td>\n",
       "      <td>1798900</td>\n",
       "      <td>3.3291</td>\n",
       "    </tr>\n",
       "  </tbody>\n",
       "</table>\n",
       "<p>601773 rows × 4 columns</p>\n",
       "</div>"
      ],
      "text/plain": [
       "        elemento  run  eventos  energia\n",
       "0       electron    1    55300   0.1307\n",
       "1       electron    1    74000   0.1603\n",
       "2       electron    1    82500   0.8038\n",
       "3       electron    1   109700   0.6685\n",
       "4       electron    1   152100   0.2394\n",
       "...          ...  ...      ...      ...\n",
       "601768   silicon  360  1796100   4.8594\n",
       "601769   silicon  360  1798300   2.8470\n",
       "601770   silicon  360  1798500   4.9862\n",
       "601771   silicon  360  1798800   4.4138\n",
       "601772   silicon  360  1798900   3.3291\n",
       "\n",
       "[601773 rows x 4 columns]"
      ]
     },
     "execution_count": 16,
     "metadata": {},
     "output_type": "execute_result"
    }
   ],
   "source": [
    "df_common_events=df_clean.groupby([\"elemento\",\"run\"]).apply(f_get_comon_events).droplevel(2).reset_index()#.to_frame()\n",
    "#df_common_events.columns=[\"eventos\"]\n",
    "df_common_events"
   ]
  },
  {
   "cell_type": "code",
   "execution_count": 17,
   "metadata": {},
   "outputs": [
    {
     "data": {
      "text/plain": [
       "elemento\n",
       "electron     86277\n",
       "gamma       116135\n",
       "helium       81928\n",
       "iron         71055\n",
       "nitrogen     87882\n",
       "proton       72290\n",
       "silicon      86206\n",
       "dtype: int64"
      ]
     },
     "execution_count": 17,
     "metadata": {},
     "output_type": "execute_result"
    }
   ],
   "source": [
    "df_common_events.groupby(\"elemento\").size()"
   ]
  },
  {
   "cell_type": "code",
   "execution_count": 18,
   "metadata": {},
   "outputs": [
    {
     "data": {
      "text/plain": [
       "<seaborn.axisgrid.FacetGrid at 0x7f7787b06ad0>"
      ]
     },
     "execution_count": 18,
     "metadata": {},
     "output_type": "execute_result"
    },
    {
     "data": {
      "image/png": "[encoded data removed]",
      "text/plain": [
       "<Figure size 900x900 with 7 Axes>"
      ]
     },
     "metadata": {},
     "output_type": "display_data"
    }
   ],
   "source": [
    "g = sns.FacetGrid(df_common_events, col=\"elemento\",col_wrap=3 )\n",
    "g.map(sns.histplot,\"energia\", alpha=.4,log_scale=[False,True])"
   ]
  },
  {
   "cell_type": "code",
   "execution_count": 19,
   "metadata": {},
   "outputs": [
    {
     "data": {
      "text/html": [
       "<div>\n",
       "<style scoped>\n",
       "    .dataframe tbody tr th:only-of-type {\n",
       "        vertical-align: middle;\n",
       "    }\n",
       "\n",
       "    .dataframe tbody tr th {\n",
       "        vertical-align: top;\n",
       "    }\n",
       "\n",
       "    .dataframe thead th {\n",
       "        text-align: right;\n",
       "    }\n",
       "</style>\n",
       "<table border=\"1\" class=\"dataframe\">\n",
       "  <thead>\n",
       "    <tr style=\"text-align: right;\">\n",
       "      <th></th>\n",
       "      <th>elemento</th>\n",
       "      <th>run</th>\n",
       "      <th>eventos</th>\n",
       "      <th>energia</th>\n",
       "    </tr>\n",
       "  </thead>\n",
       "  <tbody>\n",
       "    <tr>\n",
       "      <th>0</th>\n",
       "      <td>electron</td>\n",
       "      <td>1</td>\n",
       "      <td>55300</td>\n",
       "      <td>0.1307</td>\n",
       "    </tr>\n",
       "    <tr>\n",
       "      <th>1</th>\n",
       "      <td>electron</td>\n",
       "      <td>1</td>\n",
       "      <td>74000</td>\n",
       "      <td>0.1603</td>\n",
       "    </tr>\n",
       "    <tr>\n",
       "      <th>2</th>\n",
       "      <td>electron</td>\n",
       "      <td>1</td>\n",
       "      <td>82500</td>\n",
       "      <td>0.8038</td>\n",
       "    </tr>\n",
       "    <tr>\n",
       "      <th>3</th>\n",
       "      <td>electron</td>\n",
       "      <td>1</td>\n",
       "      <td>109700</td>\n",
       "      <td>0.6685</td>\n",
       "    </tr>\n",
       "    <tr>\n",
       "      <th>4</th>\n",
       "      <td>electron</td>\n",
       "      <td>1</td>\n",
       "      <td>152100</td>\n",
       "      <td>0.2394</td>\n",
       "    </tr>\n",
       "    <tr>\n",
       "      <th>...</th>\n",
       "      <td>...</td>\n",
       "      <td>...</td>\n",
       "      <td>...</td>\n",
       "      <td>...</td>\n",
       "    </tr>\n",
       "    <tr>\n",
       "      <th>601768</th>\n",
       "      <td>silicon</td>\n",
       "      <td>360</td>\n",
       "      <td>1796100</td>\n",
       "      <td>4.8594</td>\n",
       "    </tr>\n",
       "    <tr>\n",
       "      <th>601769</th>\n",
       "      <td>silicon</td>\n",
       "      <td>360</td>\n",
       "      <td>1798300</td>\n",
       "      <td>2.8470</td>\n",
       "    </tr>\n",
       "    <tr>\n",
       "      <th>601770</th>\n",
       "      <td>silicon</td>\n",
       "      <td>360</td>\n",
       "      <td>1798500</td>\n",
       "      <td>4.9862</td>\n",
       "    </tr>\n",
       "    <tr>\n",
       "      <th>601771</th>\n",
       "      <td>silicon</td>\n",
       "      <td>360</td>\n",
       "      <td>1798800</td>\n",
       "      <td>4.4138</td>\n",
       "    </tr>\n",
       "    <tr>\n",
       "      <th>601772</th>\n",
       "      <td>silicon</td>\n",
       "      <td>360</td>\n",
       "      <td>1798900</td>\n",
       "      <td>3.3291</td>\n",
       "    </tr>\n",
       "  </tbody>\n",
       "</table>\n",
       "<p>601773 rows × 4 columns</p>\n",
       "</div>"
      ],
      "text/plain": [
       "        elemento  run  eventos  energia\n",
       "0       electron    1    55300   0.1307\n",
       "1       electron    1    74000   0.1603\n",
       "2       electron    1    82500   0.8038\n",
       "3       electron    1   109700   0.6685\n",
       "4       electron    1   152100   0.2394\n",
       "...          ...  ...      ...      ...\n",
       "601768   silicon  360  1796100   4.8594\n",
       "601769   silicon  360  1798300   2.8470\n",
       "601770   silicon  360  1798500   4.9862\n",
       "601771   silicon  360  1798800   4.4138\n",
       "601772   silicon  360  1798900   3.3291\n",
       "\n",
       "[601773 rows x 4 columns]"
      ]
     },
     "execution_count": 19,
     "metadata": {},
     "output_type": "execute_result"
    }
   ],
   "source": [
    "df_common_events"
   ]
  },
  {
   "cell_type": "code",
   "execution_count": 20,
   "metadata": {},
   "outputs": [],
   "source": [
    "elementos=['gamma', 'electron', 'proton', 'helium', 'nitrogen', 'silicon', 'iron']"
   ]
  },
  {
   "cell_type": "code",
   "execution_count": 21,
   "metadata": {},
   "outputs": [
    {
     "name": "stdout",
     "output_type": "stream",
     "text": [
      "elemento\n",
      "electron    82019\n",
      "gamma       96498\n",
      "helium      75907\n",
      "iron        66471\n",
      "nitrogen    81907\n",
      "proton      67707\n",
      "silicon     80742\n",
      "dtype: int64\n"
     ]
    },
    {
     "data": {
      "text/plain": [
       "<seaborn.axisgrid.FacetGrid at 0x7f777ed871c0>"
      ]
     },
     "execution_count": 21,
     "metadata": {},
     "output_type": "execute_result"
    },
    {
     "data": {
      "image/png": "[encoded data removed]",
      "text/plain": [
       "<Figure size 900x900 with 7 Axes>"
      ]
     },
     "metadata": {},
     "output_type": "display_data"
    }
   ],
   "source": [
    "# vamos a hacerlo para los eventos antes y despues del cambio ese de la simulacion  \n",
    "\n",
    "#estos siguen este orden -> ['gamma', 'electron', 'proton', 'helium', 'nitrogen', 'silicon', 'iron']\n",
    "archivo_min_pares = [1, 1, 1, 1, 1, 1, 1]\n",
    "archivo_min_indices_pares = [91, 361, 421, 309, 387, 347, 417]\n",
    "archivo_max_pares = [90, 360, 420, 308, 386, 346, 416]\n",
    "archivo_max_indices_pares = [100, 370, 430, 320, 400, 360, 434]\n",
    "\n",
    "aux_df=[]\n",
    "for j,i in enumerate(elementos):\n",
    "    element_aux_df=df_common_events.loc[df_common_events[\"elemento\"]==i]\n",
    "    aux_df.append(element_aux_df.loc[(element_aux_df[\"run\"]>=archivo_min_pares[j])&(element_aux_df[\"run\"]<=archivo_max_pares[j])])\n",
    "df_common_events_aux1=pd.concat(aux_df)\n",
    "print(df_common_events_aux1.groupby(\"elemento\").size())\n",
    "\n",
    "g = sns.FacetGrid(df_common_events_aux1, col=\"elemento\",col_wrap=3 )\n",
    "g.map(sns.histplot,\"energia\", alpha=.4,log_scale=[False,True])"
   ]
  },
  {
   "cell_type": "code",
   "execution_count": 22,
   "metadata": {},
   "outputs": [
    {
     "name": "stdout",
     "output_type": "stream",
     "text": [
      "elemento\n",
      "electron     4258\n",
      "gamma       19637\n",
      "helium       6021\n",
      "iron         4584\n",
      "nitrogen     5975\n",
      "proton       4583\n",
      "silicon      5464\n",
      "dtype: int64\n"
     ]
    },
    {
     "data": {
      "text/plain": [
       "<seaborn.axisgrid.FacetGrid at 0x7f777eb9ad10>"
      ]
     },
     "execution_count": 22,
     "metadata": {},
     "output_type": "execute_result"
    },
    {
     "data": {
      "image/png": "[encoded data removed]",
      "text/plain": [
       "<Figure size 900x900 with 7 Axes>"
      ]
     },
     "metadata": {},
     "output_type": "display_data"
    }
   ],
   "source": [
    "aux_df=[]\n",
    "for j,i in enumerate(elementos):\n",
    "    element_aux_df=df_common_events.loc[df_common_events[\"elemento\"]==i]\n",
    "    aux_df.append(element_aux_df.loc[(element_aux_df[\"run\"]>=archivo_min_indices_pares[j])&(element_aux_df[\"run\"]<=archivo_max_indices_pares[j])])\n",
    "df_common_events_aux1=pd.concat(aux_df)\n",
    "print(df_common_events_aux1.groupby(\"elemento\").size())\n",
    "g = sns.FacetGrid(df_common_events_aux1, col=\"elemento\",col_wrap=3 )\n",
    "g.map(sns.histplot,\"energia\", alpha=.4,log_scale=[False,True])"
   ]
  },
  {
   "cell_type": "code",
   "execution_count": 23,
   "metadata": {},
   "outputs": [
    {
     "name": "stdout",
     "output_type": "stream",
     "text": [
      "elemento\n",
      "electron     86277\n",
      "gamma       116135\n",
      "helium       81928\n",
      "iron         71055\n",
      "nitrogen     87882\n",
      "proton       72290\n",
      "silicon      86206\n",
      "dtype: int64\n"
     ]
    },
    {
     "data": {
      "image/png": "[encoded data removed]",
      "text/plain": [
       "<Figure size 900x900 with 7 Axes>"
      ]
     },
     "metadata": {},
     "output_type": "display_data"
    }
   ],
   "source": [
    "g = sns.FacetGrid(df_common_events, col=\"elemento\",col_wrap=3 )\n",
    "g.map(sns.histplot,\"energia\", alpha=.4,log_scale=[False,True])\n",
    "print(df_common_events.groupby(\"elemento\").size())\n"
   ]
  },
  {
   "cell_type": "code",
   "execution_count": 24,
   "metadata": {},
   "outputs": [
    {
     "data": {
      "text/plain": [
       "<seaborn.axisgrid.FacetGrid at 0x7f777cd4eaa0>"
      ]
     },
     "execution_count": 24,
     "metadata": {},
     "output_type": "execute_result"
    },
    {
     "data": {
      "image/png": "[encoded data removed]",
      "text/plain": [
       "<Figure size 900x900 with 7 Axes>"
      ]
     },
     "metadata": {},
     "output_type": "display_data"
    }
   ],
   "source": [
    "eventos_number=df_common_events.groupby([\"elemento\",\"run\"]).size().to_frame().reset_index()\n",
    "eventos_number=eventos_number.rename(columns={0:\"n\"})\n",
    "g = sns.FacetGrid(eventos_number, col=\"elemento\",col_wrap=3,sharex=False,sharey=False )\n",
    "g.map(sns.histplot,\"n\", alpha=.4)"
   ]
  },
  {
   "cell_type": "code",
   "execution_count": 25,
   "metadata": {},
   "outputs": [
    {
     "data": {
      "text/html": [
       "<div>\n",
       "<style scoped>\n",
       "    .dataframe tbody tr th:only-of-type {\n",
       "        vertical-align: middle;\n",
       "    }\n",
       "\n",
       "    .dataframe tbody tr th {\n",
       "        vertical-align: top;\n",
       "    }\n",
       "\n",
       "    .dataframe thead th {\n",
       "        text-align: right;\n",
       "    }\n",
       "</style>\n",
       "<table border=\"1\" class=\"dataframe\">\n",
       "  <thead>\n",
       "    <tr style=\"text-align: right;\">\n",
       "      <th></th>\n",
       "      <th>elemento</th>\n",
       "      <th>run</th>\n",
       "      <th>n</th>\n",
       "    </tr>\n",
       "  </thead>\n",
       "  <tbody>\n",
       "    <tr>\n",
       "      <th>0</th>\n",
       "      <td>electron</td>\n",
       "      <td>70</td>\n",
       "      <td>269</td>\n",
       "    </tr>\n",
       "    <tr>\n",
       "      <th>1</th>\n",
       "      <td>electron</td>\n",
       "      <td>150</td>\n",
       "      <td>268</td>\n",
       "    </tr>\n",
       "    <tr>\n",
       "      <th>2</th>\n",
       "      <td>electron</td>\n",
       "      <td>47</td>\n",
       "      <td>222</td>\n",
       "    </tr>\n",
       "    <tr>\n",
       "      <th>3</th>\n",
       "      <td>electron</td>\n",
       "      <td>189</td>\n",
       "      <td>209</td>\n",
       "    </tr>\n",
       "    <tr>\n",
       "      <th>4</th>\n",
       "      <td>electron</td>\n",
       "      <td>19</td>\n",
       "      <td>260</td>\n",
       "    </tr>\n",
       "    <tr>\n",
       "      <th>...</th>\n",
       "      <td>...</td>\n",
       "      <td>...</td>\n",
       "      <td>...</td>\n",
       "    </tr>\n",
       "    <tr>\n",
       "      <th>2379</th>\n",
       "      <td>silicon</td>\n",
       "      <td>271</td>\n",
       "      <td>243</td>\n",
       "    </tr>\n",
       "    <tr>\n",
       "      <th>2380</th>\n",
       "      <td>silicon</td>\n",
       "      <td>267</td>\n",
       "      <td>248</td>\n",
       "    </tr>\n",
       "    <tr>\n",
       "      <th>2381</th>\n",
       "      <td>silicon</td>\n",
       "      <td>89</td>\n",
       "      <td>251</td>\n",
       "    </tr>\n",
       "    <tr>\n",
       "      <th>2382</th>\n",
       "      <td>silicon</td>\n",
       "      <td>204</td>\n",
       "      <td>209</td>\n",
       "    </tr>\n",
       "    <tr>\n",
       "      <th>2383</th>\n",
       "      <td>silicon</td>\n",
       "      <td>158</td>\n",
       "      <td>255</td>\n",
       "    </tr>\n",
       "  </tbody>\n",
       "</table>\n",
       "<p>2384 rows × 3 columns</p>\n",
       "</div>"
      ],
      "text/plain": [
       "      elemento  run    n\n",
       "0     electron   70  269\n",
       "1     electron  150  268\n",
       "2     electron   47  222\n",
       "3     electron  189  209\n",
       "4     electron   19  260\n",
       "...        ...  ...  ...\n",
       "2379   silicon  271  243\n",
       "2380   silicon  267  248\n",
       "2381   silicon   89  251\n",
       "2382   silicon  204  209\n",
       "2383   silicon  158  255\n",
       "\n",
       "[2384 rows x 3 columns]"
      ]
     },
     "execution_count": 25,
     "metadata": {},
     "output_type": "execute_result"
    }
   ],
   "source": [
    "#vamos a seleccionar unas runs para el train y otras para el test   \n",
    "eventos_number_rand=eventos_number.groupby(\"elemento\").apply(lambda x : x.sample(frac=1)).reset_index(drop=True)\n",
    "eventos_number_rand"
   ]
  },
  {
   "cell_type": "code",
   "execution_count": 26,
   "metadata": {},
   "outputs": [
    {
     "data": {
      "text/html": [
       "<div>\n",
       "<style scoped>\n",
       "    .dataframe tbody tr th:only-of-type {\n",
       "        vertical-align: middle;\n",
       "    }\n",
       "\n",
       "    .dataframe tbody tr th {\n",
       "        vertical-align: top;\n",
       "    }\n",
       "\n",
       "    .dataframe thead th {\n",
       "        text-align: right;\n",
       "    }\n",
       "</style>\n",
       "<table border=\"1\" class=\"dataframe\">\n",
       "  <thead>\n",
       "    <tr style=\"text-align: right;\">\n",
       "      <th></th>\n",
       "      <th>elemento</th>\n",
       "      <th>run</th>\n",
       "      <th>n</th>\n",
       "      <th>percent</th>\n",
       "    </tr>\n",
       "  </thead>\n",
       "  <tbody>\n",
       "    <tr>\n",
       "      <th>0</th>\n",
       "      <td>electron</td>\n",
       "      <td>70</td>\n",
       "      <td>269</td>\n",
       "      <td>0.003118</td>\n",
       "    </tr>\n",
       "    <tr>\n",
       "      <th>1</th>\n",
       "      <td>electron</td>\n",
       "      <td>150</td>\n",
       "      <td>268</td>\n",
       "      <td>0.003106</td>\n",
       "    </tr>\n",
       "    <tr>\n",
       "      <th>2</th>\n",
       "      <td>electron</td>\n",
       "      <td>47</td>\n",
       "      <td>222</td>\n",
       "      <td>0.002573</td>\n",
       "    </tr>\n",
       "    <tr>\n",
       "      <th>3</th>\n",
       "      <td>electron</td>\n",
       "      <td>189</td>\n",
       "      <td>209</td>\n",
       "      <td>0.002422</td>\n",
       "    </tr>\n",
       "    <tr>\n",
       "      <th>4</th>\n",
       "      <td>electron</td>\n",
       "      <td>19</td>\n",
       "      <td>260</td>\n",
       "      <td>0.003014</td>\n",
       "    </tr>\n",
       "    <tr>\n",
       "      <th>...</th>\n",
       "      <td>...</td>\n",
       "      <td>...</td>\n",
       "      <td>...</td>\n",
       "      <td>...</td>\n",
       "    </tr>\n",
       "    <tr>\n",
       "      <th>2379</th>\n",
       "      <td>silicon</td>\n",
       "      <td>271</td>\n",
       "      <td>243</td>\n",
       "      <td>0.002819</td>\n",
       "    </tr>\n",
       "    <tr>\n",
       "      <th>2380</th>\n",
       "      <td>silicon</td>\n",
       "      <td>267</td>\n",
       "      <td>248</td>\n",
       "      <td>0.002877</td>\n",
       "    </tr>\n",
       "    <tr>\n",
       "      <th>2381</th>\n",
       "      <td>silicon</td>\n",
       "      <td>89</td>\n",
       "      <td>251</td>\n",
       "      <td>0.002912</td>\n",
       "    </tr>\n",
       "    <tr>\n",
       "      <th>2382</th>\n",
       "      <td>silicon</td>\n",
       "      <td>204</td>\n",
       "      <td>209</td>\n",
       "      <td>0.002424</td>\n",
       "    </tr>\n",
       "    <tr>\n",
       "      <th>2383</th>\n",
       "      <td>silicon</td>\n",
       "      <td>158</td>\n",
       "      <td>255</td>\n",
       "      <td>0.002958</td>\n",
       "    </tr>\n",
       "  </tbody>\n",
       "</table>\n",
       "<p>2384 rows × 4 columns</p>\n",
       "</div>"
      ],
      "text/plain": [
       "      elemento  run    n   percent\n",
       "0     electron   70  269  0.003118\n",
       "1     electron  150  268  0.003106\n",
       "2     electron   47  222  0.002573\n",
       "3     electron  189  209  0.002422\n",
       "4     electron   19  260  0.003014\n",
       "...        ...  ...  ...       ...\n",
       "2379   silicon  271  243  0.002819\n",
       "2380   silicon  267  248  0.002877\n",
       "2381   silicon   89  251  0.002912\n",
       "2382   silicon  204  209  0.002424\n",
       "2383   silicon  158  255  0.002958\n",
       "\n",
       "[2384 rows x 4 columns]"
      ]
     },
     "execution_count": 26,
     "metadata": {},
     "output_type": "execute_result"
    }
   ],
   "source": [
    "eventos_number_rand[\"percent\"]=eventos_number_rand.groupby(\"elemento\")[\"n\"].transform(lambda x : x/x.sum())\n",
    "eventos_number_rand"
   ]
  },
  {
   "cell_type": "code",
   "execution_count": 27,
   "metadata": {},
   "outputs": [
    {
     "data": {
      "text/html": [
       "<div>\n",
       "<style scoped>\n",
       "    .dataframe tbody tr th:only-of-type {\n",
       "        vertical-align: middle;\n",
       "    }\n",
       "\n",
       "    .dataframe tbody tr th {\n",
       "        vertical-align: top;\n",
       "    }\n",
       "\n",
       "    .dataframe thead th {\n",
       "        text-align: right;\n",
       "    }\n",
       "</style>\n",
       "<table border=\"1\" class=\"dataframe\">\n",
       "  <thead>\n",
       "    <tr style=\"text-align: right;\">\n",
       "      <th></th>\n",
       "      <th>elemento</th>\n",
       "      <th>run</th>\n",
       "      <th>n</th>\n",
       "      <th>percent</th>\n",
       "      <th>cumsum</th>\n",
       "    </tr>\n",
       "  </thead>\n",
       "  <tbody>\n",
       "    <tr>\n",
       "      <th>0</th>\n",
       "      <td>electron</td>\n",
       "      <td>70</td>\n",
       "      <td>269</td>\n",
       "      <td>0.003118</td>\n",
       "      <td>0.003118</td>\n",
       "    </tr>\n",
       "    <tr>\n",
       "      <th>1</th>\n",
       "      <td>electron</td>\n",
       "      <td>150</td>\n",
       "      <td>268</td>\n",
       "      <td>0.003106</td>\n",
       "      <td>0.006224</td>\n",
       "    </tr>\n",
       "    <tr>\n",
       "      <th>2</th>\n",
       "      <td>electron</td>\n",
       "      <td>47</td>\n",
       "      <td>222</td>\n",
       "      <td>0.002573</td>\n",
       "      <td>0.008797</td>\n",
       "    </tr>\n",
       "    <tr>\n",
       "      <th>3</th>\n",
       "      <td>electron</td>\n",
       "      <td>189</td>\n",
       "      <td>209</td>\n",
       "      <td>0.002422</td>\n",
       "      <td>0.011220</td>\n",
       "    </tr>\n",
       "    <tr>\n",
       "      <th>4</th>\n",
       "      <td>electron</td>\n",
       "      <td>19</td>\n",
       "      <td>260</td>\n",
       "      <td>0.003014</td>\n",
       "      <td>0.014233</td>\n",
       "    </tr>\n",
       "    <tr>\n",
       "      <th>...</th>\n",
       "      <td>...</td>\n",
       "      <td>...</td>\n",
       "      <td>...</td>\n",
       "      <td>...</td>\n",
       "      <td>...</td>\n",
       "    </tr>\n",
       "    <tr>\n",
       "      <th>2379</th>\n",
       "      <td>silicon</td>\n",
       "      <td>271</td>\n",
       "      <td>243</td>\n",
       "      <td>0.002819</td>\n",
       "      <td>0.988829</td>\n",
       "    </tr>\n",
       "    <tr>\n",
       "      <th>2380</th>\n",
       "      <td>silicon</td>\n",
       "      <td>267</td>\n",
       "      <td>248</td>\n",
       "      <td>0.002877</td>\n",
       "      <td>0.991706</td>\n",
       "    </tr>\n",
       "    <tr>\n",
       "      <th>2381</th>\n",
       "      <td>silicon</td>\n",
       "      <td>89</td>\n",
       "      <td>251</td>\n",
       "      <td>0.002912</td>\n",
       "      <td>0.994618</td>\n",
       "    </tr>\n",
       "    <tr>\n",
       "      <th>2382</th>\n",
       "      <td>silicon</td>\n",
       "      <td>204</td>\n",
       "      <td>209</td>\n",
       "      <td>0.002424</td>\n",
       "      <td>0.997042</td>\n",
       "    </tr>\n",
       "    <tr>\n",
       "      <th>2383</th>\n",
       "      <td>silicon</td>\n",
       "      <td>158</td>\n",
       "      <td>255</td>\n",
       "      <td>0.002958</td>\n",
       "      <td>1.000000</td>\n",
       "    </tr>\n",
       "  </tbody>\n",
       "</table>\n",
       "<p>2384 rows × 5 columns</p>\n",
       "</div>"
      ],
      "text/plain": [
       "      elemento  run    n   percent    cumsum\n",
       "0     electron   70  269  0.003118  0.003118\n",
       "1     electron  150  268  0.003106  0.006224\n",
       "2     electron   47  222  0.002573  0.008797\n",
       "3     electron  189  209  0.002422  0.011220\n",
       "4     electron   19  260  0.003014  0.014233\n",
       "...        ...  ...  ...       ...       ...\n",
       "2379   silicon  271  243  0.002819  0.988829\n",
       "2380   silicon  267  248  0.002877  0.991706\n",
       "2381   silicon   89  251  0.002912  0.994618\n",
       "2382   silicon  204  209  0.002424  0.997042\n",
       "2383   silicon  158  255  0.002958  1.000000\n",
       "\n",
       "[2384 rows x 5 columns]"
      ]
     },
     "execution_count": 27,
     "metadata": {},
     "output_type": "execute_result"
    }
   ],
   "source": [
    "eventos_number_rand[\"cumsum\"]=eventos_number_rand.groupby(\"elemento\")[\"percent\"].transform(lambda x : x.cumsum())\n",
    "eventos_number_rand"
   ]
  },
  {
   "cell_type": "code",
   "execution_count": 28,
   "metadata": {},
   "outputs": [
    {
     "data": {
      "text/html": [
       "<div>\n",
       "<style scoped>\n",
       "    .dataframe tbody tr th:only-of-type {\n",
       "        vertical-align: middle;\n",
       "    }\n",
       "\n",
       "    .dataframe tbody tr th {\n",
       "        vertical-align: top;\n",
       "    }\n",
       "\n",
       "    .dataframe thead th {\n",
       "        text-align: right;\n",
       "    }\n",
       "</style>\n",
       "<table border=\"1\" class=\"dataframe\">\n",
       "  <thead>\n",
       "    <tr style=\"text-align: right;\">\n",
       "      <th></th>\n",
       "      <th>elemento</th>\n",
       "      <th>run</th>\n",
       "      <th>n</th>\n",
       "      <th>percent</th>\n",
       "      <th>cumsum</th>\n",
       "      <th>mode</th>\n",
       "    </tr>\n",
       "  </thead>\n",
       "  <tbody>\n",
       "    <tr>\n",
       "      <th>0</th>\n",
       "      <td>electron</td>\n",
       "      <td>70</td>\n",
       "      <td>269</td>\n",
       "      <td>0.003118</td>\n",
       "      <td>0.003118</td>\n",
       "      <td>Train</td>\n",
       "    </tr>\n",
       "    <tr>\n",
       "      <th>1</th>\n",
       "      <td>electron</td>\n",
       "      <td>150</td>\n",
       "      <td>268</td>\n",
       "      <td>0.003106</td>\n",
       "      <td>0.006224</td>\n",
       "      <td>Train</td>\n",
       "    </tr>\n",
       "    <tr>\n",
       "      <th>2</th>\n",
       "      <td>electron</td>\n",
       "      <td>47</td>\n",
       "      <td>222</td>\n",
       "      <td>0.002573</td>\n",
       "      <td>0.008797</td>\n",
       "      <td>Train</td>\n",
       "    </tr>\n",
       "    <tr>\n",
       "      <th>3</th>\n",
       "      <td>electron</td>\n",
       "      <td>189</td>\n",
       "      <td>209</td>\n",
       "      <td>0.002422</td>\n",
       "      <td>0.011220</td>\n",
       "      <td>Train</td>\n",
       "    </tr>\n",
       "    <tr>\n",
       "      <th>4</th>\n",
       "      <td>electron</td>\n",
       "      <td>19</td>\n",
       "      <td>260</td>\n",
       "      <td>0.003014</td>\n",
       "      <td>0.014233</td>\n",
       "      <td>Train</td>\n",
       "    </tr>\n",
       "    <tr>\n",
       "      <th>...</th>\n",
       "      <td>...</td>\n",
       "      <td>...</td>\n",
       "      <td>...</td>\n",
       "      <td>...</td>\n",
       "      <td>...</td>\n",
       "      <td>...</td>\n",
       "    </tr>\n",
       "    <tr>\n",
       "      <th>2379</th>\n",
       "      <td>silicon</td>\n",
       "      <td>271</td>\n",
       "      <td>243</td>\n",
       "      <td>0.002819</td>\n",
       "      <td>0.988829</td>\n",
       "      <td>Test</td>\n",
       "    </tr>\n",
       "    <tr>\n",
       "      <th>2380</th>\n",
       "      <td>silicon</td>\n",
       "      <td>267</td>\n",
       "      <td>248</td>\n",
       "      <td>0.002877</td>\n",
       "      <td>0.991706</td>\n",
       "      <td>Test</td>\n",
       "    </tr>\n",
       "    <tr>\n",
       "      <th>2381</th>\n",
       "      <td>silicon</td>\n",
       "      <td>89</td>\n",
       "      <td>251</td>\n",
       "      <td>0.002912</td>\n",
       "      <td>0.994618</td>\n",
       "      <td>Test</td>\n",
       "    </tr>\n",
       "    <tr>\n",
       "      <th>2382</th>\n",
       "      <td>silicon</td>\n",
       "      <td>204</td>\n",
       "      <td>209</td>\n",
       "      <td>0.002424</td>\n",
       "      <td>0.997042</td>\n",
       "      <td>Test</td>\n",
       "    </tr>\n",
       "    <tr>\n",
       "      <th>2383</th>\n",
       "      <td>silicon</td>\n",
       "      <td>158</td>\n",
       "      <td>255</td>\n",
       "      <td>0.002958</td>\n",
       "      <td>1.000000</td>\n",
       "      <td>Test</td>\n",
       "    </tr>\n",
       "  </tbody>\n",
       "</table>\n",
       "<p>2384 rows × 6 columns</p>\n",
       "</div>"
      ],
      "text/plain": [
       "      elemento  run    n   percent    cumsum   mode\n",
       "0     electron   70  269  0.003118  0.003118  Train\n",
       "1     electron  150  268  0.003106  0.006224  Train\n",
       "2     electron   47  222  0.002573  0.008797  Train\n",
       "3     electron  189  209  0.002422  0.011220  Train\n",
       "4     electron   19  260  0.003014  0.014233  Train\n",
       "...        ...  ...  ...       ...       ...    ...\n",
       "2379   silicon  271  243  0.002819  0.988829   Test\n",
       "2380   silicon  267  248  0.002877  0.991706   Test\n",
       "2381   silicon   89  251  0.002912  0.994618   Test\n",
       "2382   silicon  204  209  0.002424  0.997042   Test\n",
       "2383   silicon  158  255  0.002958  1.000000   Test\n",
       "\n",
       "[2384 rows x 6 columns]"
      ]
     },
     "execution_count": 28,
     "metadata": {},
     "output_type": "execute_result"
    }
   ],
   "source": [
    "#ahora para cada elemento, vamos a guardar los runs que contienen el 80% de los datos\n",
    "eventos_number_rand.loc[eventos_number_rand[\"cumsum\"]<0.80,\"mode\"]=\"Train\"\n",
    "eventos_number_rand[\"mode\"]=eventos_number_rand[\"mode\"].fillna(\"Test\")\n",
    "eventos_number_rand\n"
   ]
  },
  {
   "cell_type": "code",
   "execution_count": 29,
   "metadata": {},
   "outputs": [
    {
     "data": {
      "text/plain": [
       "elemento  mode \n",
       "electron  Test     0.200000\n",
       "          Train    0.800000\n",
       "gamma     Test     0.210526\n",
       "          Train    0.789474\n",
       "helium    Test     0.196875\n",
       "          Train    0.803125\n",
       "iron      Test     0.200461\n",
       "          Train    0.799539\n",
       "nitrogen  Test     0.195000\n",
       "          Train    0.805000\n",
       "proton    Test     0.202326\n",
       "          Train    0.797674\n",
       "silicon   Test     0.197222\n",
       "          Train    0.802778\n",
       "dtype: float64"
      ]
     },
     "execution_count": 29,
     "metadata": {},
     "output_type": "execute_result"
    }
   ],
   "source": [
    "eventos_number_rand.groupby([\"elemento\",\"mode\"]).size()/eventos_number_rand.groupby([\"elemento\"]).size()\n"
   ]
  },
  {
   "cell_type": "code",
   "execution_count": 30,
   "metadata": {},
   "outputs": [
    {
     "data": {
      "text/html": [
       "<div>\n",
       "<style scoped>\n",
       "    .dataframe tbody tr th:only-of-type {\n",
       "        vertical-align: middle;\n",
       "    }\n",
       "\n",
       "    .dataframe tbody tr th {\n",
       "        vertical-align: top;\n",
       "    }\n",
       "\n",
       "    .dataframe thead th {\n",
       "        text-align: right;\n",
       "    }\n",
       "</style>\n",
       "<table border=\"1\" class=\"dataframe\">\n",
       "  <thead>\n",
       "    <tr style=\"text-align: right;\">\n",
       "      <th></th>\n",
       "      <th>elemento</th>\n",
       "      <th>mode</th>\n",
       "      <th>list_runs</th>\n",
       "    </tr>\n",
       "  </thead>\n",
       "  <tbody>\n",
       "    <tr>\n",
       "      <th>0</th>\n",
       "      <td>electron</td>\n",
       "      <td>Test</td>\n",
       "      <td>[179, 365, 244, 350, 112, 167, 360, 109, 68, 2...</td>\n",
       "    </tr>\n",
       "    <tr>\n",
       "      <th>1</th>\n",
       "      <td>electron</td>\n",
       "      <td>Train</td>\n",
       "      <td>[70, 150, 47, 189, 19, 88, 343, 9, 95, 24, 140...</td>\n",
       "    </tr>\n",
       "    <tr>\n",
       "      <th>2</th>\n",
       "      <td>gamma</td>\n",
       "      <td>Test</td>\n",
       "      <td>[69, 86, 6, 61, 13, 25, 57, 62, 19, 60, 31, 95...</td>\n",
       "    </tr>\n",
       "    <tr>\n",
       "      <th>3</th>\n",
       "      <td>gamma</td>\n",
       "      <td>Train</td>\n",
       "      <td>[99, 50, 56, 75, 76, 34, 49, 53, 51, 23, 24, 4...</td>\n",
       "    </tr>\n",
       "    <tr>\n",
       "      <th>4</th>\n",
       "      <td>helium</td>\n",
       "      <td>Test</td>\n",
       "      <td>[268, 64, 10, 175, 225, 114, 178, 227, 54, 201...</td>\n",
       "    </tr>\n",
       "    <tr>\n",
       "      <th>5</th>\n",
       "      <td>helium</td>\n",
       "      <td>Train</td>\n",
       "      <td>[142, 197, 85, 133, 254, 203, 13, 88, 24, 29, ...</td>\n",
       "    </tr>\n",
       "    <tr>\n",
       "      <th>6</th>\n",
       "      <td>iron</td>\n",
       "      <td>Test</td>\n",
       "      <td>[4, 223, 221, 147, 259, 12, 373, 72, 327, 395,...</td>\n",
       "    </tr>\n",
       "    <tr>\n",
       "      <th>7</th>\n",
       "      <td>iron</td>\n",
       "      <td>Train</td>\n",
       "      <td>[228, 68, 240, 222, 23, 210, 219, 428, 204, 22...</td>\n",
       "    </tr>\n",
       "    <tr>\n",
       "      <th>8</th>\n",
       "      <td>nitrogen</td>\n",
       "      <td>Test</td>\n",
       "      <td>[13, 53, 200, 239, 147, 372, 118, 227, 382, 15...</td>\n",
       "    </tr>\n",
       "    <tr>\n",
       "      <th>9</th>\n",
       "      <td>nitrogen</td>\n",
       "      <td>Train</td>\n",
       "      <td>[237, 250, 111, 4, 254, 231, 299, 33, 194, 381...</td>\n",
       "    </tr>\n",
       "    <tr>\n",
       "      <th>10</th>\n",
       "      <td>proton</td>\n",
       "      <td>Test</td>\n",
       "      <td>[59, 30, 223, 336, 10, 83, 220, 84, 309, 186, ...</td>\n",
       "    </tr>\n",
       "    <tr>\n",
       "      <th>11</th>\n",
       "      <td>proton</td>\n",
       "      <td>Train</td>\n",
       "      <td>[416, 63, 51, 62, 428, 179, 193, 261, 245, 233...</td>\n",
       "    </tr>\n",
       "    <tr>\n",
       "      <th>12</th>\n",
       "      <td>silicon</td>\n",
       "      <td>Test</td>\n",
       "      <td>[360, 330, 159, 234, 292, 212, 91, 183, 2, 138...</td>\n",
       "    </tr>\n",
       "    <tr>\n",
       "      <th>13</th>\n",
       "      <td>silicon</td>\n",
       "      <td>Train</td>\n",
       "      <td>[176, 231, 223, 315, 195, 117, 31, 188, 8, 109...</td>\n",
       "    </tr>\n",
       "  </tbody>\n",
       "</table>\n",
       "</div>"
      ],
      "text/plain": [
       "    elemento   mode                                          list_runs\n",
       "0   electron   Test  [179, 365, 244, 350, 112, 167, 360, 109, 68, 2...\n",
       "1   electron  Train  [70, 150, 47, 189, 19, 88, 343, 9, 95, 24, 140...\n",
       "2      gamma   Test  [69, 86, 6, 61, 13, 25, 57, 62, 19, 60, 31, 95...\n",
       "3      gamma  Train  [99, 50, 56, 75, 76, 34, 49, 53, 51, 23, 24, 4...\n",
       "4     helium   Test  [268, 64, 10, 175, 225, 114, 178, 227, 54, 201...\n",
       "5     helium  Train  [142, 197, 85, 133, 254, 203, 13, 88, 24, 29, ...\n",
       "6       iron   Test  [4, 223, 221, 147, 259, 12, 373, 72, 327, 395,...\n",
       "7       iron  Train  [228, 68, 240, 222, 23, 210, 219, 428, 204, 22...\n",
       "8   nitrogen   Test  [13, 53, 200, 239, 147, 372, 118, 227, 382, 15...\n",
       "9   nitrogen  Train  [237, 250, 111, 4, 254, 231, 299, 33, 194, 381...\n",
       "10    proton   Test  [59, 30, 223, 336, 10, 83, 220, 84, 309, 186, ...\n",
       "11    proton  Train  [416, 63, 51, 62, 428, 179, 193, 261, 245, 233...\n",
       "12   silicon   Test  [360, 330, 159, 234, 292, 212, 91, 183, 2, 138...\n",
       "13   silicon  Train  [176, 231, 223, 315, 195, 117, 31, 188, 8, 109..."
      ]
     },
     "execution_count": 30,
     "metadata": {},
     "output_type": "execute_result"
    }
   ],
   "source": [
    "df_lista_runs=eventos_number_rand.groupby([\"elemento\",\"mode\"]).apply(lambda x : list(x[\"run\"])).to_frame(name=\"list_runs\").reset_index()\n",
    "df_lista_runs"
   ]
  },
  {
   "cell_type": "code",
   "execution_count": 31,
   "metadata": {},
   "outputs": [
    {
     "name": "stdout",
     "output_type": "stream",
     "text": [
      "7 [75, 276, 343, 257, 322, 289, 347]\n"
     ]
    },
    {
     "data": {
      "text/html": [
       "<div>\n",
       "<style scoped>\n",
       "    .dataframe tbody tr th:only-of-type {\n",
       "        vertical-align: middle;\n",
       "    }\n",
       "\n",
       "    .dataframe tbody tr th {\n",
       "        vertical-align: top;\n",
       "    }\n",
       "\n",
       "    .dataframe thead th {\n",
       "        text-align: right;\n",
       "    }\n",
       "</style>\n",
       "<table border=\"1\" class=\"dataframe\">\n",
       "  <thead>\n",
       "    <tr style=\"text-align: right;\">\n",
       "      <th></th>\n",
       "      <th>elemento</th>\n",
       "      <th>mode</th>\n",
       "      <th>list_runs</th>\n",
       "    </tr>\n",
       "  </thead>\n",
       "  <tbody>\n",
       "    <tr>\n",
       "      <th>0</th>\n",
       "      <td>gamma</td>\n",
       "      <td>Train</td>\n",
       "      <td>[99, 50, 56, 75, 76, 34, 49, 53, 51, 23, 24, 4...</td>\n",
       "    </tr>\n",
       "    <tr>\n",
       "      <th>1</th>\n",
       "      <td>electron</td>\n",
       "      <td>Train</td>\n",
       "      <td>[70, 150, 47, 189, 19, 88, 343, 9, 95, 24, 140...</td>\n",
       "    </tr>\n",
       "    <tr>\n",
       "      <th>2</th>\n",
       "      <td>proton</td>\n",
       "      <td>Train</td>\n",
       "      <td>[416, 63, 51, 62, 428, 179, 193, 261, 245, 233...</td>\n",
       "    </tr>\n",
       "    <tr>\n",
       "      <th>3</th>\n",
       "      <td>helium</td>\n",
       "      <td>Train</td>\n",
       "      <td>[142, 197, 85, 133, 254, 203, 13, 88, 24, 29, ...</td>\n",
       "    </tr>\n",
       "    <tr>\n",
       "      <th>4</th>\n",
       "      <td>nitrogen</td>\n",
       "      <td>Train</td>\n",
       "      <td>[237, 250, 111, 4, 254, 231, 299, 33, 194, 381...</td>\n",
       "    </tr>\n",
       "    <tr>\n",
       "      <th>5</th>\n",
       "      <td>silicon</td>\n",
       "      <td>Train</td>\n",
       "      <td>[176, 231, 223, 315, 195, 117, 31, 188, 8, 109...</td>\n",
       "    </tr>\n",
       "    <tr>\n",
       "      <th>6</th>\n",
       "      <td>iron</td>\n",
       "      <td>Train</td>\n",
       "      <td>[228, 68, 240, 222, 23, 210, 219, 428, 204, 22...</td>\n",
       "    </tr>\n",
       "  </tbody>\n",
       "</table>\n",
       "</div>"
      ],
      "text/plain": [
       "   elemento   mode                                          list_runs\n",
       "0     gamma  Train  [99, 50, 56, 75, 76, 34, 49, 53, 51, 23, 24, 4...\n",
       "1  electron  Train  [70, 150, 47, 189, 19, 88, 343, 9, 95, 24, 140...\n",
       "2    proton  Train  [416, 63, 51, 62, 428, 179, 193, 261, 245, 233...\n",
       "3    helium  Train  [142, 197, 85, 133, 254, 203, 13, 88, 24, 29, ...\n",
       "4  nitrogen  Train  [237, 250, 111, 4, 254, 231, 299, 33, 194, 381...\n",
       "5   silicon  Train  [176, 231, 223, 315, 195, 117, 31, 188, 8, 109...\n",
       "6      iron  Train  [228, 68, 240, 222, 23, 210, 219, 428, 204, 22..."
      ]
     },
     "execution_count": 31,
     "metadata": {},
     "output_type": "execute_result"
    }
   ],
   "source": [
    "elementos=['gamma', 'electron', 'proton', 'helium', 'nitrogen', 'silicon', 'iron']\n",
    "train_runs=df_lista_runs.loc[df_lista_runs[\"mode\"]==\"Train\"].set_index(\"elemento\")\n",
    "train_runs=train_runs.loc[elementos].reset_index()\n",
    "train_runs_list=list(train_runs[\"list_runs\"].to_numpy())\n",
    "print(len(train_runs_list),[len(i) for i in train_runs_list])\n",
    "train_runs"
   ]
  },
  {
   "cell_type": "code",
   "execution_count": 32,
   "metadata": {},
   "outputs": [
    {
     "name": "stdout",
     "output_type": "stream",
     "text": [
      "7 [20, 69, 87, 63, 78, 71, 87]\n"
     ]
    },
    {
     "data": {
      "text/html": [
       "<div>\n",
       "<style scoped>\n",
       "    .dataframe tbody tr th:only-of-type {\n",
       "        vertical-align: middle;\n",
       "    }\n",
       "\n",
       "    .dataframe tbody tr th {\n",
       "        vertical-align: top;\n",
       "    }\n",
       "\n",
       "    .dataframe thead th {\n",
       "        text-align: right;\n",
       "    }\n",
       "</style>\n",
       "<table border=\"1\" class=\"dataframe\">\n",
       "  <thead>\n",
       "    <tr style=\"text-align: right;\">\n",
       "      <th></th>\n",
       "      <th>elemento</th>\n",
       "      <th>mode</th>\n",
       "      <th>list_runs</th>\n",
       "    </tr>\n",
       "  </thead>\n",
       "  <tbody>\n",
       "    <tr>\n",
       "      <th>0</th>\n",
       "      <td>gamma</td>\n",
       "      <td>Test</td>\n",
       "      <td>[69, 86, 6, 61, 13, 25, 57, 62, 19, 60, 31, 95...</td>\n",
       "    </tr>\n",
       "    <tr>\n",
       "      <th>1</th>\n",
       "      <td>electron</td>\n",
       "      <td>Test</td>\n",
       "      <td>[179, 365, 244, 350, 112, 167, 360, 109, 68, 2...</td>\n",
       "    </tr>\n",
       "    <tr>\n",
       "      <th>2</th>\n",
       "      <td>proton</td>\n",
       "      <td>Test</td>\n",
       "      <td>[59, 30, 223, 336, 10, 83, 220, 84, 309, 186, ...</td>\n",
       "    </tr>\n",
       "    <tr>\n",
       "      <th>3</th>\n",
       "      <td>helium</td>\n",
       "      <td>Test</td>\n",
       "      <td>[268, 64, 10, 175, 225, 114, 178, 227, 54, 201...</td>\n",
       "    </tr>\n",
       "    <tr>\n",
       "      <th>4</th>\n",
       "      <td>nitrogen</td>\n",
       "      <td>Test</td>\n",
       "      <td>[13, 53, 200, 239, 147, 372, 118, 227, 382, 15...</td>\n",
       "    </tr>\n",
       "    <tr>\n",
       "      <th>5</th>\n",
       "      <td>silicon</td>\n",
       "      <td>Test</td>\n",
       "      <td>[360, 330, 159, 234, 292, 212, 91, 183, 2, 138...</td>\n",
       "    </tr>\n",
       "    <tr>\n",
       "      <th>6</th>\n",
       "      <td>iron</td>\n",
       "      <td>Test</td>\n",
       "      <td>[4, 223, 221, 147, 259, 12, 373, 72, 327, 395,...</td>\n",
       "    </tr>\n",
       "  </tbody>\n",
       "</table>\n",
       "</div>"
      ],
      "text/plain": [
       "   elemento  mode                                          list_runs\n",
       "0     gamma  Test  [69, 86, 6, 61, 13, 25, 57, 62, 19, 60, 31, 95...\n",
       "1  electron  Test  [179, 365, 244, 350, 112, 167, 360, 109, 68, 2...\n",
       "2    proton  Test  [59, 30, 223, 336, 10, 83, 220, 84, 309, 186, ...\n",
       "3    helium  Test  [268, 64, 10, 175, 225, 114, 178, 227, 54, 201...\n",
       "4  nitrogen  Test  [13, 53, 200, 239, 147, 372, 118, 227, 382, 15...\n",
       "5   silicon  Test  [360, 330, 159, 234, 292, 212, 91, 183, 2, 138...\n",
       "6      iron  Test  [4, 223, 221, 147, 259, 12, 373, 72, 327, 395,..."
      ]
     },
     "execution_count": 32,
     "metadata": {},
     "output_type": "execute_result"
    }
   ],
   "source": [
    "test_runs=df_lista_runs.loc[df_lista_runs[\"mode\"]==\"Test\"].set_index(\"elemento\")\n",
    "test_runs=test_runs.loc[elementos].reset_index()\n",
    "test_runs_list=list(test_runs[\"list_runs\"].to_numpy())\n",
    "print(len(test_runs_list),[len(i) for i in test_runs_list])\n",
    "test_runs"
   ]
  },
  {
   "attachments": {},
   "cell_type": "markdown",
   "metadata": {},
   "source": [
    "## La parte del entrenamiento con esas runs "
   ]
  },
  {
   "cell_type": "code",
   "execution_count": 33,
   "metadata": {},
   "outputs": [
    {
     "data": {
      "text/plain": [
       "'/home/arturosf/Documentos/repos/second_CTA_analysis/data_full/combined/elementos_npy'"
      ]
     },
     "execution_count": 33,
     "metadata": {},
     "output_type": "execute_result"
    }
   ],
   "source": [
    "PATH_npy=f\"{BASE_DIR}/data_full/combined/elementos_npy\"\n",
    "PATH_npy"
   ]
  },
  {
   "cell_type": "code",
   "execution_count": 34,
   "metadata": {},
   "outputs": [
    {
     "data": {
      "text/plain": [
       "['npy_iron',\n",
       " 'npy_silicon',\n",
       " 'npy_gamma',\n",
       " 'npy_proton',\n",
       " 'npy_nitrogen',\n",
       " 'npy_electron',\n",
       " 'npy_helium']"
      ]
     },
     "execution_count": 34,
     "metadata": {},
     "output_type": "execute_result"
    }
   ],
   "source": [
    "os.listdir(PATH_npy)"
   ]
  },
  {
   "cell_type": "code",
   "execution_count": 35,
   "metadata": {},
   "outputs": [
    {
     "data": {
      "text/html": [
       "<div>\n",
       "<style scoped>\n",
       "    .dataframe tbody tr th:only-of-type {\n",
       "        vertical-align: middle;\n",
       "    }\n",
       "\n",
       "    .dataframe tbody tr th {\n",
       "        vertical-align: top;\n",
       "    }\n",
       "\n",
       "    .dataframe thead th {\n",
       "        text-align: right;\n",
       "    }\n",
       "</style>\n",
       "<table border=\"1\" class=\"dataframe\">\n",
       "  <thead>\n",
       "    <tr style=\"text-align: right;\">\n",
       "      <th></th>\n",
       "      <th>elemento</th>\n",
       "      <th>mode</th>\n",
       "      <th>list_runs</th>\n",
       "    </tr>\n",
       "  </thead>\n",
       "  <tbody>\n",
       "    <tr>\n",
       "      <th>0</th>\n",
       "      <td>gamma</td>\n",
       "      <td>Train</td>\n",
       "      <td>[99, 50, 56, 75, 76, 34, 49, 53, 51, 23, 24, 4...</td>\n",
       "    </tr>\n",
       "    <tr>\n",
       "      <th>1</th>\n",
       "      <td>electron</td>\n",
       "      <td>Train</td>\n",
       "      <td>[70, 150, 47, 189, 19, 88, 343, 9, 95, 24, 140...</td>\n",
       "    </tr>\n",
       "    <tr>\n",
       "      <th>2</th>\n",
       "      <td>proton</td>\n",
       "      <td>Train</td>\n",
       "      <td>[416, 63, 51, 62, 428, 179, 193, 261, 245, 233...</td>\n",
       "    </tr>\n",
       "    <tr>\n",
       "      <th>3</th>\n",
       "      <td>helium</td>\n",
       "      <td>Train</td>\n",
       "      <td>[142, 197, 85, 133, 254, 203, 13, 88, 24, 29, ...</td>\n",
       "    </tr>\n",
       "    <tr>\n",
       "      <th>4</th>\n",
       "      <td>nitrogen</td>\n",
       "      <td>Train</td>\n",
       "      <td>[237, 250, 111, 4, 254, 231, 299, 33, 194, 381...</td>\n",
       "    </tr>\n",
       "    <tr>\n",
       "      <th>5</th>\n",
       "      <td>silicon</td>\n",
       "      <td>Train</td>\n",
       "      <td>[176, 231, 223, 315, 195, 117, 31, 188, 8, 109...</td>\n",
       "    </tr>\n",
       "    <tr>\n",
       "      <th>6</th>\n",
       "      <td>iron</td>\n",
       "      <td>Train</td>\n",
       "      <td>[228, 68, 240, 222, 23, 210, 219, 428, 204, 22...</td>\n",
       "    </tr>\n",
       "  </tbody>\n",
       "</table>\n",
       "</div>"
      ],
      "text/plain": [
       "   elemento   mode                                          list_runs\n",
       "0     gamma  Train  [99, 50, 56, 75, 76, 34, 49, 53, 51, 23, 24, 4...\n",
       "1  electron  Train  [70, 150, 47, 189, 19, 88, 343, 9, 95, 24, 140...\n",
       "2    proton  Train  [416, 63, 51, 62, 428, 179, 193, 261, 245, 233...\n",
       "3    helium  Train  [142, 197, 85, 133, 254, 203, 13, 88, 24, 29, ...\n",
       "4  nitrogen  Train  [237, 250, 111, 4, 254, 231, 299, 33, 194, 381...\n",
       "5   silicon  Train  [176, 231, 223, 315, 195, 117, 31, 188, 8, 109...\n",
       "6      iron  Train  [228, 68, 240, 222, 23, 210, 219, 428, 204, 22..."
      ]
     },
     "execution_count": 35,
     "metadata": {},
     "output_type": "execute_result"
    }
   ],
   "source": [
    "train_runs"
   ]
  },
  {
   "cell_type": "code",
   "execution_count": 36,
   "metadata": {},
   "outputs": [],
   "source": [
    "aux_list=[i[:2] for i in train_runs_list]"
   ]
  },
  {
   "cell_type": "code",
   "execution_count": 37,
   "metadata": {},
   "outputs": [
    {
     "name": "stdout",
     "output_type": "stream",
     "text": [
      "Load of names and common events\n",
      "_______________\n",
      "0 ;  Element:  gamma  , Runs:  [99, 50]  Shape of common events (tels,common events):  (4, 2257)\n",
      "1 ;  Element:  gamma  , Runs:  [99, 50]  Shape of common events (tels,common events):  (4, 1118)\n",
      "0 ;  Element:  electron  , Runs:  [70, 150]  Shape of common events (tels,common events):  (4, 269)\n",
      "1 ;  Element:  electron  , Runs:  [70, 150]  Shape of common events (tels,common events):  (4, 268)\n",
      "0 ;  Element:  proton  , Runs:  [416, 63]  Shape of common events (tels,common events):  (4, 145)\n",
      "1 ;  Element:  proton  , Runs:  [416, 63]  Shape of common events (tels,common events):  (4, 146)\n",
      "0 ;  Element:  helium  , Runs:  [142, 197]  Shape of common events (tels,common events):  (4, 231)\n",
      "1 ;  Element:  helium  , Runs:  [142, 197]  Shape of common events (tels,common events):  (4, 226)\n",
      "0 ;  Element:  nitrogen  , Runs:  [237, 250]  Shape of common events (tels,common events):  (4, 223)\n",
      "1 ;  Element:  nitrogen  , Runs:  [237, 250]  Shape of common events (tels,common events):  (4, 198)\n",
      "0 ;  Element:  silicon  , Runs:  [176, 231]  Shape of common events (tels,common events):  (4, 260)\n",
      "1 ;  Element:  silicon  , Runs:  [176, 231]  Shape of common events (tels,common events):  (4, 248)\n",
      "0 ;  Element:  iron  , Runs:  [228, 68]  Shape of common events (tels,common events):  (4, 148)\n",
      "1 ;  Element:  iron  , Runs:  [228, 68]  Shape of common events (tels,common events):  (4, 157)\n",
      "_______________\n",
      "Load of actual npy data:\n",
      "_______________\n"
     ]
    },
    {
     "name": "stdout",
     "output_type": "stream",
     "text": [
      "Element:  gamma , Telescope:  1  Shape of loaded array (amount of images, size of images):  (3375, 93, 55)\n",
      "Element:  electron , Telescope:  1  Shape of loaded array (amount of images, size of images):  (537, 93, 55)\n",
      "Element:  proton , Telescope:  1  Shape of loaded array (amount of images, size of images):  (291, 93, 55)\n",
      "Element:  helium , Telescope:  1  Shape of loaded array (amount of images, size of images):  (457, 93, 55)\n",
      "Element:  nitrogen , Telescope:  1  Shape of loaded array (amount of images, size of images):  (421, 93, 55)\n",
      "Element:  silicon , Telescope:  1  Shape of loaded array (amount of images, size of images):  (508, 93, 55)\n",
      "Element:  iron , Telescope:  1  Shape of loaded array (amount of images, size of images):  (305, 93, 55)\n",
      "Element:  gamma , Telescope:  2  Shape of loaded array (amount of images, size of images):  (3375, 93, 55)\n",
      "Element:  electron , Telescope:  2  Shape of loaded array (amount of images, size of images):  (537, 93, 55)\n",
      "Element:  proton , Telescope:  2  Shape of loaded array (amount of images, size of images):  (291, 93, 55)\n",
      "Element:  helium , Telescope:  2  Shape of loaded array (amount of images, size of images):  (457, 93, 55)\n",
      "Element:  nitrogen , Telescope:  2  Shape of loaded array (amount of images, size of images):  (421, 93, 55)\n",
      "Element:  silicon , Telescope:  2  Shape of loaded array (amount of images, size of images):  (508, 93, 55)\n",
      "Element:  iron , Telescope:  2  Shape of loaded array (amount of images, size of images):  (305, 93, 55)\n",
      "Element:  gamma , Telescope:  3  Shape of loaded array (amount of images, size of images):  (3375, 93, 55)\n",
      "Element:  electron , Telescope:  3  Shape of loaded array (amount of images, size of images):  (537, 93, 55)\n",
      "Element:  proton , Telescope:  3  Shape of loaded array (amount of images, size of images):  (291, 93, 55)\n",
      "Element:  helium , Telescope:  3  Shape of loaded array (amount of images, size of images):  (457, 93, 55)\n",
      "Element:  nitrogen , Telescope:  3  Shape of loaded array (amount of images, size of images):  (421, 93, 55)\n",
      "Element:  silicon , Telescope:  3  Shape of loaded array (amount of images, size of images):  (508, 93, 55)\n",
      "Element:  iron , Telescope:  3  Shape of loaded array (amount of images, size of images):  (305, 93, 55)\n",
      "Element:  gamma , Telescope:  4  Shape of loaded array (amount of images, size of images):  (3375, 93, 55)\n",
      "Element:  electron , Telescope:  4  Shape of loaded array (amount of images, size of images):  (537, 93, 55)\n",
      "Element:  proton , Telescope:  4  Shape of loaded array (amount of images, size of images):  (291, 93, 55)\n",
      "Element:  helium , Telescope:  4  Shape of loaded array (amount of images, size of images):  (457, 93, 55)\n",
      "Element:  nitrogen , Telescope:  4  Shape of loaded array (amount of images, size of images):  (421, 93, 55)\n",
      "Element:  silicon , Telescope:  4  Shape of loaded array (amount of images, size of images):  (508, 93, 55)\n",
      "Element:  iron , Telescope:  4  Shape of loaded array (amount of images, size of images):  (305, 93, 55)\n",
      "SUCCESS\n"
     ]
    }
   ],
   "source": [
    "x_train_list,x_test_list,y_train_list,y_test_list=loaddata4use.load_dataset_completo(PATH_npy,labels_asign=[0,1,2,2,2,2,2],elements=elementos,\n",
    "                                                                                    main_list_runs=aux_list,pre_name_folders=\"npy_\",telescopes=[1,2,3,4],\n",
    "                                                                                    test_size=0.1,same_quant=\"all\",verbose=True,fill=True,categorical=True)\n",
    "\n"
   ]
  },
  {
   "cell_type": "code",
   "execution_count": 38,
   "metadata": {},
   "outputs": [],
   "source": [
    "def cambiar_ejes_lista(lista):\n",
    "    for i,j in enumerate(lista):\n",
    "        lista[i]=np.swapaxes(j,1,2)\n",
    "    return lista"
   ]
  },
  {
   "cell_type": "code",
   "execution_count": 39,
   "metadata": {},
   "outputs": [],
   "source": [
    "x_train_list=cambiar_ejes_lista(x_train_list)\n",
    "x_test_list=cambiar_ejes_lista(x_test_list)"
   ]
  },
  {
   "cell_type": "code",
   "execution_count": 40,
   "metadata": {},
   "outputs": [
    {
     "name": "stderr",
     "output_type": "stream",
     "text": [
      "2023-06-17 02:07:29.533472: I tensorflow/stream_executor/cuda/cuda_gpu_executor.cc:980] successful NUMA node read from SysFS had negative value (-1), but there must be at least one NUMA node, so returning NUMA node zero\n",
      "2023-06-17 02:07:29.534263: I tensorflow/stream_executor/cuda/cuda_gpu_executor.cc:980] successful NUMA node read from SysFS had negative value (-1), but there must be at least one NUMA node, so returning NUMA node zero\n",
      "2023-06-17 02:07:29.547068: I tensorflow/stream_executor/cuda/cuda_gpu_executor.cc:980] successful NUMA node read from SysFS had negative value (-1), but there must be at least one NUMA node, so returning NUMA node zero\n",
      "2023-06-17 02:07:29.547722: I tensorflow/stream_executor/cuda/cuda_gpu_executor.cc:980] successful NUMA node read from SysFS had negative value (-1), but there must be at least one NUMA node, so returning NUMA node zero\n",
      "2023-06-17 02:07:29.548135: I tensorflow/stream_executor/cuda/cuda_gpu_executor.cc:980] successful NUMA node read from SysFS had negative value (-1), but there must be at least one NUMA node, so returning NUMA node zero\n",
      "2023-06-17 02:07:29.548840: I tensorflow/stream_executor/cuda/cuda_gpu_executor.cc:980] successful NUMA node read from SysFS had negative value (-1), but there must be at least one NUMA node, so returning NUMA node zero\n",
      "2023-06-17 02:07:29.549248: I tensorflow/core/common_runtime/gpu/gpu_device.cc:2006] Ignoring visible gpu device (device: 1, name: NVIDIA GeForce GT 710, pci bus id: 0000:01:00.0, compute capability: 3.5) with core count: 1. The minimum required count is 8. You can adjust this requirement with the env var TF_MIN_GPU_MULTIPROCESSOR_COUNT.\n",
      "2023-06-17 02:07:29.549591: I tensorflow/core/platform/cpu_feature_guard.cc:193] This TensorFlow binary is optimized with oneAPI Deep Neural Network Library (oneDNN) to use the following CPU instructions in performance-critical operations:  SSE4.1 SSE4.2 AVX AVX2 AVX_VNNI FMA\n",
      "To enable them in other operations, rebuild TensorFlow with the appropriate compiler flags.\n",
      "2023-06-17 02:07:29.550164: I tensorflow/stream_executor/cuda/cuda_gpu_executor.cc:980] successful NUMA node read from SysFS had negative value (-1), but there must be at least one NUMA node, so returning NUMA node zero\n",
      "2023-06-17 02:07:29.550922: I tensorflow/stream_executor/cuda/cuda_gpu_executor.cc:980] successful NUMA node read from SysFS had negative value (-1), but there must be at least one NUMA node, so returning NUMA node zero\n",
      "2023-06-17 02:07:29.551594: I tensorflow/stream_executor/cuda/cuda_gpu_executor.cc:980] successful NUMA node read from SysFS had negative value (-1), but there must be at least one NUMA node, so returning NUMA node zero\n",
      "2023-06-17 02:07:29.841915: I tensorflow/stream_executor/cuda/cuda_gpu_executor.cc:980] successful NUMA node read from SysFS had negative value (-1), but there must be at least one NUMA node, so returning NUMA node zero\n",
      "2023-06-17 02:07:29.842524: I tensorflow/stream_executor/cuda/cuda_gpu_executor.cc:980] successful NUMA node read from SysFS had negative value (-1), but there must be at least one NUMA node, so returning NUMA node zero\n",
      "2023-06-17 02:07:29.843142: I tensorflow/stream_executor/cuda/cuda_gpu_executor.cc:980] successful NUMA node read from SysFS had negative value (-1), but there must be at least one NUMA node, so returning NUMA node zero\n",
      "2023-06-17 02:07:29.843824: I tensorflow/core/common_runtime/gpu/gpu_device.cc:1616] Created device /job:localhost/replica:0/task:0/device:GPU:0 with 13351 MB memory:  -> device: 0, name: NVIDIA A2, pci bus id: 0000:05:00.0, compute capability: 8.6\n"
     ]
    }
   ],
   "source": [
    "modelo=models.model_multi_tel(classes=3,filtros=[[32,64],[64,64],[32,16]],last_dense=[20,5])\n",
    "modelo.compile(optimizer=\"adam\",loss=\"categorical_crossentropy\",metrics=[\"acc\",\"AUC\",\"mean_squared_error\"])"
   ]
  },
  {
   "cell_type": "code",
   "execution_count": 41,
   "metadata": {},
   "outputs": [],
   "source": [
    "from numba import cuda"
   ]
  },
  {
   "cell_type": "code",
   "execution_count": 43,
   "metadata": {},
   "outputs": [
    {
     "name": "stdout",
     "output_type": "stream",
     "text": [
      "Epoch 1/2\n",
      "83/83 [==============================] - 14s 166ms/step - loss: 0.5377 - acc: 0.8982 - auc: 0.9673 - mean_squared_error: 0.0792 - val_loss: 0.5272 - val_acc: 0.8864 - val_auc: 0.9653 - val_mean_squared_error: 0.0793\n",
      "Epoch 2/2\n",
      "83/83 [==============================] - 14s 166ms/step - loss: 0.4987 - acc: 0.8965 - auc: 0.9675 - mean_squared_error: 0.0752 - val_loss: 0.4713 - val_acc: 0.9000 - val_auc: 0.9742 - val_mean_squared_error: 0.0707\n"
     ]
    }
   ],
   "source": [
    "device = cuda.get_current_device()\n",
    "\n",
    "hist=modelo.fit(x=x_train_list,y=y_train_list,epochs=2, validation_data=(x_test_list,y_test_list),batch_size=64)            \n"
   ]
  },
  {
   "cell_type": "code",
   "execution_count": null,
   "metadata": {},
   "outputs": [],
   "source": [
    "file_number=\"012\"\n",
    "n=19 #repes de boostrap\n",
    "#primer bucle para arquitecturas\n",
    "for i,arch in enumerate(opciones_filtros):\n",
    "    print(f\"{i}: {arch} \\n\")\n",
    "    modelo=models.model_multi_tel(classes=3,filtros=arch,last_dense=[20,5])\n",
    "    modelo.compile(optimizer=\"adam\",loss=\"categorical_crossentropy\",metrics=[\"acc\",\"AUC\",\"mean_squared_error\"])\n",
    "    with open(f\"{base_dir}/automat/logs/{file_number}_data_control.txt\",\"a\") as registro:\n",
    "        registro.write(f\"Con arquitectura: {arch} : \\n\")\n",
    "\n",
    "    #segundo_bucle para boostrap\n",
    "    for k in range(n):\n",
    "        print(f\"\\n Boostrap {k+1} de {n}\")\n",
    "\n",
    "        #list_runs=new_create_main_list_runs([8,35,24,24,24,24,24],chose_runs)\n",
    "        list_runs=new_create_main_list_runs([1,1,1,1,1,1,1],chose_runs)\n",
    "        with open(f\"{base_dir}/automat/logs/{file_number}_data_control.txt\",\"a\") as registro:\n",
    "            registro.write(f\"Boostrap {k+1} de {n},runs: {list_runs}, \\n\")\n",
    "        x_train_list,x_test_list,y_train_list,y_test_list=loaddata4use.load_dataset_completo(npy_final_dir,labels_asign=[0,1,2,2,2,2,2],elements=elements,\n",
    "                                                                                            main_list_runs=list_runs,pre_name_folders=\"npy_\",telescopes=[1,2,3,4],\n",
    "                                                                                            test_size=0.3,same_quant=\"same\",verbose=True,fill=True,categorical=True)\n",
    "        x_train_list=cambiar_ejes_lista(x_train_list)\n",
    "        x_test_list=cambiar_ejes_lista(x_test_list)\n",
    "\n",
    "        \n",
    "        hist=modelo.fit(x=x_train_list,y=y_train_list,epochs=45, validation_data=(x_test_list,y_test_list),batch_size=64)            \n",
    "        gc.collect()\n",
    "        del x_train_list,x_test_list,y_train_list,y_test_list\n",
    "        modelo.save(f\"{base_dir}/modelos/{file_number}_modelo_filtro_{i}_en_boostrap_stage_{k+1}.h5\")\n",
    "        with open(f\"{base_dir}/modelos/performances/{file_number}_history_modelo_filtro_{i}_en_boostrap_stage_{k+1}.pickle\",\"wb\") as pick:\n",
    "            pickle.dump(hist,pick)\n",
    "    gc.collect()\n",
    "    del modelo \n",
    "    tf.keras.backend.clear_session()\n",
    "    device.reset()\n"
   ]
  },
  {
   "cell_type": "code",
   "execution_count": null,
   "metadata": {},
   "outputs": [],
   "source": []
  }
 ],
 "metadata": {
  "kernelspec": {
   "display_name": "tenflow",
   "language": "python",
   "name": "python3"
  },
  "language_info": {
   "codemirror_mode": {
    "name": "ipython",
    "version": 3
   },
   "file_extension": ".py",
   "mimetype": "text/x-python",
   "name": "python",
   "nbconvert_exporter": "python",
   "pygments_lexer": "ipython3",
   "version": "3.10.8"
  },
  "orig_nbformat": 4
 },
 "nbformat": 4,
 "nbformat_minor": 2
}
