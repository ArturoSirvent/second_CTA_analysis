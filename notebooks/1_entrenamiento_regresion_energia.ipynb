{
 "cells": [
  {
   "attachments": {},
   "cell_type": "markdown",
   "metadata": {},
   "source": [
    "# Vamos a hacer unos modelos para la predicción de energía.  \n",
    "Esto es casi igual que lo de la clasificación pero tenemos que hacerlo con las labels de energia."
   ]
  },
  {
   "cell_type": "code",
   "execution_count": 9,
   "metadata": {},
   "outputs": [],
   "source": [
    "#importamos librerias\n",
    "\n",
    "import sys\n",
    "sys.path.append('../src/CTA-data-analisis-library/')\n",
    "import os \n",
    "import subprocess\n",
    "from datetime import datetime\n",
    "import numpy as np \n",
    "import glob\n",
    "import matplotlib.pyplot as plt\n",
    "import tensorflow as tf \n",
    "import psutil\n",
    "import re\n",
    "import random\n",
    "import shutil\n",
    "import pickle\n",
    "from numba import cuda\n",
    "import gc\n",
    "\n",
    "#propias\n",
    "import unzipdata_and_first_treatments as manipulate\n",
    "import loaddata4use\n",
    "import model_creation_functions as models"
   ]
  },
  {
   "cell_type": "code",
   "execution_count": 10,
   "metadata": {},
   "outputs": [],
   "source": [
    "tf.config.threading.set_inter_op_parallelism_threads(4)"
   ]
  },
  {
   "cell_type": "code",
   "execution_count": 11,
   "metadata": {},
   "outputs": [],
   "source": [
    "#enviroment variables\n",
    "npy_final_dir=\"../datos/elementos_npy\"\n",
    "base_dir_elementos=\"../datos/elementos\"\n",
    "elements=['gamma', 'electron']"
   ]
  },
  {
   "cell_type": "code",
   "execution_count": 12,
   "metadata": {},
   "outputs": [],
   "source": [
    "def runs_disponibles(npy_dir,elements):\n",
    "    lista=[]\n",
    "    for i in elements:\n",
    "        npy_element_dir=os.path.join(npy_dir,\"npy_\"+i)\n",
    "        runs=[int(re.search(\"run_([0-9]{3})_0\\.npy\",i).group(1)) for i in os.listdir(npy_element_dir) if re.search(\"run_([0-9]{3})_0\\.npy\",i)]\n",
    "        lista.append(runs)\n",
    "    return lista\n",
    "\n",
    "\n",
    "def new_create_main_list_runs(number_runs_per_element,posibles_runs):\n",
    "    #esto es aleatorio por defecto, porque es lo unico que necesito por ahora    \n",
    "    final=[]\n",
    "    for ind,lista_runs_element in enumerate(posibles_runs):\n",
    "        final.append(random.sample(lista_runs_element,number_runs_per_element[ind]))\n",
    "    return final\n",
    "\n",
    "#tenemos que hacer un ligero cambio porque se estan cargando con los ejes cambiados\n",
    "def cambiar_ejes_lista(lista):\n",
    "    for i,j in enumerate(lista):\n",
    "        lista[i]=np.swapaxes(j,1,2)\n",
    "    return lista\n"
   ]
  },
  {
   "cell_type": "code",
   "execution_count": 13,
   "metadata": {},
   "outputs": [],
   "source": [
    "chose_runs=runs_disponibles(npy_final_dir,elements)\n",
    "chose_runs[0].remove(2)\n",
    "chose_runs[0].remove(2)\n",
    "chose_runs[0].remove(3)\n",
    "chose_runs[0].remove(3)\n",
    "chose_runs[0].remove(3)"
   ]
  },
  {
   "cell_type": "code",
   "execution_count": 14,
   "metadata": {},
   "outputs": [],
   "source": [
    "opciones_filtros=[\n",
    "    [[12,16],[32,64],[64,12]],\n",
    "    [[12,16,32],[64,128],[128,64,32]],\n",
    "    [[12,16],[32,64],[64,12]],\n",
    "    [[12,16],[32,64],[64,12]],\n",
    "    [[12,16],[32,64],[64,12]]]"
   ]
  },
  {
   "cell_type": "code",
   "execution_count": 15,
   "metadata": {},
   "outputs": [
    {
     "name": "stdout",
     "output_type": "stream",
     "text": [
      "0: [[12, 16], [32, 64], [64, 12]] \n",
      "\n"
     ]
    },
    {
     "name": "stderr",
     "output_type": "stream",
     "text": [
      "2022-12-18 14:50:06.044952: I tensorflow/core/platform/cpu_feature_guard.cc:193] This TensorFlow binary is optimized with oneAPI Deep Neural Network Library (oneDNN) to use the following CPU instructions in performance-critical operations:  SSE4.1\n",
      "To enable them in other operations, rebuild TensorFlow with the appropriate compiler flags.\n"
     ]
    },
    {
     "name": "stdout",
     "output_type": "stream",
     "text": [
      "\n",
      " Boostrap 1 de 2 \n",
      "\n",
      "Load of names and common events\n",
      "_______________\n",
      "Element:  gamma  , Runs:  [17, 49]  Shape of common events (common events, energies):  (4, 1116) (4, 1116)\n",
      "Element:  gamma  , Runs:  [17, 49]  Shape of common events (common events, energies):  (4, 1100) (4, 1100)\n",
      "Element:  electron  , Runs:  [69, 3, 145, 58, 11, 122, 126, 139, 149, 140, 116]  Shape of common events (common events, energies):  (4, 244) (4, 244)\n",
      "Element:  electron  , Runs:  [69, 3, 145, 58, 11, 122, 126, 139, 149, 140, 116]  Shape of common events (common events, energies):  (4, 232) (4, 232)\n",
      "Element:  electron  , Runs:  [69, 3, 145, 58, 11, 122, 126, 139, 149, 140, 116]  Shape of common events (common events, energies):  (4, 232) (4, 232)\n",
      "Element:  electron  , Runs:  [69, 3, 145, 58, 11, 122, 126, 139, 149, 140, 116]  Shape of common events (common events, energies):  (4, 239) (4, 239)\n",
      "Element:  electron  , Runs:  [69, 3, 145, 58, 11, 122, 126, 139, 149, 140, 116]  Shape of common events (common events, energies):  (4, 222) (4, 222)\n",
      "Element:  electron  , Runs:  [69, 3, 145, 58, 11, 122, 126, 139, 149, 140, 116]  Shape of common events (common events, energies):  (4, 233) (4, 233)\n",
      "Element:  electron  , Runs:  [69, 3, 145, 58, 11, 122, 126, 139, 149, 140, 116]  Shape of common events (common events, energies):  (4, 248) (4, 248)\n",
      "Element:  electron  , Runs:  [69, 3, 145, 58, 11, 122, 126, 139, 149, 140, 116]  Shape of common events (common events, energies):  (4, 255) (4, 255)\n",
      "Element:  electron  , Runs:  [69, 3, 145, 58, 11, 122, 126, 139, 149, 140, 116]  Shape of common events (common events, energies):  (4, 232) (4, 232)\n",
      "Element:  electron  , Runs:  [69, 3, 145, 58, 11, 122, 126, 139, 149, 140, 116]  Shape of common events (common events, energies):  (4, 239) (4, 239)\n",
      "Element:  electron  , Runs:  [69, 3, 145, 58, 11, 122, 126, 139, 149, 140, 116]  Shape of common events (common events, energies):  (4, 248) (4, 248)\n",
      "_______________\n",
      "Load of actual npy data:\n",
      "_______________\n",
      "2216\n",
      "Element:  gamma , Telescope:  1  Shape of loaded array (amount of images, size of images):  (2216, 93, 55)\n",
      "Energies vector shape: (2216,)\n",
      "Element:  electron , Telescope:  1  Shape of loaded array (amount of images, size of images):  (2216, 93, 55)\n",
      "Energies vector shape: (2216,)\n",
      "Final data shape (4432, 93, 55, 1) Final energies shape:  (4432,)\n",
      "_____________________ \n",
      "\n",
      "Element:  gamma , Telescope:  2  Shape of loaded array (amount of images, size of images):  (2216, 93, 55)\n",
      "Element:  electron , Telescope:  2  Shape of loaded array (amount of images, size of images):  (2216, 93, 55)\n"
     ]
    },
    {
     "ename": "KeyboardInterrupt",
     "evalue": "",
     "output_type": "error",
     "traceback": [
      "\u001b[0;31m---------------------------------------------------------------------------\u001b[0m",
      "\u001b[0;31mKeyboardInterrupt\u001b[0m                         Traceback (most recent call last)",
      "\u001b[0;32m/tmp/ipykernel_795460/1030274172.py\u001b[0m in \u001b[0;36m<module>\u001b[0;34m\u001b[0m\n\u001b[1;32m     16\u001b[0m             \u001b[0mlist_runs\u001b[0m\u001b[0;34m=\u001b[0m\u001b[0mnew_create_main_list_runs\u001b[0m\u001b[0;34m(\u001b[0m\u001b[0;34m[\u001b[0m\u001b[0;36m2\u001b[0m\u001b[0;34m,\u001b[0m\u001b[0;36m11\u001b[0m\u001b[0;34m]\u001b[0m\u001b[0;34m,\u001b[0m\u001b[0mchose_runs\u001b[0m\u001b[0;34m)\u001b[0m\u001b[0;31m#new_create_main_list_runs([2,6,6,6,6,6,6],chose_runs)\u001b[0m\u001b[0;34m\u001b[0m\u001b[0;34m\u001b[0m\u001b[0m\n\u001b[1;32m     17\u001b[0m             \u001b[0mregistro\u001b[0m\u001b[0;34m.\u001b[0m\u001b[0mwrite\u001b[0m\u001b[0;34m(\u001b[0m\u001b[0;34mf\"Boostrap {k} de {n},runs: {list_runs} \\n\"\u001b[0m\u001b[0;34m)\u001b[0m\u001b[0;34m\u001b[0m\u001b[0;34m\u001b[0m\u001b[0m\n\u001b[0;32m---> 18\u001b[0;31m             \u001b[0mx_train_list\u001b[0m\u001b[0;34m,\u001b[0m\u001b[0mx_test_list\u001b[0m\u001b[0;34m,\u001b[0m\u001b[0my_train_list\u001b[0m\u001b[0;34m,\u001b[0m\u001b[0my_test_list\u001b[0m\u001b[0;34m=\u001b[0m\u001b[0mloaddata4use\u001b[0m\u001b[0;34m.\u001b[0m\u001b[0mload_dataset_energy\u001b[0m\u001b[0;34m(\u001b[0m\u001b[0mnpy_final_dir\u001b[0m\u001b[0;34m,\u001b[0m\u001b[0mbase_dir_elementos\u001b[0m\u001b[0;34m,\u001b[0m\u001b[0melementos\u001b[0m\u001b[0;34m=\u001b[0m\u001b[0;34m[\u001b[0m\u001b[0;34m'gamma'\u001b[0m\u001b[0;34m,\u001b[0m \u001b[0;34m'electron'\u001b[0m\u001b[0;34m]\u001b[0m\u001b[0;34m,\u001b[0m\u001b[0mmain_list_runs\u001b[0m\u001b[0;34m=\u001b[0m\u001b[0mlist_runs\u001b[0m\u001b[0;34m,\u001b[0m\u001b[0mtelescopios\u001b[0m\u001b[0;34m=\u001b[0m\u001b[0;34m[\u001b[0m\u001b[0;36m1\u001b[0m\u001b[0;34m,\u001b[0m\u001b[0;36m2\u001b[0m\u001b[0;34m,\u001b[0m\u001b[0;36m3\u001b[0m\u001b[0;34m,\u001b[0m\u001b[0;36m4\u001b[0m\u001b[0;34m]\u001b[0m\u001b[0;34m,\u001b[0m\u001b[0mtest_size\u001b[0m\u001b[0;34m=\u001b[0m\u001b[0;36m0.1\u001b[0m\u001b[0;34m,\u001b[0m\u001b[0msame_quant\u001b[0m\u001b[0;34m=\u001b[0m\u001b[0;34m\"same\"\u001b[0m\u001b[0;34m,\u001b[0m\u001b[0mverbose\u001b[0m\u001b[0;34m=\u001b[0m\u001b[0;32mTrue\u001b[0m\u001b[0;34m,\u001b[0m\u001b[0mfill\u001b[0m\u001b[0;34m=\u001b[0m\u001b[0;32mTrue\u001b[0m\u001b[0;34m)\u001b[0m\u001b[0;34m\u001b[0m\u001b[0;34m\u001b[0m\u001b[0m\n\u001b[0m\u001b[1;32m     19\u001b[0m \u001b[0;34m\u001b[0m\u001b[0m\n\u001b[1;32m     20\u001b[0m             \u001b[0mx_train_list\u001b[0m\u001b[0;34m=\u001b[0m\u001b[0mcambiar_ejes_lista\u001b[0m\u001b[0;34m(\u001b[0m\u001b[0mx_train_list\u001b[0m\u001b[0;34m)\u001b[0m\u001b[0;34m\u001b[0m\u001b[0;34m\u001b[0m\u001b[0m\n",
      "\u001b[0;32m~/cta_proyect/src/CTA-data-analisis-library/loaddata4use.py\u001b[0m in \u001b[0;36mload_dataset_energy\u001b[0;34m(base_dir_npy, base_dir_txt, main_list_runs, elementos, pre_name_folders_npy, pre_name_folders_txt, telescopios, test_size, same_quant, verbose, fill)\u001b[0m\n\u001b[1;32m    993\u001b[0m             \u001b[0;31m#lo que hacemos es pasarle una lista de los indices PARA:\u001b[0m\u001b[0;34m\u001b[0m\u001b[0;34m\u001b[0m\u001b[0;34m\u001b[0m\u001b[0m\n\u001b[1;32m    994\u001b[0m             \u001b[0;31m#PARA el elemento que toca y el telescopio qeu toca, para todas las runs que queremos\u001b[0m\u001b[0;34m\u001b[0m\u001b[0;34m\u001b[0m\u001b[0;34m\u001b[0m\u001b[0m\n\u001b[0;32m--> 995\u001b[0;31m             \u001b[0mdata_aux\u001b[0m\u001b[0;34m=\u001b[0m\u001b[0mload_data\u001b[0m\u001b[0;34m(\u001b[0m\u001b[0mdir_aux\u001b[0m\u001b[0;34m,\u001b[0m\u001b[0mtels\u001b[0m\u001b[0;34m=\u001b[0m\u001b[0mk\u001b[0m\u001b[0;34m,\u001b[0m\u001b[0mruns\u001b[0m\u001b[0;34m=\u001b[0m\u001b[0mlist_runs\u001b[0m\u001b[0;34m,\u001b[0m\u001b[0mindices_events\u001b[0m\u001b[0;34m=\u001b[0m\u001b[0;34m[\u001b[0m\u001b[0mm\u001b[0m\u001b[0;34m[\u001b[0m\u001b[0ml\u001b[0m\u001b[0;34m,\u001b[0m\u001b[0;34m:\u001b[0m\u001b[0;34m]\u001b[0m \u001b[0;32mfor\u001b[0m \u001b[0mm\u001b[0m \u001b[0;32min\u001b[0m \u001b[0meventos_elementos\u001b[0m\u001b[0;34m[\u001b[0m\u001b[0mi\u001b[0m\u001b[0;34m]\u001b[0m\u001b[0;34m]\u001b[0m\u001b[0;34m,\u001b[0m\u001b[0monly_names\u001b[0m\u001b[0;34m=\u001b[0m\u001b[0;32mFalse\u001b[0m\u001b[0;34m)\u001b[0m\u001b[0;34m\u001b[0m\u001b[0;34m\u001b[0m\u001b[0m\n\u001b[0m\u001b[1;32m    996\u001b[0m \u001b[0;34m\u001b[0m\u001b[0m\n\u001b[1;32m    997\u001b[0m             \u001b[0;32mif\u001b[0m \u001b[0msame_quant\u001b[0m \u001b[0;32min\u001b[0m \u001b[0;34m[\u001b[0m\u001b[0;34m\"same\"\u001b[0m\u001b[0;34m,\u001b[0m\u001b[0;34m\"approx\"\u001b[0m\u001b[0;34m]\u001b[0m\u001b[0;34m:\u001b[0m\u001b[0;34m\u001b[0m\u001b[0;34m\u001b[0m\u001b[0m\n",
      "\u001b[0;32m~/cta_proyect/src/CTA-data-analisis-library/loaddata4use.py\u001b[0m in \u001b[0;36mload_data\u001b[0;34m(npy_dir_element, tels, runs, indices_events, only_names, ending)\u001b[0m\n\u001b[1;32m    471\u001b[0m                 \u001b[0;32mfor\u001b[0m \u001b[0mm\u001b[0m\u001b[0;34m,\u001b[0m\u001b[0mk\u001b[0m \u001b[0;32min\u001b[0m \u001b[0menumerate\u001b[0m\u001b[0;34m(\u001b[0m\u001b[0mlista\u001b[0m\u001b[0;34m[\u001b[0m\u001b[0;36m1\u001b[0m\u001b[0;34m:\u001b[0m\u001b[0;34m]\u001b[0m\u001b[0;34m)\u001b[0m\u001b[0;34m:\u001b[0m\u001b[0;34m\u001b[0m\u001b[0;34m\u001b[0m\u001b[0m\n\u001b[1;32m    472\u001b[0m                     \u001b[0;32mif\u001b[0m \u001b[0mindices_events\u001b[0m\u001b[0;34m[\u001b[0m\u001b[0mm\u001b[0m\u001b[0;34m+\u001b[0m\u001b[0;36m1\u001b[0m\u001b[0;34m]\u001b[0m\u001b[0;34m.\u001b[0m\u001b[0msize\u001b[0m\u001b[0;34m!=\u001b[0m \u001b[0;36m0\u001b[0m\u001b[0;34m:\u001b[0m\u001b[0;34m\u001b[0m\u001b[0;34m\u001b[0m\u001b[0m\n\u001b[0;32m--> 473\u001b[0;31m                         \u001b[0mlista_npy\u001b[0m\u001b[0;34m=\u001b[0m\u001b[0mnp\u001b[0m\u001b[0;34m.\u001b[0m\u001b[0mconcatenate\u001b[0m\u001b[0;34m(\u001b[0m\u001b[0;34m(\u001b[0m\u001b[0mlista_npy\u001b[0m\u001b[0;34m,\u001b[0m\u001b[0mnp\u001b[0m\u001b[0;34m.\u001b[0m\u001b[0mload\u001b[0m\u001b[0;34m(\u001b[0m\u001b[0mk\u001b[0m\u001b[0;34m)\u001b[0m\u001b[0;34m[\u001b[0m\u001b[0mindices_events\u001b[0m\u001b[0;34m[\u001b[0m\u001b[0mm\u001b[0m\u001b[0;34m+\u001b[0m\u001b[0;36m1\u001b[0m\u001b[0;34m]\u001b[0m\u001b[0;34m]\u001b[0m\u001b[0;34m)\u001b[0m\u001b[0;34m,\u001b[0m\u001b[0maxis\u001b[0m\u001b[0;34m=\u001b[0m\u001b[0;36m0\u001b[0m\u001b[0;34m)\u001b[0m\u001b[0;34m\u001b[0m\u001b[0;34m\u001b[0m\u001b[0m\n\u001b[0m\u001b[1;32m    474\u001b[0m                 \u001b[0;32mreturn\u001b[0m \u001b[0mlista_npy\u001b[0m\u001b[0;34m\u001b[0m\u001b[0;34m\u001b[0m\u001b[0m\n\u001b[1;32m    475\u001b[0m \u001b[0;34m\u001b[0m\u001b[0m\n",
      "\u001b[0;32m~/.conda/envs/tenflow/lib/python3.7/site-packages/numpy/lib/npyio.py\u001b[0m in \u001b[0;36mload\u001b[0;34m(file, mmap_mode, allow_pickle, fix_imports, encoding)\u001b[0m\n\u001b[1;32m    439\u001b[0m             \u001b[0;32melse\u001b[0m\u001b[0;34m:\u001b[0m\u001b[0;34m\u001b[0m\u001b[0;34m\u001b[0m\u001b[0m\n\u001b[1;32m    440\u001b[0m                 return format.read_array(fid, allow_pickle=allow_pickle,\n\u001b[0;32m--> 441\u001b[0;31m                                          pickle_kwargs=pickle_kwargs)\n\u001b[0m\u001b[1;32m    442\u001b[0m         \u001b[0;32melse\u001b[0m\u001b[0;34m:\u001b[0m\u001b[0;34m\u001b[0m\u001b[0;34m\u001b[0m\u001b[0m\n\u001b[1;32m    443\u001b[0m             \u001b[0;31m# Try a pickle\u001b[0m\u001b[0;34m\u001b[0m\u001b[0;34m\u001b[0m\u001b[0;34m\u001b[0m\u001b[0m\n",
      "\u001b[0;32m~/.conda/envs/tenflow/lib/python3.7/site-packages/numpy/lib/format.py\u001b[0m in \u001b[0;36mread_array\u001b[0;34m(fp, allow_pickle, pickle_kwargs)\u001b[0m\n\u001b[1;32m    755\u001b[0m         \u001b[0;32mif\u001b[0m \u001b[0misfileobj\u001b[0m\u001b[0;34m(\u001b[0m\u001b[0mfp\u001b[0m\u001b[0;34m)\u001b[0m\u001b[0;34m:\u001b[0m\u001b[0;34m\u001b[0m\u001b[0;34m\u001b[0m\u001b[0m\n\u001b[1;32m    756\u001b[0m             \u001b[0;31m# We can use the fast fromfile() function.\u001b[0m\u001b[0;34m\u001b[0m\u001b[0;34m\u001b[0m\u001b[0;34m\u001b[0m\u001b[0m\n\u001b[0;32m--> 757\u001b[0;31m             \u001b[0marray\u001b[0m \u001b[0;34m=\u001b[0m \u001b[0mnumpy\u001b[0m\u001b[0;34m.\u001b[0m\u001b[0mfromfile\u001b[0m\u001b[0;34m(\u001b[0m\u001b[0mfp\u001b[0m\u001b[0;34m,\u001b[0m \u001b[0mdtype\u001b[0m\u001b[0;34m=\u001b[0m\u001b[0mdtype\u001b[0m\u001b[0;34m,\u001b[0m \u001b[0mcount\u001b[0m\u001b[0;34m=\u001b[0m\u001b[0mcount\u001b[0m\u001b[0;34m)\u001b[0m\u001b[0;34m\u001b[0m\u001b[0;34m\u001b[0m\u001b[0m\n\u001b[0m\u001b[1;32m    758\u001b[0m         \u001b[0;32melse\u001b[0m\u001b[0;34m:\u001b[0m\u001b[0;34m\u001b[0m\u001b[0;34m\u001b[0m\u001b[0m\n\u001b[1;32m    759\u001b[0m             \u001b[0;31m# This is not a real file. We have to read it the\u001b[0m\u001b[0;34m\u001b[0m\u001b[0;34m\u001b[0m\u001b[0;34m\u001b[0m\u001b[0m\n",
      "\u001b[0;31mKeyboardInterrupt\u001b[0m: "
     ]
    }
   ],
   "source": [
    "device = cuda.get_current_device()\n",
    "\n",
    "with open(\"../modelos/1_data_control_energy.txt\",\"a\") as registro:\n",
    "    n=2 #repes de boostrap\n",
    "    #primer bucle para arquitecturas\n",
    "    for i,arch in enumerate(opciones_filtros[:2]):\n",
    "        print(f\"{i}: {arch} \\n\")\n",
    "        modelo=models.model_multi_tel_energy(len_inputs=4,input_shapes=[(55,93,1)],learning_rate=1e-4,filtros=arch,last_dense=[50,20,5])\n",
    "        modelo.compile(optimizer=\"adam\",loss=\"mse\",metrics=[\"mae\"])\n",
    "        registro.write(f\"Con arquitectura: {arch}, y uso de CPU {tf.config.experimental.get_memory_info('CPU:0')['current']>>20}Mb \\n\")\n",
    "\n",
    "        #segundo_bucle para boostrap\n",
    "        for k in range(n):\n",
    "            print(f\"\\n Boostrap {k+1} de {n}, y uso de CPU {tf.config.experimental.get_memory_info('CPU:0')['current']>>20}Mb \\n\")\n",
    "\n",
    "            list_runs=new_create_main_list_runs([2,11],chose_runs)#new_create_main_list_runs([2,6,6,6,6,6,6],chose_runs)\n",
    "            registro.write(f\"Boostrap {k} de {n},runs: {list_runs}, y uso de CPU {tf.config.experimental.get_memory_info('CPU:0')['current']>>20}Mb \\n\")\n",
    "            x_train_list,x_test_list,y_train_list,y_test_list=loaddata4use.load_dataset_energy(npy_final_dir,base_dir_elementos,elementos=['gamma', 'electron'],main_list_runs=list_runs,telescopios=[1,2,3,4],test_size=0.1,same_quant=\"same\",verbose=True,fill=True)\n",
    "\n",
    "            x_train_list=cambiar_ejes_lista(x_train_list)\n",
    "            x_test_list=cambiar_ejes_lista(x_test_list)\n",
    "\n",
    "            \n",
    "            hist=modelo.fit(x=x_train_list,y=y_train_list,epochs=7, validation_data=(x_test_list,y_test_list),batch_size=64)\n",
    "            del x_train_list,x_test_list,y_train_list,y_test_list\n",
    "            gc.collect()\n",
    "            modelo.save(f\"../modelos/2_modelo_filtro_{i}_en_boostrap_stage_{k+1}_energy.h5\")\n",
    "            with open(f\"../modelos/performances/2_history_modelo_filtro_{i}_en_boostrap_stage_{k+1}_energy.pickle\",\"wb\") as pick:\n",
    "                pickle.dump(hist,pick)\n",
    "        registro.write(\"\\n\")\n",
    "        del modelo \n",
    "        gc.collect()\n",
    "        tf.keras.backend.clear_session()\n",
    "        device.reset()\n",
    "            \n"
   ]
  },
  {
   "cell_type": "code",
   "execution_count": null,
   "metadata": {},
   "outputs": [],
   "source": []
  }
 ],
 "metadata": {
  "kernelspec": {
   "display_name": "tenflow",
   "language": "python",
   "name": "python3"
  },
  "language_info": {
   "codemirror_mode": {
    "name": "ipython",
    "version": 3
   },
   "file_extension": ".py",
   "mimetype": "text/x-python",
   "name": "python",
   "nbconvert_exporter": "python",
   "pygments_lexer": "ipython3",
   "version": "3.7.13 (default, Mar 29 2022, 02:18:16) \n[GCC 7.5.0]"
  },
  "orig_nbformat": 4,
  "vscode": {
   "interpreter": {
    "hash": "625632e34438667797d745dfa197b544023682acc26137f69b08b406359121fc"
   }
  }
 },
 "nbformat": 4,
 "nbformat_minor": 2
}
