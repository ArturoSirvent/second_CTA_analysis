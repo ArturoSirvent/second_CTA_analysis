{
 "cells": [
  {
   "cell_type": "code",
   "execution_count": 1,
   "id": "8f514a86",
   "metadata": {},
   "outputs": [],
   "source": [
    "import sys\n",
    "sys.path.append('../src/CTA-data-analisis-library/')"
   ]
  },
  {
   "cell_type": "code",
   "execution_count": 2,
   "id": "4fd52d74",
   "metadata": {},
   "outputs": [],
   "source": [
    "#cargamos librerias \n",
    "import os \n",
    "import subprocess\n",
    "from datetime import datetime\n",
    "import numpy as np \n",
    "import glob\n",
    "import matplotlib.pyplot as plt\n",
    "import tensorflow as tf \n",
    "import psutil\n",
    "import re\n",
    "import random\n",
    "import shutil\n",
    "import pickle\n",
    "\n",
    "#propias\n",
    "import unzipdata_and_first_treatments as manipulate\n",
    "import loaddata4use\n",
    "import model_creation_functions as models"
   ]
  },
  {
   "cell_type": "code",
   "execution_count": 3,
   "id": "982c8a2b",
   "metadata": {},
   "outputs": [],
   "source": [
    "#enviroment variables\n",
    "npy_final_dir=\"../datos/elementos_npy\"\n",
    "base_dir_elementos=\"../datos/elementos\"\n",
    "elements=['gamma', 'electron', 'proton', 'helium', 'iron', 'nitrogen', 'silicon']"
   ]
  },
  {
   "cell_type": "code",
   "execution_count": 4,
   "id": "8c1c6810",
   "metadata": {},
   "outputs": [],
   "source": [
    "def runs_disponibles(npy_dir,elements):\n",
    "    lista=[]\n",
    "    for i in elements:\n",
    "        npy_element_dir=os.path.join(npy_dir,\"npy_\"+i)\n",
    "        runs=[int(re.search(\"run_([0-9]{3})_0\\.npy\",i).group(1)) for i in os.listdir(npy_element_dir) if re.search(\"run_([0-9]{3})_0\\.npy\",i)]\n",
    "        lista.append(runs)\n",
    "    return lista\n",
    "\n",
    "\n",
    "def new_create_main_list_runs(number_runs_per_element,posibles_runs):\n",
    "    #esto es aleatorio por defecto, porque es lo unico que necesito por ahora    \n",
    "    final=[]\n",
    "    for ind,lista_runs_element in enumerate(chose_runs):\n",
    "        final.append(random.sample(lista_runs_element,number_runs_per_element[ind]))\n",
    "    return final\n",
    "\n",
    "#tenemos que hacer un ligero cambio porque se estan cargando con los ejes cambiados\n",
    "def cambiar_ejes_lista(lista):\n",
    "    for i,j in enumerate(lista):\n",
    "        lista[i]=np.swapaxes(j,1,2)\n",
    "    return lista"
   ]
  },
  {
   "cell_type": "code",
   "execution_count": 5,
   "id": "5087c0a9",
   "metadata": {},
   "outputs": [],
   "source": [
    "chose_runs=runs_disponibles(npy_final_dir,elements)\n",
    "chose_runs[0].remove(2)\n",
    "chose_runs[0].remove(2)\n",
    "chose_runs[0].remove(3)\n",
    "chose_runs[0].remove(3)\n",
    "chose_runs[0].remove(3)"
   ]
  },
  {
   "cell_type": "code",
   "execution_count": 6,
   "id": "dd3296c5",
   "metadata": {},
   "outputs": [],
   "source": [
    "opciones_filtros=[\n",
    "    [[12,16],[32,64],[64,12]],\n",
    "    [[12,16,32],[64,128],[128,64,32]],\n",
    "    [[12,16],[32,64],[64,12]],\n",
    "    [[12,16],[32,64],[64,12]],\n",
    "    [[12,16],[32,64],[64,12]]\n",
    "]"
   ]
  },
  {
   "cell_type": "code",
   "execution_count": 11,
   "id": "3b4acc21",
   "metadata": {},
   "outputs": [
    {
     "name": "stdout",
     "output_type": "stream",
     "text": [
      "0: [[12, 16], [32, 64], [64, 12]] \n",
      "\n",
      "\n",
      " Boostrap 0 de 5 \n",
      "\n",
      "Load of names and common events\n",
      "_______________\n",
      "0 ;  Element:  gamma  , Runs:  [5, 27, 14, 17]  Shape of common events (tels,common events):  (4, 1166)\n",
      "1 ;  Element:  gamma  , Runs:  [5, 27, 14, 17]  Shape of common events (tels,common events):  (4, 1111)\n",
      "2 ;  Element:  gamma  , Runs:  [5, 27, 14, 17]  Shape of common events (tels,common events):  (4, 1103)\n",
      "3 ;  Element:  gamma  , Runs:  [5, 27, 14, 17]  Shape of common events (tels,common events):  (4, 1116)\n",
      "0 ;  Element:  electron  , Runs:  [87, 145, 151, 140, 10, 22, 1, 139, 120]  Shape of common events (tels,common events):  (4, 233)\n",
      "1 ;  Element:  electron  , Runs:  [87, 145, 151, 140, 10, 22, 1, 139, 120]  Shape of common events (tels,common events):  (4, 232)\n",
      "2 ;  Element:  electron  , Runs:  [87, 145, 151, 140, 10, 22, 1, 139, 120]  Shape of common events (tels,common events):  (4, 258)\n",
      "3 ;  Element:  electron  , Runs:  [87, 145, 151, 140, 10, 22, 1, 139, 120]  Shape of common events (tels,common events):  (4, 239)\n",
      "4 ;  Element:  electron  , Runs:  [87, 145, 151, 140, 10, 22, 1, 139, 120]  Shape of common events (tels,common events):  (4, 250)\n",
      "5 ;  Element:  electron  , Runs:  [87, 145, 151, 140, 10, 22, 1, 139, 120]  Shape of common events (tels,common events):  (4, 264)\n",
      "6 ;  Element:  electron  , Runs:  [87, 145, 151, 140, 10, 22, 1, 139, 120]  Shape of common events (tels,common events):  (4, 263)\n",
      "7 ;  Element:  electron  , Runs:  [87, 145, 151, 140, 10, 22, 1, 139, 120]  Shape of common events (tels,common events):  (4, 255)\n",
      "8 ;  Element:  electron  , Runs:  [87, 145, 151, 140, 10, 22, 1, 139, 120]  Shape of common events (tels,common events):  (4, 232)\n",
      "0 ;  Element:  proton  , Runs:  [157, 5, 5, 41, 146, 5, 54, 95, 150]  Shape of common events (tels,common events):  (4, 155)\n",
      "1 ;  Element:  proton  , Runs:  [157, 5, 5, 41, 146, 5, 54, 95, 150]  Shape of common events (tels,common events):  (4, 156)\n",
      "2 ;  Element:  proton  , Runs:  [157, 5, 5, 41, 146, 5, 54, 95, 150]  Shape of common events (tels,common events):  (4, 156)\n",
      "3 ;  Element:  proton  , Runs:  [157, 5, 5, 41, 146, 5, 54, 95, 150]  Shape of common events (tels,common events):  (4, 163)\n",
      "4 ;  Element:  proton  , Runs:  [157, 5, 5, 41, 146, 5, 54, 95, 150]  Shape of common events (tels,common events):  (4, 161)\n",
      "5 ;  Element:  proton  , Runs:  [157, 5, 5, 41, 146, 5, 54, 95, 150]  Shape of common events (tels,common events):  (4, 156)\n",
      "6 ;  Element:  proton  , Runs:  [157, 5, 5, 41, 146, 5, 54, 95, 150]  Shape of common events (tels,common events):  (4, 160)\n",
      "7 ;  Element:  proton  , Runs:  [157, 5, 5, 41, 146, 5, 54, 95, 150]  Shape of common events (tels,common events):  (4, 185)\n",
      "8 ;  Element:  proton  , Runs:  [157, 5, 5, 41, 146, 5, 54, 95, 150]  Shape of common events (tels,common events):  (4, 167)\n",
      "0 ;  Element:  helium  , Runs:  [11, 55, 94, 47, 119, 23, 34, 86, 91]  Shape of common events (tels,common events):  (4, 252)\n",
      "1 ;  Element:  helium  , Runs:  [11, 55, 94, 47, 119, 23, 34, 86, 91]  Shape of common events (tels,common events):  (4, 264)\n",
      "2 ;  Element:  helium  , Runs:  [11, 55, 94, 47, 119, 23, 34, 86, 91]  Shape of common events (tels,common events):  (4, 256)\n",
      "3 ;  Element:  helium  , Runs:  [11, 55, 94, 47, 119, 23, 34, 86, 91]  Shape of common events (tels,common events):  (4, 241)\n",
      "4 ;  Element:  helium  , Runs:  [11, 55, 94, 47, 119, 23, 34, 86, 91]  Shape of common events (tels,common events):  (4, 240)\n",
      "5 ;  Element:  helium  , Runs:  [11, 55, 94, 47, 119, 23, 34, 86, 91]  Shape of common events (tels,common events):  (4, 245)\n",
      "6 ;  Element:  helium  , Runs:  [11, 55, 94, 47, 119, 23, 34, 86, 91]  Shape of common events (tels,common events):  (4, 261)\n",
      "7 ;  Element:  helium  , Runs:  [11, 55, 94, 47, 119, 23, 34, 86, 91]  Shape of common events (tels,common events):  (4, 244)\n",
      "8 ;  Element:  helium  , Runs:  [11, 55, 94, 47, 119, 23, 34, 86, 91]  Shape of common events (tels,common events):  (4, 231)\n",
      "0 ;  Element:  iron  , Runs:  [122, 63, 125, 61, 96, 79, 138, 129, 150]  Shape of common events (tels,common events):  (4, 163)\n",
      "1 ;  Element:  iron  , Runs:  [122, 63, 125, 61, 96, 79, 138, 129, 150]  Shape of common events (tels,common events):  (4, 166)\n",
      "2 ;  Element:  iron  , Runs:  [122, 63, 125, 61, 96, 79, 138, 129, 150]  Shape of common events (tels,common events):  (4, 172)\n",
      "3 ;  Element:  iron  , Runs:  [122, 63, 125, 61, 96, 79, 138, 129, 150]  Shape of common events (tels,common events):  (4, 187)\n",
      "4 ;  Element:  iron  , Runs:  [122, 63, 125, 61, 96, 79, 138, 129, 150]  Shape of common events (tels,common events):  (4, 182)\n",
      "5 ;  Element:  iron  , Runs:  [122, 63, 125, 61, 96, 79, 138, 129, 150]  Shape of common events (tels,common events):  (4, 162)\n",
      "6 ;  Element:  iron  , Runs:  [122, 63, 125, 61, 96, 79, 138, 129, 150]  Shape of common events (tels,common events):  (4, 155)\n",
      "7 ;  Element:  iron  , Runs:  [122, 63, 125, 61, 96, 79, 138, 129, 150]  Shape of common events (tels,common events):  (4, 163)\n",
      "8 ;  Element:  iron  , Runs:  [122, 63, 125, 61, 96, 79, 138, 129, 150]  Shape of common events (tels,common events):  (4, 145)\n",
      "0 ;  Element:  nitrogen  , Runs:  [81, 61, 98, 101, 48, 91, 10, 89, 52]  Shape of common events (tels,common events):  (4, 189)\n",
      "1 ;  Element:  nitrogen  , Runs:  [81, 61, 98, 101, 48, 91, 10, 89, 52]  Shape of common events (tels,common events):  (4, 206)\n",
      "2 ;  Element:  nitrogen  , Runs:  [81, 61, 98, 101, 48, 91, 10, 89, 52]  Shape of common events (tels,common events):  (4, 205)\n",
      "3 ;  Element:  nitrogen  , Runs:  [81, 61, 98, 101, 48, 91, 10, 89, 52]  Shape of common events (tels,common events):  (4, 165)\n",
      "4 ;  Element:  nitrogen  , Runs:  [81, 61, 98, 101, 48, 91, 10, 89, 52]  Shape of common events (tels,common events):  (4, 189)\n",
      "5 ;  Element:  nitrogen  , Runs:  [81, 61, 98, 101, 48, 91, 10, 89, 52]  Shape of common events (tels,common events):  (4, 216)\n",
      "6 ;  Element:  nitrogen  , Runs:  [81, 61, 98, 101, 48, 91, 10, 89, 52]  Shape of common events (tels,common events):  (4, 222)\n",
      "7 ;  Element:  nitrogen  , Runs:  [81, 61, 98, 101, 48, 91, 10, 89, 52]  Shape of common events (tels,common events):  (4, 231)\n",
      "8 ;  Element:  nitrogen  , Runs:  [81, 61, 98, 101, 48, 91, 10, 89, 52]  Shape of common events (tels,common events):  (4, 203)\n",
      "0 ;  Element:  silicon  , Runs:  [118, 135, 18, 21, 122, 94, 91, 33, 106]  Shape of common events (tels,common events):  (4, 233)\n",
      "1 ;  Element:  silicon  , Runs:  [118, 135, 18, 21, 122, 94, 91, 33, 106]  Shape of common events (tels,common events):  (4, 218)\n",
      "2 ;  Element:  silicon  , Runs:  [118, 135, 18, 21, 122, 94, 91, 33, 106]  Shape of common events (tels,common events):  (4, 224)\n",
      "3 ;  Element:  silicon  , Runs:  [118, 135, 18, 21, 122, 94, 91, 33, 106]  Shape of common events (tels,common events):  (4, 240)\n",
      "4 ;  Element:  silicon  , Runs:  [118, 135, 18, 21, 122, 94, 91, 33, 106]  Shape of common events (tels,common events):  (4, 220)\n",
      "5 ;  Element:  silicon  , Runs:  [118, 135, 18, 21, 122, 94, 91, 33, 106]  Shape of common events (tels,common events):  (4, 243)\n",
      "6 ;  Element:  silicon  , Runs:  [118, 135, 18, 21, 122, 94, 91, 33, 106]  Shape of common events (tels,common events):  (4, 198)\n",
      "7 ;  Element:  silicon  , Runs:  [118, 135, 18, 21, 122, 94, 91, 33, 106]  Shape of common events (tels,common events):  (4, 237)\n",
      "8 ;  Element:  silicon  , Runs:  [118, 135, 18, 21, 122, 94, 91, 33, 106]  Shape of common events (tels,common events):  (4, 233)\n",
      "_______________\n",
      "Load of actual npy data:\n",
      "_______________\n",
      "Element:  gamma , Telescope:  1  Shape of loaded array (amount of images, size of images):  (1459, 93, 55)\n"
     ]
    },
    {
     "ename": "KeyboardInterrupt",
     "evalue": "",
     "output_type": "error",
     "traceback": [
      "\u001b[0;31m---------------------------------------------------------------------------\u001b[0m",
      "\u001b[0;31mKeyboardInterrupt\u001b[0m                         Traceback (most recent call last)",
      "\u001b[0;32m/tmp/ipykernel_582978/4143154268.py\u001b[0m in \u001b[0;36m<module>\u001b[0;34m\u001b[0m\n\u001b[1;32m     16\u001b[0m         x_train_list,x_test_list,y_train_list,y_test_list=loaddata4use.load_dataset_completo(npy_final_dir,labels_asign=[0,1,2,2,2,2,2],elements=elements,\n\u001b[1;32m     17\u001b[0m                                                                                              \u001b[0mmain_list_runs\u001b[0m\u001b[0;34m=\u001b[0m\u001b[0mlist_runs\u001b[0m\u001b[0;34m,\u001b[0m\u001b[0mpre_name_folders\u001b[0m\u001b[0;34m=\u001b[0m\u001b[0;34m\"npy_\"\u001b[0m\u001b[0;34m,\u001b[0m\u001b[0mtelescopes\u001b[0m\u001b[0;34m=\u001b[0m\u001b[0;34m[\u001b[0m\u001b[0;36m1\u001b[0m\u001b[0;34m,\u001b[0m\u001b[0;36m2\u001b[0m\u001b[0;34m,\u001b[0m\u001b[0;36m3\u001b[0m\u001b[0;34m,\u001b[0m\u001b[0;36m4\u001b[0m\u001b[0;34m]\u001b[0m\u001b[0;34m,\u001b[0m\u001b[0;34m\u001b[0m\u001b[0;34m\u001b[0m\u001b[0m\n\u001b[0;32m---> 18\u001b[0;31m                                                                                              test_size=0.05,same_quant=\"same\",verbose=True,fill=True,categorical=True)\n\u001b[0m\u001b[1;32m     19\u001b[0m         \u001b[0mx_train_list\u001b[0m\u001b[0;34m=\u001b[0m\u001b[0mcambiar_ejes_lista\u001b[0m\u001b[0;34m(\u001b[0m\u001b[0mx_train_list\u001b[0m\u001b[0;34m)\u001b[0m\u001b[0;34m\u001b[0m\u001b[0;34m\u001b[0m\u001b[0m\n\u001b[1;32m     20\u001b[0m         \u001b[0mx_test_list\u001b[0m\u001b[0;34m=\u001b[0m\u001b[0mcambiar_ejes_lista\u001b[0m\u001b[0;34m(\u001b[0m\u001b[0mx_test_list\u001b[0m\u001b[0;34m)\u001b[0m\u001b[0;34m\u001b[0m\u001b[0;34m\u001b[0m\u001b[0m\n",
      "\u001b[0;32m~/cta_proyect/src/CTA-data-analisis-library/loaddata4use.py\u001b[0m in \u001b[0;36mload_dataset_completo\u001b[0;34m(npy_base_dir, main_list_runs, telescopes, labels_asign, elements, pre_name_folders, test_size, same_quant, verbose, fill, categorical)\u001b[0m\n\u001b[1;32m    705\u001b[0m                 \u001b[0;31m#aplicamos la funcion que nos rellena todo\u001b[0m\u001b[0;34m\u001b[0m\u001b[0;34m\u001b[0m\u001b[0;34m\u001b[0m\u001b[0m\n\u001b[1;32m    706\u001b[0m                 \u001b[0;32mfor\u001b[0m \u001b[0mp\u001b[0m \u001b[0;32min\u001b[0m \u001b[0mrange\u001b[0m\u001b[0;34m(\u001b[0m\u001b[0mdata_aux\u001b[0m\u001b[0;34m.\u001b[0m\u001b[0mshape\u001b[0m\u001b[0;34m[\u001b[0m\u001b[0;36m0\u001b[0m\u001b[0;34m]\u001b[0m\u001b[0;34m)\u001b[0m\u001b[0;34m:\u001b[0m\u001b[0;34m\u001b[0m\u001b[0;34m\u001b[0m\u001b[0m\n\u001b[0;32m--> 707\u001b[0;31m                     \u001b[0mdata_aux\u001b[0m\u001b[0;34m[\u001b[0m\u001b[0mp\u001b[0m\u001b[0;34m,\u001b[0m\u001b[0;34m:\u001b[0m\u001b[0;34m,\u001b[0m\u001b[0;34m:\u001b[0m\u001b[0;34m]\u001b[0m\u001b[0;34m=\u001b[0m\u001b[0mfill_holes\u001b[0m\u001b[0;34m(\u001b[0m\u001b[0mdata_aux\u001b[0m\u001b[0;34m[\u001b[0m\u001b[0mp\u001b[0m\u001b[0;34m]\u001b[0m\u001b[0;34m)\u001b[0m\u001b[0;34m\u001b[0m\u001b[0;34m\u001b[0m\u001b[0m\n\u001b[0m\u001b[1;32m    708\u001b[0m \u001b[0;34m\u001b[0m\u001b[0m\n\u001b[1;32m    709\u001b[0m             \u001b[0;32mif\u001b[0m \u001b[0mverbose\u001b[0m\u001b[0;34m:\u001b[0m\u001b[0;34m\u001b[0m\u001b[0;34m\u001b[0m\u001b[0m\n",
      "\u001b[0;32m~/cta_proyect/src/CTA-data-analisis-library/loaddata4use.py\u001b[0m in \u001b[0;36mfill_holes\u001b[0;34m(npy)\u001b[0m\n\u001b[1;32m    401\u001b[0m     \u001b[0;32mfor\u001b[0m \u001b[0mi\u001b[0m \u001b[0;32min\u001b[0m \u001b[0mrange\u001b[0m\u001b[0;34m(\u001b[0m\u001b[0mindices_1\u001b[0m\u001b[0;34m.\u001b[0m\u001b[0mshape\u001b[0m\u001b[0;34m[\u001b[0m\u001b[0;36m0\u001b[0m\u001b[0;34m]\u001b[0m\u001b[0;34m)\u001b[0m\u001b[0;34m:\u001b[0m\u001b[0;34m\u001b[0m\u001b[0;34m\u001b[0m\u001b[0m\n\u001b[1;32m    402\u001b[0m         \u001b[0;31m#esto se podría vectorizar\u001b[0m\u001b[0;34m\u001b[0m\u001b[0;34m\u001b[0m\u001b[0;34m\u001b[0m\u001b[0m\n\u001b[0;32m--> 403\u001b[0;31m         \u001b[0mmedia\u001b[0m\u001b[0;34m=\u001b[0m\u001b[0;34m(\u001b[0m\u001b[0mnpy\u001b[0m\u001b[0;34m[\u001b[0m\u001b[0mindices_0\u001b[0m\u001b[0;34m[\u001b[0m\u001b[0mi\u001b[0m\u001b[0;34m]\u001b[0m\u001b[0;34m-\u001b[0m\u001b[0;36m1\u001b[0m\u001b[0;34m,\u001b[0m\u001b[0mindices_1\u001b[0m\u001b[0;34m[\u001b[0m\u001b[0mi\u001b[0m\u001b[0;34m]\u001b[0m\u001b[0;34m]\u001b[0m\u001b[0;34m+\u001b[0m\u001b[0mnpy\u001b[0m\u001b[0;34m[\u001b[0m\u001b[0mindices_0\u001b[0m\u001b[0;34m[\u001b[0m\u001b[0mi\u001b[0m\u001b[0;34m]\u001b[0m\u001b[0;34m,\u001b[0m\u001b[0mindices_1\u001b[0m\u001b[0;34m[\u001b[0m\u001b[0mi\u001b[0m\u001b[0;34m]\u001b[0m\u001b[0;34m-\u001b[0m\u001b[0;36m1\u001b[0m\u001b[0;34m]\u001b[0m\u001b[0;34m+\u001b[0m\u001b[0mnpy\u001b[0m\u001b[0;34m[\u001b[0m\u001b[0mindices_0\u001b[0m\u001b[0;34m[\u001b[0m\u001b[0mi\u001b[0m\u001b[0;34m]\u001b[0m\u001b[0;34m+\u001b[0m\u001b[0;36m1\u001b[0m\u001b[0;34m,\u001b[0m\u001b[0mindices_1\u001b[0m\u001b[0;34m[\u001b[0m\u001b[0mi\u001b[0m\u001b[0;34m]\u001b[0m\u001b[0;34m]\u001b[0m\u001b[0;34m+\u001b[0m\u001b[0mnpy\u001b[0m\u001b[0;34m[\u001b[0m\u001b[0mindices_0\u001b[0m\u001b[0;34m[\u001b[0m\u001b[0mi\u001b[0m\u001b[0;34m]\u001b[0m\u001b[0;34m,\u001b[0m\u001b[0mindices_1\u001b[0m\u001b[0;34m[\u001b[0m\u001b[0mi\u001b[0m\u001b[0;34m]\u001b[0m\u001b[0;34m+\u001b[0m\u001b[0;36m1\u001b[0m\u001b[0;34m]\u001b[0m\u001b[0;34m)\u001b[0m\u001b[0;34m/\u001b[0m\u001b[0;36m4\u001b[0m\u001b[0;34m\u001b[0m\u001b[0;34m\u001b[0m\u001b[0m\n\u001b[0m\u001b[1;32m    404\u001b[0m         \u001b[0mnpy_aux\u001b[0m\u001b[0;34m[\u001b[0m\u001b[0mindices_0\u001b[0m\u001b[0;34m[\u001b[0m\u001b[0mi\u001b[0m\u001b[0;34m]\u001b[0m\u001b[0;34m,\u001b[0m\u001b[0mindices_1\u001b[0m\u001b[0;34m[\u001b[0m\u001b[0mi\u001b[0m\u001b[0;34m]\u001b[0m\u001b[0;34m]\u001b[0m\u001b[0;34m=\u001b[0m\u001b[0mmedia\u001b[0m\u001b[0;34m\u001b[0m\u001b[0;34m\u001b[0m\u001b[0m\n\u001b[1;32m    405\u001b[0m     \u001b[0;32mreturn\u001b[0m \u001b[0mnpy_aux\u001b[0m\u001b[0;34m\u001b[0m\u001b[0;34m\u001b[0m\u001b[0m\n",
      "\u001b[0;31mKeyboardInterrupt\u001b[0m: "
     ]
    }
   ],
   "source": [
    "registro=open(\"../modelos/1_data_control.txt\",\"at\")\n",
    "n=7 #repes de boostrap\n",
    "#primer bucle para arquitecturas\n",
    "for i,arch in enumerate(opciones_filtros):\n",
    "    print(f\"{i}: {arch} \\n\")\n",
    "    modelo=models.model_multi_tel(classes=3,filtros=arch,last_dense=[20,5])\n",
    "    modelo.compile(optimizer=\"adam\",loss=\"categorical_crossentropy\",metrics=[\"acc\",\"AUC\",\"mean_squared_error\"])\n",
    "    registro.write(f\"Con arquitectura: {arch} : \\n\")\n",
    "\n",
    "    #segundo_bucle para boostrap\n",
    "    for k in range(n):\n",
    "        print(f\"\\n Boostrap {k+1} de {n} \\n\")\n",
    "\n",
    "        list_runs=new_create_main_list_runs([2,6,6,6,6,6,6],chose_runs)\n",
    "        registro.write(f\"Boostrap {k} de {n},runs: {list_runs} \\n\")\n",
    "        x_train_list,x_test_list,y_train_list,y_test_list=loaddata4use.load_dataset_completo(npy_final_dir,labels_asign=[0,1,2,2,2,2,2],elements=elements,\n",
    "                                                                                             main_list_runs=list_runs,pre_name_folders=\"npy_\",telescopes=[1,2,3,4],\n",
    "                                                                                             test_size=0.05,same_quant=\"same\",verbose=True,fill=True,categorical=True)\n",
    "        x_train_list=cambiar_ejes_lista(x_train_list)\n",
    "        x_test_list=cambiar_ejes_lista(x_test_list)\n",
    "\n",
    "        \n",
    "        hist=modelo.fit(x=x_train_list,y=y_train_list,epochs=5, validation_data=(x_test_list,y_test_list),batch_size=64)\n",
    "    del x_train_list,x_test_list,y_train_list,y_test_list\n",
    "    registro.write(\"\\n\")\n",
    "    modelo.save(f\"../modelos/1_modelo_filtro_{i}_boostrap_{k+1}.h5\")\n",
    "    with open(f\"../modelos/performances/1_history_modelo_filtro_{i}_boostrap_{k+1}.pickle\",\"wb\") as pick:\n",
    "        pickle.dump(hist,pick)\n",
    "        \n",
    "registro.close()"
   ]
  },
  {
   "cell_type": "code",
   "execution_count": null,
   "id": "9495e6a6",
   "metadata": {},
   "outputs": [],
   "source": []
  }
 ],
 "metadata": {
  "kernelspec": {
   "display_name": "tenflow",
   "language": "python",
   "name": "python3"
  },
  "language_info": {
   "codemirror_mode": {
    "name": "ipython",
    "version": 3
   },
   "file_extension": ".py",
   "mimetype": "text/x-python",
   "name": "python",
   "nbconvert_exporter": "python",
   "pygments_lexer": "ipython3",
   "version": "3.7.13 (default, Mar 29 2022, 02:18:16) \n[GCC 7.5.0]"
  },
  "vscode": {
   "interpreter": {
    "hash": "625632e34438667797d745dfa197b544023682acc26137f69b08b406359121fc"
   }
  }
 },
 "nbformat": 4,
 "nbformat_minor": 5
}
