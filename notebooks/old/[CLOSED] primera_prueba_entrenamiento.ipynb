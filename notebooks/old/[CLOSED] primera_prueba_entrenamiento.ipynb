{
 "cells": [
  {
   "cell_type": "markdown",
   "id": "c9d6eb65",
   "metadata": {},
   "source": [
    "# Creamos bucles para el entrenamiento sistematico  \n",
    "Esto incluye la carga de datos una vez (o varias si no nos cabe en memoria). Y luego el entrenamiento recursivo de modelos con diferentes parámetros. \n",
    "\n",
    "Tenemos que automatizar y hacer un buen control de errores en: \n",
    "\n",
    "    - Carga de datos.  \n",
    "        - La carga y el creado de barches etc.  \n",
    "    - Entrenamiento de modelos.  \n",
    "    - Sacar las metricas oportunas.  "
   ]
  },
  {
   "cell_type": "markdown",
   "id": "ee962ef2",
   "metadata": {},
   "source": [
    "### Primera parte: Crear bucle carga de datos \n",
    "\n",
    "Vamos a tener en cuenta:  \n",
    "1. Que los datos se carge en memoria todos si caben.  \n",
    "2. Crear diferentes labels, para poder probar las diferentes opciones de agrupación.\n",
    "    - Lo hacemos para probar cual es la mejor agrupación. \n",
    "    \n",
    "**El tema de diferentes labels lo ponemos pendiente, por ahora tiramos con las que sabemos que funcionan, que son:**  \n",
    "- Gamma  \n",
    "- Electron  \n",
    "- Hadrones"
   ]
  },
  {
   "cell_type": "code",
   "execution_count": 1,
   "id": "b23f3fae",
   "metadata": {},
   "outputs": [],
   "source": [
    "import sys\n",
    "sys.path.append('../src/CTA-data-analisis-library/')"
   ]
  },
  {
   "cell_type": "code",
   "execution_count": 2,
   "id": "f3d0acd2",
   "metadata": {},
   "outputs": [],
   "source": [
    "#cargamos librerias \n",
    "import os \n",
    "import subprocess\n",
    "from datetime import datetime\n",
    "import numpy as np \n",
    "import glob\n",
    "import matplotlib.pyplot as plt\n",
    "import tensorflow as tf \n",
    "import psutil\n",
    "import re\n",
    "import random\n",
    "import shutil\n",
    "import pickle\n",
    "\n",
    "#propias\n",
    "import unzipdata_and_first_treatments as manipulate\n",
    "import loaddata4use\n",
    "import model_creation_functions as models"
   ]
  },
  {
   "cell_type": "markdown",
   "id": "5082920e",
   "metadata": {},
   "source": [
    "### Primero vamos a experimentar con el tema de la memoria, para poder entrenar al máximo sin que se quede colgado"
   ]
  },
  {
   "cell_type": "raw",
   "id": "20d2e9f0",
   "metadata": {},
   "source": [
    "print(\"Total:\" ,psutil.virtual_memory().total >> 30, \"Gb\")\n",
    "print(\"Disponible:\" ,psutil.virtual_memory().available >> 30, \"Gb\")\n",
    "\n",
    "#x << y\n",
    "# Returns x with the bits shifted to the left by y places (and new bits on the right-hand-side are zeros). \n",
    "#This is the same as multiplying x by 2**y. (1024**3 = 2**30) wow "
   ]
  },
  {
   "cell_type": "markdown",
   "id": "b1505458",
   "metadata": {},
   "source": [
    "Tenemos muy poca ram disponible, por ello, vamos a optar por una alternativa de entrenamiento por fases, intentando que el modelo vea todos los datos posibles, pero que no olvide o se vea sesgado por subconjuntos de datos que se desvíen mucho de la distribución general de estos."
   ]
  },
  {
   "cell_type": "code",
   "execution_count": 3,
   "id": "e688f7d8",
   "metadata": {},
   "outputs": [],
   "source": [
    "#enviroment variables\n",
    "npy_final_dir=\"../datos/elementos_npy\"\n",
    "base_dir_elementos=\"../datos/elementos\"\n",
    "elements=['gamma', 'electron', 'proton', 'helium', 'iron', 'nitrogen', 'silicon']"
   ]
  },
  {
   "cell_type": "raw",
   "id": "8214da27",
   "metadata": {},
   "source": [
    "#vamos a llevar un recuento del espacio usado\n",
    "sizes=[]\n",
    "for j in elements:\n",
    "    aux_dir=npy_final_dir+\"/npy_\"+j\n",
    "    print(aux_dir)\n",
    "    sizes.append({i:(os.path.getsize(os.path.join(aux_dir,i))>>20) for i in os.listdir(aux_dir) if not re.search(\"^id_\",i)})\n",
    "    "
   ]
  },
  {
   "cell_type": "raw",
   "id": "e5c24275",
   "metadata": {},
   "source": [
    "#vamos a ver el tamaño medio de cada uno de los npy de los elementos\n",
    "avg_size=[]\n",
    "plt.figure(figsize=(15,8))\n",
    "for j,i in enumerate(elements):\n",
    "    plt.subplot(4,2,j+1)\n",
    "    plt.hist(list(sizes[j].values()),bins=30)\n",
    "    avg_size.append(np.mean(list(sizes[j].values())))\n",
    "    plt.title(i+\" mean: {0:.5g} Mb\".format(avg_size[j]))\n",
    "plt.tight_layout()"
   ]
  },
  {
   "cell_type": "markdown",
   "id": "19d8bdd6",
   "metadata": {},
   "source": [
    "Buenos, podemos ver como los archivos de gamma son mucho más pesados, 4 veces o más. "
   ]
  },
  {
   "cell_type": "markdown",
   "id": "0a02d9cf",
   "metadata": {},
   "source": [
    "La idea va a ser hacer un boostrap (no se si es exactamente eso, pero creo que sí). En el que vayamos cogiendo de un conjunto grande de train, vamos a ir escogiendo aleatoriamente, y finalmente, tras muchas cargas entrenamientos y tal, en teoría el modelo las habra visto todas en un orden aleatorio, repitiendo etc.\n",
    "\n",
    "**Por el momento no voy a hacer un tratamiento intensivo del desbalanceo.**  \n",
    "**Voy a separar un 10% de las npy files en otro directorio para que podamos coger aleatoriamente del directorio npy_base**"
   ]
  },
  {
   "cell_type": "raw",
   "id": "4bf4a410",
   "metadata": {},
   "source": [
    "#separación de un 10% de los files en otro directorio\n",
    "a=[]\n",
    "PORCENTAJE=0.05 #el 5%x4(tels) seran los archivos desplazados\n",
    "npy_test_dir=\"../datos/elementos_npy_test/\"\n",
    "for ind,elem in enumerate(elements):\n",
    "    elem_dir=os.path.join(npy_final_dir,\"npy_\"+elem)\n",
    "    test_element_dir=os.path.join(npy_test_dir,\"npy_\"+elem)\n",
    "    #vemos si existe y sino lo creamos \n",
    "    if not os.path.exists(test_element_dir):\n",
    "        os.mkdir(test_element_dir)\n",
    "    \n",
    "    #vamos a sacar las runs y vamos a coger un 10% de ellas, PARA TODOS LOS TELESCOPIOS\n",
    "    total_files=[i for i in os.listdir(elem_dir) if re.search(\"^npy_\",i)]\n",
    "\n",
    "    total_runs=[int(re.search(\"run_([0-9]{3})_0\\.npy\",i).group(1)) for i in os.listdir(elem_dir) if re.search(\"^npy_\",i)]\n",
    "    selected_runs=random.sample(total_runs,round(len(total_runs)*(PORCENTAJE)))\n",
    "    \n",
    "    #ahora con las runs construimos las selected files y punto\n",
    "    selected_files=[i for i in total_files if int(re.search(\"run_([0-9]{3})_0\\.npy\",i).group(1)) in selected_runs]\n",
    "    \n",
    "    \n",
    "    #ahora movemos los archivos\n",
    "    for k in selected_files:\n",
    "        print(k)\n",
    "        a.append(k)\n",
    "        #los movemos\n",
    "        src_npy=os.path.join(elem_dir,k)\n",
    "        dst_npy=os.path.join(test_element_dir,k)\n",
    "        \n",
    "        src_id_npy=os.path.join(elem_dir,\"id_eventos_\"+k[:-6]+\".npy\")\n",
    "        dst_id_npy=os.path.join(test_element_dir,\"id_eventos_\"+k[:-6]+\".npy\")\n",
    "        \n",
    "        #hacemos que si algo va mal, devolvemos los files a donde corresponden\n",
    "        if false:\n",
    "            shutil.move(src_npy,dst_npy)\n",
    "            shutil.move(src_id_npy,dst_id_npy)\n",
    "#ya no hace mas falta\n",
    "            "
   ]
  },
  {
   "cell_type": "raw",
   "id": "fc3b79f2",
   "metadata": {},
   "source": [
    "#para comprobar que lo estamos haciendo bien\n",
    "print(len(a))\n",
    "sorted(a,key=lambda x : int(re.findall(\"run_([0-9]{3})\",x)[0]))"
   ]
  },
  {
   "cell_type": "markdown",
   "id": "94739c7c",
   "metadata": {},
   "source": [
    "```{bash}\n",
    "[arturoSF@invidere datos]$ ls elementos_npy_test/*/*.npy | wc -l  \n",
    "1456  \n",
    "[arturoSF@invidere datos]$ ls elementos_npy/*/*.npy | wc -l  \n",
    "6225  \n",
    "```"
   ]
  },
  {
   "cell_type": "raw",
   "id": "e7d79cb3",
   "metadata": {
    "scrolled": true
   },
   "source": [
    "#vamos patras\n",
    "npy_test_dir=\"../datos/elementos_npy_test/\"\n",
    "for ind,elem in enumerate(elements):\n",
    "    elem_dir=os.path.join(npy_final_dir,\"npy_\"+elem)\n",
    "    test_element_dir=os.path.join(npy_test_dir,\"npy_\"+elem)\n",
    "\n",
    "    #ahora cogemos todo\n",
    "    total_files=[i for i in os.listdir(test_element_dir) if re.search(\"^npy_\",i)]\n",
    "    #ahora movemos los archivos\n",
    "    for k in total_files:\n",
    "        print(k)\n",
    "        #los movemos\n",
    "        src_npy=os.path.join(elem_dir,k)\n",
    "        dst_npy=os.path.join(test_element_dir,k)\n",
    "        \n",
    "        src_id_npy=os.path.join(elem_dir,\"id_eventos_\"+k[:-6]+\".npy\")\n",
    "        dst_id_npy=os.path.join(test_element_dir,\"id_eventos_\"+k[:-6]+\".npy\")\n",
    "        shutil.move(dst_npy,src_npy)\n",
    "        shutil.move(dst_id_npy,src_id_npy)"
   ]
  },
  {
   "cell_type": "markdown",
   "id": "3a69fdc9",
   "metadata": {},
   "source": [
    "### Ciclo de carga de datos \n",
    "\n",
    "La idea es cargar x datos en memoria y entrenar, luego cargar otra vez aleatoriamente x datos y sigue.  \n",
    "Pero la duda es cuantos cargar, porque solo tenemos 5 Gb disponibles y esto aun sin contar con que tenemos el modelo en memoria.\n"
   ]
  },
  {
   "cell_type": "markdown",
   "id": "afea9693",
   "metadata": {},
   "source": [
    "#### Troubleshoting main_list\n",
    "Necesitamos crear la main_list pero a partir de lo que tenemos disponible, entonces, lo que vamos a hacer es una funcion que escoja segun lo disponible y punto, lo único que necesitamos es extraer las runs disponibles para cada elemento."
   ]
  },
  {
   "cell_type": "code",
   "execution_count": 4,
   "id": "3e025e6c",
   "metadata": {},
   "outputs": [],
   "source": [
    "def runs_disponibles(npy_dir,elements):\n",
    "    lista=[]\n",
    "    for i in elements:\n",
    "        npy_element_dir=os.path.join(npy_dir,\"npy_\"+i)\n",
    "        runs=[int(re.search(\"run_([0-9]{3})_0\\.npy\",i).group(1)) for i in os.listdir(npy_element_dir) if re.search(\"run_([0-9]{3})_0\\.npy\",i)]\n",
    "        lista.append(runs)\n",
    "    return lista"
   ]
  },
  {
   "cell_type": "code",
   "execution_count": 5,
   "id": "5fddc8e5",
   "metadata": {},
   "outputs": [
    {
     "name": "stdout",
     "output_type": "stream",
     "text": [
      "Para la run: 2  hay problemas.  [2, 0, 4, 0, 4, 4, 4]\n",
      "Para la run: 3  hay problemas.  [3, 4, 4, 4, 4, 4, 4]\n"
     ]
    }
   ],
   "source": [
    "\n",
    "res=[np.array(i) for i in runs_disponibles(npy_final_dir,elements)]\n",
    "total={}\n",
    "for i in range(1,180):\n",
    "    aux=[]\n",
    "    for j in res:\n",
    "        aux.append(np.sum(j==i))\n",
    "        \n",
    "    total[str(i)]=aux\n",
    "      \n",
    "for i in total:\n",
    "    if ((1 in total[i]) | (2 in total[i]) | (3 in total[i])):\n",
    "        print(\"Para la run:\", i,\" hay problemas. \", total[i])"
   ]
  },
  {
   "cell_type": "markdown",
   "id": "bfc4d608",
   "metadata": {},
   "source": [
    "Ahora ya tenemos todas las opciones de runs a correr, solo vamos a quitar nosotros la 2 y la 3 de gamma a mano, que dan problemas, y el estos se elegiran de forma aleatoria."
   ]
  },
  {
   "cell_type": "code",
   "execution_count": 6,
   "id": "85754a7f",
   "metadata": {},
   "outputs": [],
   "source": [
    "chose_runs=runs_disponibles(npy_final_dir,elements)\n",
    "chose_runs[0].remove(2)\n",
    "chose_runs[0].remove(2)\n",
    "chose_runs[0].remove(3)\n",
    "chose_runs[0].remove(3)\n",
    "chose_runs[0].remove(3)\n",
    "#rapido y mal"
   ]
  },
  {
   "cell_type": "code",
   "execution_count": 7,
   "id": "572ef830",
   "metadata": {},
   "outputs": [],
   "source": [
    "def new_create_main_list_runs(number_runs_per_element,posibles_runs):\n",
    "    #esto es aleatorio por defecto, porque es lo unico que necesito por ahora    \n",
    "    final=[]\n",
    "    for ind,lista_runs_element in enumerate(chose_runs):\n",
    "        final.append(random.sample(lista_runs_element,number_runs_per_element[ind]))\n",
    "    return final"
   ]
  },
  {
   "cell_type": "code",
   "execution_count": 9,
   "id": "6b7d1302",
   "metadata": {},
   "outputs": [
    {
     "data": {
      "text/plain": [
       "[[44, 12, 34, 6, 6, 13],\n",
       " [153, 87, 142, 30, 73, 3, 113, 100, 103],\n",
       " [13, 5, 10, 129, 56, 157, 91, 60, 47],\n",
       " [94, 100, 43, 42, 58, 63, 116, 4, 50],\n",
       " [167, 119, 81, 107, 37, 94, 98, 60, 2],\n",
       " [42, 108, 85, 146, 157, 58, 84, 40, 17],\n",
       " [106, 34, 108, 13, 21, 49, 114, 35, 138]]"
      ]
     },
     "execution_count": 9,
     "metadata": {},
     "output_type": "execute_result"
    }
   ],
   "source": [
    "#prueba de carga de datos \n",
    "\n",
    "#en lugar de usar esta carga de datos\n",
    "#list_runs=loaddata4use.create_main_list_runs(num_events=2,init_events=4)\n",
    "\n",
    "#usamos esta otra\n",
    "list_runs=new_create_main_list_runs([6,9,9,9,9,9,9],chose_runs)\n",
    "list_runs"
   ]
  },
  {
   "cell_type": "code",
   "execution_count": null,
   "id": "920d4062",
   "metadata": {
    "scrolled": true
   },
   "outputs": [
    {
     "name": "stdout",
     "output_type": "stream",
     "text": [
      "Load of names and common events\n",
      "_______________\n",
      "0 ;  Element:  gamma  , Runs:  [44, 12, 34, 6, 6, 13]  Shape of common events (tels,common events):  (4, 1086)\n",
      "1 ;  Element:  gamma  , Runs:  [44, 12, 34, 6, 6, 13]  Shape of common events (tels,common events):  (4, 1147)\n",
      "2 ;  Element:  gamma  , Runs:  [44, 12, 34, 6, 6, 13]  Shape of common events (tels,common events):  (4, 1209)\n",
      "3 ;  Element:  gamma  , Runs:  [44, 12, 34, 6, 6, 13]  Shape of common events (tels,common events):  (4, 1154)\n",
      "4 ;  Element:  gamma  , Runs:  [44, 12, 34, 6, 6, 13]  Shape of common events (tels,common events):  (4, 1154)\n",
      "5 ;  Element:  gamma  , Runs:  [44, 12, 34, 6, 6, 13]  Shape of common events (tels,common events):  (4, 1147)\n",
      "0 ;  Element:  electron  , Runs:  [153, 87, 142, 30, 73, 3, 113, 100, 103]  Shape of common events (tels,common events):  (4, 232)\n",
      "1 ;  Element:  electron  , Runs:  [153, 87, 142, 30, 73, 3, 113, 100, 103]  Shape of common events (tels,common events):  (4, 233)\n",
      "2 ;  Element:  electron  , Runs:  [153, 87, 142, 30, 73, 3, 113, 100, 103]  Shape of common events (tels,common events):  (4, 249)\n",
      "3 ;  Element:  electron  , Runs:  [153, 87, 142, 30, 73, 3, 113, 100, 103]  Shape of common events (tels,common events):  (4, 284)\n",
      "4 ;  Element:  electron  , Runs:  [153, 87, 142, 30, 73, 3, 113, 100, 103]  Shape of common events (tels,common events):  (4, 255)\n",
      "5 ;  Element:  electron  , Runs:  [153, 87, 142, 30, 73, 3, 113, 100, 103]  Shape of common events (tels,common events):  (4, 232)\n",
      "6 ;  Element:  electron  , Runs:  [153, 87, 142, 30, 73, 3, 113, 100, 103]  Shape of common events (tels,common events):  (4, 227)\n",
      "7 ;  Element:  electron  , Runs:  [153, 87, 142, 30, 73, 3, 113, 100, 103]  Shape of common events (tels,common events):  (4, 251)\n",
      "8 ;  Element:  electron  , Runs:  [153, 87, 142, 30, 73, 3, 113, 100, 103]  Shape of common events (tels,common events):  (4, 230)\n",
      "0 ;  Element:  proton  , Runs:  [13, 5, 10, 129, 56, 157, 91, 60, 47]  Shape of common events (tels,common events):  (4, 151)\n",
      "1 ;  Element:  proton  , Runs:  [13, 5, 10, 129, 56, 157, 91, 60, 47]  Shape of common events (tels,common events):  (4, 156)\n",
      "2 ;  Element:  proton  , Runs:  [13, 5, 10, 129, 56, 157, 91, 60, 47]  Shape of common events (tels,common events):  (4, 178)\n",
      "3 ;  Element:  proton  , Runs:  [13, 5, 10, 129, 56, 157, 91, 60, 47]  Shape of common events (tels,common events):  (4, 183)\n",
      "4 ;  Element:  proton  , Runs:  [13, 5, 10, 129, 56, 157, 91, 60, 47]  Shape of common events (tels,common events):  (4, 152)\n",
      "5 ;  Element:  proton  , Runs:  [13, 5, 10, 129, 56, 157, 91, 60, 47]  Shape of common events (tels,common events):  (4, 155)\n",
      "6 ;  Element:  proton  , Runs:  [13, 5, 10, 129, 56, 157, 91, 60, 47]  Shape of common events (tels,common events):  (4, 143)\n",
      "7 ;  Element:  proton  , Runs:  [13, 5, 10, 129, 56, 157, 91, 60, 47]  Shape of common events (tels,common events):  (4, 165)\n",
      "8 ;  Element:  proton  , Runs:  [13, 5, 10, 129, 56, 157, 91, 60, 47]  Shape of common events (tels,common events):  (4, 154)\n",
      "0 ;  Element:  helium  , Runs:  [94, 100, 43, 42, 58, 63, 116, 4, 50]  Shape of common events (tels,common events):  (4, 256)\n",
      "1 ;  Element:  helium  , Runs:  [94, 100, 43, 42, 58, 63, 116, 4, 50]  Shape of common events (tels,common events):  (4, 235)\n",
      "2 ;  Element:  helium  , Runs:  [94, 100, 43, 42, 58, 63, 116, 4, 50]  Shape of common events (tels,common events):  (4, 238)\n",
      "3 ;  Element:  helium  , Runs:  [94, 100, 43, 42, 58, 63, 116, 4, 50]  Shape of common events (tels,common events):  (4, 261)\n",
      "4 ;  Element:  helium  , Runs:  [94, 100, 43, 42, 58, 63, 116, 4, 50]  Shape of common events (tels,common events):  (4, 251)\n",
      "5 ;  Element:  helium  , Runs:  [94, 100, 43, 42, 58, 63, 116, 4, 50]  Shape of common events (tels,common events):  (4, 250)\n",
      "6 ;  Element:  helium  , Runs:  [94, 100, 43, 42, 58, 63, 116, 4, 50]  Shape of common events (tels,common events):  (4, 231)\n",
      "7 ;  Element:  helium  , Runs:  [94, 100, 43, 42, 58, 63, 116, 4, 50]  Shape of common events (tels,common events):  (4, 267)\n",
      "8 ;  Element:  helium  , Runs:  [94, 100, 43, 42, 58, 63, 116, 4, 50]  Shape of common events (tels,common events):  (4, 206)\n",
      "0 ;  Element:  iron  , Runs:  [167, 119, 81, 107, 37, 94, 98, 60, 2]  Shape of common events (tels,common events):  (4, 157)\n",
      "1 ;  Element:  iron  , Runs:  [167, 119, 81, 107, 37, 94, 98, 60, 2]  Shape of common events (tels,common events):  (4, 173)\n",
      "2 ;  Element:  iron  , Runs:  [167, 119, 81, 107, 37, 94, 98, 60, 2]  Shape of common events (tels,common events):  (4, 166)\n",
      "3 ;  Element:  iron  , Runs:  [167, 119, 81, 107, 37, 94, 98, 60, 2]  Shape of common events (tels,common events):  (4, 141)\n",
      "4 ;  Element:  iron  , Runs:  [167, 119, 81, 107, 37, 94, 98, 60, 2]  Shape of common events (tels,common events):  (4, 172)\n",
      "5 ;  Element:  iron  , Runs:  [167, 119, 81, 107, 37, 94, 98, 60, 2]  Shape of common events (tels,common events):  (4, 165)\n",
      "6 ;  Element:  iron  , Runs:  [167, 119, 81, 107, 37, 94, 98, 60, 2]  Shape of common events (tels,common events):  (4, 164)\n",
      "7 ;  Element:  iron  , Runs:  [167, 119, 81, 107, 37, 94, 98, 60, 2]  Shape of common events (tels,common events):  (4, 178)\n",
      "8 ;  Element:  iron  , Runs:  [167, 119, 81, 107, 37, 94, 98, 60, 2]  Shape of common events (tels,common events):  (4, 167)\n",
      "0 ;  Element:  nitrogen  , Runs:  [42, 108, 85, 146, 157, 58, 84, 40, 17]  Shape of common events (tels,common events):  (4, 228)\n",
      "1 ;  Element:  nitrogen  , Runs:  [42, 108, 85, 146, 157, 58, 84, 40, 17]  Shape of common events (tels,common events):  (4, 194)\n",
      "2 ;  Element:  nitrogen  , Runs:  [42, 108, 85, 146, 157, 58, 84, 40, 17]  Shape of common events (tels,common events):  (4, 199)\n",
      "3 ;  Element:  nitrogen  , Runs:  [42, 108, 85, 146, 157, 58, 84, 40, 17]  Shape of common events (tels,common events):  (4, 212)\n",
      "4 ;  Element:  nitrogen  , Runs:  [42, 108, 85, 146, 157, 58, 84, 40, 17]  Shape of common events (tels,common events):  (4, 229)\n",
      "5 ;  Element:  nitrogen  , Runs:  [42, 108, 85, 146, 157, 58, 84, 40, 17]  Shape of common events (tels,common events):  (4, 239)\n",
      "6 ;  Element:  nitrogen  , Runs:  [42, 108, 85, 146, 157, 58, 84, 40, 17]  Shape of common events (tels,common events):  (4, 243)\n",
      "7 ;  Element:  nitrogen  , Runs:  [42, 108, 85, 146, 157, 58, 84, 40, 17]  Shape of common events (tels,common events):  (4, 191)\n",
      "8 ;  Element:  nitrogen  , Runs:  [42, 108, 85, 146, 157, 58, 84, 40, 17]  Shape of common events (tels,common events):  (4, 220)\n",
      "0 ;  Element:  silicon  , Runs:  [106, 34, 108, 13, 21, 49, 114, 35, 138]  Shape of common events (tels,common events):  (4, 233)\n",
      "1 ;  Element:  silicon  , Runs:  [106, 34, 108, 13, 21, 49, 114, 35, 138]  Shape of common events (tels,common events):  (4, 245)\n",
      "2 ;  Element:  silicon  , Runs:  [106, 34, 108, 13, 21, 49, 114, 35, 138]  Shape of common events (tels,common events):  (4, 230)\n",
      "3 ;  Element:  silicon  , Runs:  [106, 34, 108, 13, 21, 49, 114, 35, 138]  Shape of common events (tels,common events):  (4, 243)\n",
      "4 ;  Element:  silicon  , Runs:  [106, 34, 108, 13, 21, 49, 114, 35, 138]  Shape of common events (tels,common events):  (4, 240)\n",
      "5 ;  Element:  silicon  , Runs:  [106, 34, 108, 13, 21, 49, 114, 35, 138]  Shape of common events (tels,common events):  (4, 217)\n",
      "6 ;  Element:  silicon  , Runs:  [106, 34, 108, 13, 21, 49, 114, 35, 138]  Shape of common events (tels,common events):  (4, 258)\n",
      "7 ;  Element:  silicon  , Runs:  [106, 34, 108, 13, 21, 49, 114, 35, 138]  Shape of common events (tels,common events):  (4, 246)\n",
      "8 ;  Element:  silicon  , Runs:  [106, 34, 108, 13, 21, 49, 114, 35, 138]  Shape of common events (tels,common events):  (4, 244)\n",
      "_______________\n",
      "Load of actual npy data:\n",
      "_______________\n",
      "Element:  gamma , Telescope:  1  Shape of loaded array (amount of images, size of images):  (1437, 93, 55)\n"
     ]
    }
   ],
   "source": [
    "x_train_list,x_test_list,y_train_list,y_test_list=loaddata4use.load_dataset_completo(npy_final_dir,labels_asign=[0,1,2,2,2,2,2],elements=elements,\n",
    "                                                                                     main_list_runs=list_runs,pre_name_folders=\"npy_\",telescopes=[1,2,3,4],\n",
    "                                                                                     test_size=0.05,same_quant=\"same\",verbose=True,fill=True,categorical=True)"
   ]
  },
  {
   "cell_type": "code",
   "execution_count": null,
   "id": "3527ffe0",
   "metadata": {},
   "outputs": [],
   "source": [
    "#tenemos que hacer un ligero cambio porque se estan cargando con los ejes cambiados\n",
    "def cambiar_ejes_lista(lista):\n",
    "    for i,j in enumerate(lista):\n",
    "        lista[i]=np.swapaxes(j,1,2)\n",
    "    return lista\n",
    "\n",
    "x_train_list=cambiar_ejes_lista(x_train_list)\n",
    "x_test_list=cambiar_ejes_lista(x_test_list)\n"
   ]
  },
  {
   "cell_type": "raw",
   "id": "a63afaf2",
   "metadata": {},
   "source": [
    "#podemos calcular la memoria que ocupa cada objeto, pero para objetos compuestos \n",
    "#se nos complica porque está anidados\n",
    "print(sys.getsizeof(x_train_list[2])>>20,\"Mb\")"
   ]
  },
  {
   "cell_type": "raw",
   "id": "280edcfb",
   "metadata": {},
   "source": [
    "#y con locals() podemos sacar las del entorno\n",
    "def sizeof_fmt(num, suffix='B'):\n",
    "    ''' by Fred Cirera,  https://stackoverflow.com/a/1094933/1870254, modified'''\n",
    "    for unit in ['','Ki','Mi','Gi','Ti','Pi','Ei','Zi']:\n",
    "        if abs(num) < 1024.0:\n",
    "            return \"%3.1f %s%s\" % (num, unit, suffix)\n",
    "        num /= 1024.0\n",
    "    return \"%.1f %s%s\" % (nÇum, 'Yi', suffix)\n",
    "\n",
    "for name, size in sorted(((name, sys.getsizeof(value)) for name, value in locals().items()),\n",
    "                         key= lambda x: -x[1])[:10]:\n",
    "    print(\"{:>30}: {:>8}\".format(name, sizeof_fmt(size)))"
   ]
  },
  {
   "cell_type": "code",
   "execution_count": null,
   "id": "f32ffced",
   "metadata": {},
   "outputs": [],
   "source": []
  },
  {
   "cell_type": "markdown",
   "id": "e4b318df",
   "metadata": {},
   "source": [
    "Ya hemos reproducido la carga de datos de una manera que además nos va a permitir hacer un boostrap para entrenar con recursos limitados.  \n",
    "\n",
    "Ahora tenemos que ver una forma optima de entrenar los modelos de forma automática."
   ]
  },
  {
   "cell_type": "markdown",
   "id": "23fa053a",
   "metadata": {},
   "source": [
    "De este notebook voy a reutilizar las funcions que sacan los runs y que nos dan las main_listas, y con ello, en un script de pipeline, lo llamaré despues con un script de automatizaciones. "
   ]
  },
  {
   "cell_type": "code",
   "execution_count": null,
   "id": "3035e6d6",
   "metadata": {},
   "outputs": [],
   "source": [
    "opciones_filtros=[\n",
    "    [[12,16],[32,64],[64,12]],\n",
    "    [[12,16,32],[64,128],[128,64,32]],\n",
    "    [[12,16],[32,64],[64,12]],\n",
    "    [[12,16],[32,64],[64,12]],\n",
    "    [[12,16],[32,64],[64,12]]\n",
    "]"
   ]
  },
  {
   "cell_type": "code",
   "execution_count": null,
   "id": "bc8fa2a0",
   "metadata": {},
   "outputs": [],
   "source": [
    "modelo=models.model_multi_tel(classes=3,filtros=opciones_filtros[1],last_dense=[20,10])\n",
    "modelo.summary()"
   ]
  },
  {
   "cell_type": "code",
   "execution_count": null,
   "id": "30f96f11",
   "metadata": {},
   "outputs": [],
   "source": [
    "modelo.compile(optimizer=\"adam\",loss=\"categorical_crossentropy\",metrics=[\"acc\",\"AUC\",\"mean_squared_error\"])"
   ]
  },
  {
   "cell_type": "code",
   "execution_count": null,
   "id": "85c66b58",
   "metadata": {
    "scrolled": true
   },
   "outputs": [],
   "source": [
    "hist=modelo.fit(x=x_train_list,y=y_train_list,epochs=15, validation_data=(x_test_list,y_test_list),batch_size=64)\n",
    "modelo.save(\"../modelos/modelo_1.h5\")\n",
    "with open(\"../modelos/performances/history_modelo_1.pickle\",\"wb\") as pick:\n",
    "    pickle.dump(hist,pick)"
   ]
  },
  {
   "cell_type": "code",
   "execution_count": null,
   "id": "d0ef66bd",
   "metadata": {},
   "outputs": [],
   "source": [
    "%%javascript\n",
    "IPython.notebook.save_notebook()"
   ]
  },
  {
   "cell_type": "code",
   "execution_count": null,
   "id": "76eb3de2",
   "metadata": {},
   "outputs": [],
   "source": []
  }
 ],
 "metadata": {
  "kernelspec": {
   "display_name": "Python 3",
   "language": "python",
   "name": "python3"
  },
  "language_info": {
   "codemirror_mode": {
    "name": "ipython",
    "version": 3
   },
   "file_extension": ".py",
   "mimetype": "text/x-python",
   "name": "python",
   "nbconvert_exporter": "python",
   "pygments_lexer": "ipython3",
   "version": "3.6.8 (default, Nov  8 2022, 11:32:15) \n[GCC 8.5.0 20210514 (Red Hat 8.5.0-15)]"
  },
  "vscode": {
   "interpreter": {
    "hash": "916dbcbb3f70747c44a77c7bcd40155683ae19c65e1c03b4aa3499c5328201f1"
   }
  }
 },
 "nbformat": 4,
 "nbformat_minor": 5
}
