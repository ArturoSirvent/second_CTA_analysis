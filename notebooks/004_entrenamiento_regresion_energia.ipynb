{
 "cells": [
  {
   "attachments": {},
   "cell_type": "markdown",
   "metadata": {},
   "source": [
    "# Vamos a hacer unos modelos para la predicción de energía.  \n",
    "\n",
    "\n",
    "Igual que el 003 pero vamos a aprovechar los modelos que ya tenemos y los vamos a finetunear."
   ]
  },
  {
   "cell_type": "code",
   "execution_count": 1,
   "metadata": {},
   "outputs": [],
   "source": [
    "#importamos librerias\n",
    "\n",
    "import sys\n",
    "sys.path.append('../src/CTA-data-analisis-library/')\n",
    "import os \n",
    "import subprocess\n",
    "from datetime import datetime\n",
    "import numpy as np \n",
    "from  glob import glob\n",
    "import matplotlib.pyplot as plt\n",
    "import tensorflow as tf \n",
    "import psutil\n",
    "import re\n",
    "import random\n",
    "import shutil\n",
    "import pickle\n",
    "from numba import cuda\n",
    "import gc\n",
    "\n",
    "#propias\n",
    "import unzipdata_and_first_treatments as manipulate\n",
    "import loaddata4use\n",
    "import model_creation_functions as models"
   ]
  },
  {
   "cell_type": "code",
   "execution_count": 2,
   "metadata": {},
   "outputs": [],
   "source": [
    "tf.config.threading.set_inter_op_parallelism_threads(4)"
   ]
  },
  {
   "cell_type": "code",
   "execution_count": 3,
   "metadata": {},
   "outputs": [],
   "source": [
    "#enviroment variables\n",
    "npy_final_dir=\"../datos/elementos_npy\"\n",
    "base_dir_elementos=\"../datos/elementos\"\n",
    "elements=['gamma', 'electron']\n",
    "modelos_dir=\"../modelos\"\n",
    "lista_modelos_to_use=glob(f\"{modelos_dir}/*stage_7.h5\")"
   ]
  },
  {
   "cell_type": "code",
   "execution_count": 4,
   "metadata": {},
   "outputs": [],
   "source": [
    "def runs_disponibles(npy_dir,elements):\n",
    "    lista=[]\n",
    "    for i in elements:\n",
    "        npy_element_dir=os.path.join(npy_dir,\"npy_\"+i)\n",
    "        runs=[int(re.search(\"run_([0-9]{3})_0\\.npy\",i).group(1)) for i in os.listdir(npy_element_dir) if re.search(\"run_([0-9]{3})_0\\.npy\",i)]\n",
    "        lista.append(runs)\n",
    "    return lista\n",
    "\n",
    "\n",
    "def new_create_main_list_runs(number_runs_per_element,posibles_runs):\n",
    "    #esto es aleatorio por defecto, porque es lo unico que necesito por ahora    \n",
    "    final=[]\n",
    "    for ind,lista_runs_element in enumerate(posibles_runs):\n",
    "        final.append(random.sample(lista_runs_element,number_runs_per_element[ind]))\n",
    "    return final\n",
    "\n",
    "#tenemos que hacer un ligero cambio porque se estan cargando con los ejes cambiados\n",
    "def cambiar_ejes_lista(lista):\n",
    "    for i,j in enumerate(lista):\n",
    "        lista[i]=np.swapaxes(j,1,2)\n",
    "    return lista\n",
    "\n",
    "def get_all_size(local_vars):\n",
    "    #local_vars = list(locals().items())\n",
    "    total=0\n",
    "    for var, obj in local_vars:\n",
    "        total+=sys.getsizeof(obj)\n",
    "    total= total >> 20\n",
    "    return total # its in Mb"
   ]
  },
  {
   "cell_type": "code",
   "execution_count": 13,
   "metadata": {},
   "outputs": [],
   "source": [
    "chose_runs=runs_disponibles(npy_final_dir,elements)\n",
    "chose_runs[0].remove(2)\n",
    "chose_runs[0].remove(2)\n",
    "chose_runs[0].remove(3)\n",
    "chose_runs[0].remove(3)\n",
    "chose_runs[0].remove(3)"
   ]
  },
  {
   "cell_type": "code",
   "execution_count": 16,
   "metadata": {},
   "outputs": [],
   "source": [
    "tf.keras.backend.clear_session()\n"
   ]
  },
  {
   "cell_type": "code",
   "execution_count": 17,
   "metadata": {},
   "outputs": [],
   "source": [
    "modelo=tf.keras.models.load_model(lista_modelos_to_use[1])\n"
   ]
  },
  {
   "cell_type": "code",
   "execution_count": 18,
   "metadata": {},
   "outputs": [
    {
     "name": "stdout",
     "output_type": "stream",
     "text": [
      "(4224, 20)\n",
      "(20, 5)\n",
      "(5, 3)\n",
      "(3, 1)\n"
     ]
    }
   ],
   "source": [
    "\n",
    "modelo2=tf.keras.models.Model(inputs=modelo.input,outputs=tf.keras.layers.Dense(1,name=\"asdf\")(modelo.output))\n",
    "\n",
    "count=0\n",
    "for i in modelo2.layers:\n",
    "    if str(type(i))==\"<class 'keras.layers.core.dense.Dense'>\":\n",
    "        count+=1\n",
    "\n",
    "\n",
    "for indx,layer in enumerate(modelo2.layers):\n",
    "    if indx > len(modelo2.layers)-1-count:\n",
    "        print(layer.weights[0].shape)\n",
    "    else:\n",
    "        layer.trainable=False\n"
   ]
  },
  {
   "cell_type": "code",
   "execution_count": 19,
   "metadata": {},
   "outputs": [
    {
     "name": "stdout",
     "output_type": "stream",
     "text": [
      "Model: \"model\"\n",
      "__________________________________________________________________________________________________\n",
      " Layer (type)                   Output Shape         Param #     Connected to                     \n",
      "==================================================================================================\n",
      " input_1 (InputLayer)           [(None, 55, 93, 1)]  0           []                               \n",
      "                                                                                                  \n",
      " input_2 (InputLayer)           [(None, 55, 93, 1)]  0           []                               \n",
      "                                                                                                  \n",
      " input_3 (InputLayer)           [(None, 55, 93, 1)]  0           []                               \n",
      "                                                                                                  \n",
      " input_4 (InputLayer)           [(None, 55, 93, 1)]  0           []                               \n",
      "                                                                                                  \n",
      " sequential (Sequential)        (None, 1056)         204984      ['input_1[0][0]',                \n",
      "                                                                  'input_2[0][0]',                \n",
      "                                                                  'input_3[0][0]',                \n",
      "                                                                  'input_4[0][0]']                \n",
      "                                                                                                  \n",
      " concatenate (Concatenate)      (None, 4224)         0           ['sequential[0][0]',             \n",
      "                                                                  'sequential[1][0]',             \n",
      "                                                                  'sequential[2][0]',             \n",
      "                                                                  'sequential[3][0]']             \n",
      "                                                                                                  \n",
      " dense (Dense)                  (None, 20)           84500       ['concatenate[0][0]']            \n",
      "                                                                                                  \n",
      " dense_1 (Dense)                (None, 5)            105         ['dense[0][0]']                  \n",
      "                                                                                                  \n",
      " dense_2 (Dense)                (None, 3)            18          ['dense_1[0][0]']                \n",
      "                                                                                                  \n",
      " asdf (Dense)                   (None, 1)            4           ['dense_2[0][0]']                \n",
      "                                                                                                  \n",
      "==================================================================================================\n",
      "Total params: 289,611\n",
      "Trainable params: 84,627\n",
      "Non-trainable params: 204,984\n",
      "__________________________________________________________________________________________________\n",
      "None\n"
     ]
    }
   ],
   "source": [
    "print(modelo2.summary())"
   ]
  },
  {
   "cell_type": "code",
   "execution_count": 21,
   "metadata": {},
   "outputs": [
    {
     "name": "stdout",
     "output_type": "stream",
     "text": [
      "Modelo: 0\n",
      "\n",
      "\n",
      " Boostrap 1 de 18, y uso de CPU 7Mb, y memoria 0 Mb \n",
      "\n",
      "Load of names and common events\n",
      "_______________\n",
      "Element:  gamma  , Runs:  [14, 42]  Shape of common events (common events, energies):  (4, 1103) (4, 1103)\n",
      "Element:  gamma  , Runs:  [14, 42]  Shape of common events (common events, energies):  (4, 1126) (4, 1126)\n",
      "Element:  electron  , Runs:  [28, 80, 23, 27, 141, 122, 88, 15, 153, 67, 88, 70, 51, 19]  Shape of common events (common events, energies):  (4, 271) (4, 271)\n",
      "Element:  electron  , Runs:  [28, 80, 23, 27, 141, 122, 88, 15, 153, 67, 88, 70, 51, 19]  Shape of common events (common events, energies):  (4, 289) (4, 289)\n",
      "Element:  electron  , Runs:  [28, 80, 23, 27, 141, 122, 88, 15, 153, 67, 88, 70, 51, 19]  Shape of common events (common events, energies):  (4, 239) (4, 239)\n",
      "Element:  electron  , Runs:  [28, 80, 23, 27, 141, 122, 88, 15, 153, 67, 88, 70, 51, 19]  Shape of common events (common events, energies):  (4, 238) (4, 238)\n",
      "Element:  electron  , Runs:  [28, 80, 23, 27, 141, 122, 88, 15, 153, 67, 88, 70, 51, 19]  Shape of common events (common events, energies):  (4, 264) (4, 264)\n",
      "Element:  electron  , Runs:  [28, 80, 23, 27, 141, 122, 88, 15, 153, 67, 88, 70, 51, 19]  Shape of common events (common events, energies):  (4, 233) (4, 233)\n",
      "Element:  electron  , Runs:  [28, 80, 23, 27, 141, 122, 88, 15, 153, 67, 88, 70, 51, 19]  Shape of common events (common events, energies):  (4, 265) (4, 265)\n",
      "Element:  electron  , Runs:  [28, 80, 23, 27, 141, 122, 88, 15, 153, 67, 88, 70, 51, 19]  Shape of common events (common events, energies):  (4, 255) (4, 255)\n",
      "Element:  electron  , Runs:  [28, 80, 23, 27, 141, 122, 88, 15, 153, 67, 88, 70, 51, 19]  Shape of common events (common events, energies):  (4, 232) (4, 232)\n",
      "Element:  electron  , Runs:  [28, 80, 23, 27, 141, 122, 88, 15, 153, 67, 88, 70, 51, 19]  Shape of common events (common events, energies):  (4, 228) (4, 228)\n",
      "Element:  electron  , Runs:  [28, 80, 23, 27, 141, 122, 88, 15, 153, 67, 88, 70, 51, 19]  Shape of common events (common events, energies):  (4, 265) (4, 265)\n",
      "Element:  electron  , Runs:  [28, 80, 23, 27, 141, 122, 88, 15, 153, 67, 88, 70, 51, 19]  Shape of common events (common events, energies):  (4, 269) (4, 269)\n",
      "Element:  electron  , Runs:  [28, 80, 23, 27, 141, 122, 88, 15, 153, 67, 88, 70, 51, 19]  Shape of common events (common events, energies):  (4, 242) (4, 242)\n",
      "Element:  electron  , Runs:  [28, 80, 23, 27, 141, 122, 88, 15, 153, 67, 88, 70, 51, 19]  Shape of common events (common events, energies):  (4, 260) (4, 260)\n",
      "_______________\n",
      "Load of actual npy data:\n",
      "_______________\n",
      "2229\n"
     ]
    }
   ],
   "source": [
    "#vamos a llevar un registros del punto en el que se esta quedando el modelo\n",
    "#voy a hacer una callback que guarde el último modelo, y con ello\n",
    "#vamos a ir guardando los ultimo datos de la ejecucion y si hay un problema, retornamos a ese punto\n",
    "\n",
    "#si tenemos que retomar el entrenamiento, vamos a indicar que modelo usar\n",
    "\n",
    "device = cuda.get_current_device()\n",
    "file_number=\"004\"\n",
    "n=18 #repes de boostrap\n",
    "numruns=[2,14]\n",
    "#primer bucle para arquitecturas\n",
    "for i,modelo_name in enumerate(lista_modelos_to_use):\n",
    "    tf.keras.backend.clear_session()\n",
    "    modelo=tf.keras.models.load_model(modelo_name)\n",
    "\n",
    "    print(f\"Modelo: {i}\\n\")\n",
    "\n",
    "    #parte de cargar el modelo\n",
    "    modelo2=tf.keras.models.Model(inputs=modelo.input,outputs=tf.keras.layers.Dense(1,name=\"asdf\")(modelo.output))\n",
    "\n",
    "    count=0\n",
    "    for i in modelo2.layers:\n",
    "        if str(type(i))==\"<class 'keras.layers.core.dense.Dense'>\":\n",
    "            count+=1\n",
    "\n",
    "\n",
    "    for indx,layer in enumerate(modelo2.layers):\n",
    "        if indx > len(modelo2.layers)-1-count:\n",
    "            pass\n",
    "        else:\n",
    "            layer.trainable=False\n",
    "\n",
    "\n",
    "\n",
    "    modelo2.compile(optimizer=tf.keras.optimizers.Adam(learning_rate=1e-3),loss=\"mse\",metrics=[\"mae\",\"mape\"])\n",
    "    with open(f\"../automat/logs/{file_number}_data_control_energy.txt\",\"a\") as registro:\n",
    "        registro.write(f\"Con modelo: {i}, y uso de CPU {tf.config.experimental.get_memory_info('CPU:0')['current']>>20}Mb, y memoria {get_all_size(list(locals().items()))} Mb \\n\")\n",
    "\n",
    "    #segundo_bucle para boostrap\n",
    "    for k in range(n):\n",
    "        #modificamos el learning rate\n",
    "        if k == 4:\n",
    "            modelo2.compile(optimizer=tf.keras.optimizers.Adam(learning_rate=1e-4),loss=\"mse\",metrics=[\"mae\",\"mape\"])\n",
    "        elif k == 10:\n",
    "            modelo2.compile(optimizer=tf.keras.optimizers.Adam(learning_rate=1e-5),loss=\"mse\",metrics=[\"mae\",\"mape\"])\n",
    "        elif k == 12:\n",
    "            modelo2.compile(optimizer=tf.keras.optimizers.Adam(learning_rate=1e-6),loss=\"mse\",metrics=[\"mae\",\"mape\"])\n",
    "            numruns=[1,8]\n",
    "            #y ponemos todo trainable\n",
    "            for layer in modelo2.layers:\n",
    "                layer.trainable=True\n",
    "\n",
    "\n",
    "\n",
    "        print(f\"\\n Boostrap {k+1} de {n}, y uso de CPU {tf.config.experimental.get_memory_info('CPU:0')['current']>>20}Mb, y memoria {get_all_size(list(locals().items()))} Mb \\n\")\n",
    "\n",
    "        list_runs=new_create_main_list_runs(numruns,chose_runs)#new_create_main_list_runs([2,6,6,6,6,6,6],chose_runs)\n",
    "        with open(f\"../automat/logs/{file_number}_data_control_energy.txt\",\"a\") as registro:\n",
    "            registro.write(f\"Boostrap {k+1} de {n},runs: {list_runs}, y uso de CPU {tf.config.experimental.get_memory_info('CPU:0')['current']>>20}Mb, y memoria {get_all_size(list(locals().items()))} Mb \\n\")\n",
    "        x_train_list,x_test_list,y_train_list,y_test_list=loaddata4use.load_dataset_energy(npy_final_dir,base_dir_elementos,elementos=['gamma', 'electron'],main_list_runs=list_runs,telescopios=[1,2,3,4],test_size=0.01,same_quant=\"same\",verbose=True,fill=True)\n",
    "        print(f\"\\n Despues de cargar las variables, en memoria {get_all_size(list(locals().items()))} Mb \\n\")\n",
    "\n",
    "        x_train_list=cambiar_ejes_lista(x_train_list)\n",
    "        x_test_list=cambiar_ejes_lista(x_test_list)\n",
    "\n",
    "        \n",
    "        hist=modelo2.fit(x=x_train_list,y=y_train_list,epochs=7, validation_data=(x_test_list,y_test_list),batch_size=32)\n",
    "        del x_train_list,x_test_list,y_train_list,y_test_list\n",
    "        gc.collect()\n",
    "        with open(f\"../automat/logs/{file_number}_data_control_energy.txt\",\"a\") as registro:\n",
    "            registro.write(f\"Al borrar memoria nos quedan {get_all_size(list(locals().items()))} Mb \\n\")\n",
    "        print(f\"\\n Al borrar memoria nos quedan {get_all_size(list(locals().items()))} Mb \\n\")\n",
    "        modelo2.save(f\"../modelos/{file_number}_modelo_filtro_{i}_en_boostrap_stage_{k+1}_energy.h5\")\n",
    "        with open(f\"../modelos/performances/{file_number}_history_modelo_filtro_{i}_en_boostrap_stage_{k+1}_energy.pickle\",\"wb\") as pick:\n",
    "            pickle.dump(hist,pick)    \n",
    "    del modelo2 \n",
    "    gc.collect()\n",
    "    tf.keras.backend.clear_session()\n",
    "    device.reset()\n",
    "\n",
    "        \n"
   ]
  },
  {
   "cell_type": "code",
   "execution_count": null,
   "metadata": {},
   "outputs": [],
   "source": []
  }
 ],
 "metadata": {
  "kernelspec": {
   "display_name": "tenflow",
   "language": "python",
   "name": "python3"
  },
  "language_info": {
   "codemirror_mode": {
    "name": "ipython",
    "version": 3
   },
   "file_extension": ".py",
   "mimetype": "text/x-python",
   "name": "python",
   "nbconvert_exporter": "python",
   "pygments_lexer": "ipython3",
   "version": "3.7.13"
  },
  "orig_nbformat": 4,
  "vscode": {
   "interpreter": {
    "hash": "625632e34438667797d745dfa197b544023682acc26137f69b08b406359121fc"
   }
  }
 },
 "nbformat": 4,
 "nbformat_minor": 2
}
